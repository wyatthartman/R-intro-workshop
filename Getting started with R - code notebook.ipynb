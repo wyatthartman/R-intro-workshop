{
 "cells": [
  {
   "cell_type": "markdown",
   "metadata": {},
   "source": [
    "# Getting started with R\n",
    "\n",
    "##### JGI Data Science training workshop - Feb 14, 2018\n",
    "Wyatt Hartman, Metagenome and Prokaryote Programs"
   ]
  },
  {
   "cell_type": "markdown",
   "metadata": {},
   "source": [
    "## Workshop Overview:\n",
    "This tutorial is designed primarily for new R users with no prior programming experience.  Code cells in this notebook show new users how to import and manipulate data, including their own data.  The goals of this workshop is to gain familiarity with the basics, not necessarily mastery.  I believe users will learn this material best by revisiting the code with an example of their own data in hand.  \n",
    "\n",
    "Relatively simple graphics are shown here, as this workshop will be followed by one on data visualization using the ggplot2 library. I recommend an excellent set of tutorials for those who cannot attend our ggplot workshop http://www.sthda.com/english/wiki/ggplot2-essentials.  \n",
    "\n",
    "For beginners in R, I strongly recommend using this site (http://www.sthda.com/) as a learning resource given the breadth, depth, and clarity of tutorials.  The site provides clear instructions for installing R on your own machine. You can also find tutorials to learn basic R programming and statistical methods on the site.\n",
    "\n",
    "For advanced programmers coming from another language, I recommend Advanced R to get you directly to the information you need http://adv-r.had.co.nz/.  Those experienced with Python might also find this mapping of data functions helpful: https://pandas.pydata.org/pandas-docs/stable/comparison_with_r.html "
   ]
  },
  {
   "cell_type": "markdown",
   "metadata": {},
   "source": [
    "## Learning Objectives:\n",
    "\n",
    "#### By working through this notebook, you will become familar with: \n",
    "    - R packages: Installing, Loading, getting help and data\n",
    "    - Reading and writing data\n",
    "    - Obtaining data from data frames\n",
    "    - Other data structures including matrices, vectors, strings, and lists\n",
    "    - aggregating and merging data\n",
    "    - Making simple plots"
   ]
  },
  {
   "cell_type": "markdown",
   "metadata": {},
   "source": [
    "## Outline:\n",
    "\n",
    "### 0) How to use this notebook\n",
    "\n",
    "### 1) Loading libraries and data\n",
    "    a) Working with packages\n",
    "    b) Working directory\n",
    "    c) Writing/reading data\n",
    "    d) Getting help with a function\n",
    "        \n",
    "### 2) Working with data: Data frames\n",
    "    a) Data frame basics\n",
    "    b) Selecting data from data frames\n",
    "    c) Making new data frames \n",
    "    d) Simple plotting exercises       \n",
    "        \n",
    "### 3) Simple workflow demonstration\n",
    "    a) Summarizing data\n",
    "    b) Aggregating data\n",
    "    c) Working with factors\n",
    "    d) Sorting data\n",
    "    e) Sorting factors (and plotting)\n",
    "    \n",
    "### 4) Using other data structures\n",
    "    a) Working with text (strings)\n",
    "    b) Dealing with missing data (NAs)\n",
    "    c) Merging data sets\n",
    "    d) Were Japanese cars more efficient?\n",
    "    \n",
    "### 5) Reshaping data\n",
    "    a) Transposing data\n",
    "    b) Re-casting data shape\n",
    "    c) Melting data\n",
    "    d) Why do US cars have such poor MPG?\n",
    "\n",
    "\n",
    "# Additional material \n",
    "### 6) Getting data from basic data structures\n",
    "    a) Getting data from a matrix\n",
    "    b) Adding new data to a matrix\n",
    "    c) Make a new matrix\n",
    "    d) Sweep a function across a matrix\n",
    "    e) Getting data from vectors\n",
    "    f) Getting data from lists\n",
    "\n",
    "### 7) Basic programming in R\n",
    "    a) For loops\n",
    "    b) Defining functions\n",
    "    c) Apply family of functions  \n"
   ]
  },
  {
   "cell_type": "raw",
   "metadata": {},
   "source": []
  },
  {
   "cell_type": "markdown",
   "metadata": {},
   "source": [
    "## 0) How to use this notebook"
   ]
  },
  {
   "cell_type": "markdown",
   "metadata": {},
   "source": [
    "### To run code in a cell, hold Shift + Return."
   ]
  },
  {
   "cell_type": "code",
   "execution_count": 1,
   "metadata": {
    "collapsed": true
   },
   "outputs": [],
   "source": [
    "                          # This is where comments on code live\n",
    "\n",
    "x <- 5                    # <- defines a variable"
   ]
  },
  {
   "cell_type": "code",
   "execution_count": 2,
   "metadata": {},
   "outputs": [
    {
     "data": {
      "text/html": [
       "5"
      ],
      "text/latex": [
       "5"
      ],
      "text/markdown": [
       "5"
      ],
      "text/plain": [
       "[1] 5"
      ]
     },
     "metadata": {},
     "output_type": "display_data"
    }
   ],
   "source": [
    "x                         # evaluate x"
   ]
  },
  {
   "cell_type": "code",
   "execution_count": 3,
   "metadata": {
    "collapsed": true
   },
   "outputs": [],
   "source": [
    "# x                       # \"#\" Comments out code  "
   ]
  },
  {
   "cell_type": "code",
   "execution_count": 4,
   "metadata": {},
   "outputs": [
    {
     "data": {
      "text/html": [
       "'hello world'"
      ],
      "text/latex": [
       "'hello world'"
      ],
      "text/markdown": [
       "'hello world'"
      ],
      "text/plain": [
       "[1] \"hello world\""
      ]
     },
     "metadata": {},
     "output_type": "display_data"
    }
   ],
   "source": [
    "hi <- \"hello world\"       # you too can write code\n",
    "hi                        # evaluate hi"
   ]
  },
  {
   "cell_type": "markdown",
   "metadata": {},
   "source": [
    "## 1) Loading libraries and data\n",
    "We begin by exploring packages in R, which are external bundles of code.  Packages come with documentation to help you learn them.  Often R packages are bundled with demonstration data sets which can be read separately.\n",
    "\n",
    "Using the included \"mtcars\" dataset, you will learn to load, write, and read data.  At this point you will be able to import your own data as well !   "
   ]
  },
  {
   "cell_type": "markdown",
   "metadata": {},
   "source": [
    "### a) Working with Packages"
   ]
  },
  {
   "cell_type": "code",
   "execution_count": 5,
   "metadata": {
    "collapsed": true
   },
   "outputs": [],
   "source": [
    "# To install a package in R\n",
    "# install.packages(\"car\")             # Or in Rstudio use Tools -> Install Packages"
   ]
  },
  {
   "cell_type": "code",
   "execution_count": 6,
   "metadata": {},
   "outputs": [
    {
     "name": "stderr",
     "output_type": "stream",
     "text": [
      "Warning message:\n",
      "“package ‘car’ was built under R version 3.4.3”"
     ]
    }
   ],
   "source": [
    "# Load a package\n",
    "library(\"car\")"
   ]
  },
  {
   "cell_type": "code",
   "execution_count": 7,
   "metadata": {
    "collapsed": true
   },
   "outputs": [],
   "source": [
    "# Get package help\n",
    "help(\"car\")                           # See documentation linked at URL: ...//CRAN.R...  Manual and vignette\n",
    "\n",
    "# data(package=\"car\")                 # view data sets that come with packages\n",
    "# vignette(\"hcl-colors\")              # some packages have included tutorials called vignettes"
   ]
  },
  {
   "cell_type": "code",
   "execution_count": 8,
   "metadata": {},
   "outputs": [
    {
     "data": {
      "text/html": [
       "<table>\n",
       "<thead><tr><th></th><th scope=col>mpg</th><th scope=col>cyl</th><th scope=col>disp</th><th scope=col>hp</th><th scope=col>drat</th><th scope=col>wt</th><th scope=col>qsec</th><th scope=col>vs</th><th scope=col>am</th><th scope=col>gear</th><th scope=col>carb</th></tr></thead>\n",
       "<tbody>\n",
       "\t<tr><th scope=row>Mazda RX4</th><td>21.0 </td><td>6    </td><td>160  </td><td>110  </td><td>3.90 </td><td>2.620</td><td>16.46</td><td>0    </td><td>1    </td><td>4    </td><td>4    </td></tr>\n",
       "\t<tr><th scope=row>Mazda RX4 Wag</th><td>21.0 </td><td>6    </td><td>160  </td><td>110  </td><td>3.90 </td><td>2.875</td><td>17.02</td><td>0    </td><td>1    </td><td>4    </td><td>4    </td></tr>\n",
       "\t<tr><th scope=row>Datsun 710</th><td>22.8 </td><td>4    </td><td>108  </td><td> 93  </td><td>3.85 </td><td>2.320</td><td>18.61</td><td>1    </td><td>1    </td><td>4    </td><td>1    </td></tr>\n",
       "\t<tr><th scope=row>Hornet 4 Drive</th><td>21.4 </td><td>6    </td><td>258  </td><td>110  </td><td>3.08 </td><td>3.215</td><td>19.44</td><td>1    </td><td>0    </td><td>3    </td><td>1    </td></tr>\n",
       "\t<tr><th scope=row>Hornet Sportabout</th><td>18.7 </td><td>8    </td><td>360  </td><td>175  </td><td>3.15 </td><td>3.440</td><td>17.02</td><td>0    </td><td>0    </td><td>3    </td><td>2    </td></tr>\n",
       "\t<tr><th scope=row>Valiant</th><td>18.1 </td><td>6    </td><td>225  </td><td>105  </td><td>2.76 </td><td>3.460</td><td>20.22</td><td>1    </td><td>0    </td><td>3    </td><td>1    </td></tr>\n",
       "</tbody>\n",
       "</table>\n"
      ],
      "text/latex": [
       "\\begin{tabular}{r|lllllllllll}\n",
       "  & mpg & cyl & disp & hp & drat & wt & qsec & vs & am & gear & carb\\\\\n",
       "\\hline\n",
       "\tMazda RX4 & 21.0  & 6     & 160   & 110   & 3.90  & 2.620 & 16.46 & 0     & 1     & 4     & 4    \\\\\n",
       "\tMazda RX4 Wag & 21.0  & 6     & 160   & 110   & 3.90  & 2.875 & 17.02 & 0     & 1     & 4     & 4    \\\\\n",
       "\tDatsun 710 & 22.8  & 4     & 108   &  93   & 3.85  & 2.320 & 18.61 & 1     & 1     & 4     & 1    \\\\\n",
       "\tHornet 4 Drive & 21.4  & 6     & 258   & 110   & 3.08  & 3.215 & 19.44 & 1     & 0     & 3     & 1    \\\\\n",
       "\tHornet Sportabout & 18.7  & 8     & 360   & 175   & 3.15  & 3.440 & 17.02 & 0     & 0     & 3     & 2    \\\\\n",
       "\tValiant & 18.1  & 6     & 225   & 105   & 2.76  & 3.460 & 20.22 & 1     & 0     & 3     & 1    \\\\\n",
       "\\end{tabular}\n"
      ],
      "text/markdown": [
       "\n",
       "| <!--/--> | mpg | cyl | disp | hp | drat | wt | qsec | vs | am | gear | carb | \n",
       "|---|---|---|---|---|---|\n",
       "| Mazda RX4 | 21.0  | 6     | 160   | 110   | 3.90  | 2.620 | 16.46 | 0     | 1     | 4     | 4     | \n",
       "| Mazda RX4 Wag | 21.0  | 6     | 160   | 110   | 3.90  | 2.875 | 17.02 | 0     | 1     | 4     | 4     | \n",
       "| Datsun 710 | 22.8  | 4     | 108   |  93   | 3.85  | 2.320 | 18.61 | 1     | 1     | 4     | 1     | \n",
       "| Hornet 4 Drive | 21.4  | 6     | 258   | 110   | 3.08  | 3.215 | 19.44 | 1     | 0     | 3     | 1     | \n",
       "| Hornet Sportabout | 18.7  | 8     | 360   | 175   | 3.15  | 3.440 | 17.02 | 0     | 0     | 3     | 2     | \n",
       "| Valiant | 18.1  | 6     | 225   | 105   | 2.76  | 3.460 | 20.22 | 1     | 0     | 3     | 1     | \n",
       "\n",
       "\n"
      ],
      "text/plain": [
       "                  mpg  cyl disp hp  drat wt    qsec  vs am gear carb\n",
       "Mazda RX4         21.0 6   160  110 3.90 2.620 16.46 0  1  4    4   \n",
       "Mazda RX4 Wag     21.0 6   160  110 3.90 2.875 17.02 0  1  4    4   \n",
       "Datsun 710        22.8 4   108   93 3.85 2.320 18.61 1  1  4    1   \n",
       "Hornet 4 Drive    21.4 6   258  110 3.08 3.215 19.44 1  0  3    1   \n",
       "Hornet Sportabout 18.7 8   360  175 3.15 3.440 17.02 0  0  3    2   \n",
       "Valiant           18.1 6   225  105 2.76 3.460 20.22 1  0  3    1   "
      ]
     },
     "metadata": {},
     "output_type": "display_data"
    }
   ],
   "source": [
    "# Load dataset from a package\n",
    "data(mtcars)\n",
    "\n",
    "# Show the first rows of this data \n",
    "head(mtcars)                          # head() shows first few rows of data"
   ]
  },
  {
   "cell_type": "markdown",
   "metadata": {},
   "source": [
    "### b) Working directory\n",
    "While not used in this demonstration, this makes working in R a lot easier.\n",
    "The working directory lets you call files by their name if they are in this folder. Otherwise, you have to specify the filepath );"
   ]
  },
  {
   "cell_type": "code",
   "execution_count": 9,
   "metadata": {},
   "outputs": [
    {
     "data": {
      "text/html": [
       "'/Volumes/due/Desktop/JGI_dataSci'"
      ],
      "text/latex": [
       "'/Volumes/due/Desktop/JGI\\_dataSci'"
      ],
      "text/markdown": [
       "'/Volumes/due/Desktop/JGI_dataSci'"
      ],
      "text/plain": [
       "[1] \"/Volumes/due/Desktop/JGI_dataSci\""
      ]
     },
     "metadata": {},
     "output_type": "display_data"
    }
   ],
   "source": [
    "# Before you start a project\n",
    "getwd()                          # what folder are you reading and writing data in?  [wd = working directory]\n",
    " \n",
    "# more typical \n",
    "# setwd(\"~Desktop/my_folder\")    # pick a folder on your desktop\n",
    "# getwd()                        # confirm you are in this folder"
   ]
  },
  {
   "cell_type": "markdown",
   "metadata": {},
   "source": [
    "### c) Writing / Reading data\n",
    "  \n",
    "Here we export and import data as tab delimited text, a preferred format. This can be obtained from Excel using Save As -> Format: Tab Delimited Text (.txt). Excel will read this data using the function Open -> Delimited -> Tab. \n",
    "\n",
    "Some will find comma separated text format (.csv) preferable, as Excel will read this format directly. There are also R packages to read Excel files directly (\"xlsx\", \"readxl\"), which are not covered here. I recommend working with tab delimited text instead of using these. "
   ]
  },
  {
   "cell_type": "code",
   "execution_count": 10,
   "metadata": {
    "collapsed": true
   },
   "outputs": [],
   "source": [
    "# Save the data as a text file\n",
    "write.table(mtcars, \"cars_tab.txt\", sep=\"\\t\")                # write table, tab separated (sep='\\t')"
   ]
  },
  {
   "cell_type": "code",
   "execution_count": 11,
   "metadata": {},
   "outputs": [
    {
     "data": {
      "text/html": [
       "<table>\n",
       "<thead><tr><th></th><th scope=col>mpg</th><th scope=col>cyl</th><th scope=col>disp</th><th scope=col>hp</th><th scope=col>drat</th><th scope=col>wt</th><th scope=col>qsec</th><th scope=col>vs</th><th scope=col>am</th><th scope=col>gear</th><th scope=col>carb</th></tr></thead>\n",
       "<tbody>\n",
       "\t<tr><th scope=row>Mazda RX4</th><td>21.0 </td><td>6    </td><td>160  </td><td>110  </td><td>3.90 </td><td>2.620</td><td>16.46</td><td>0    </td><td>1    </td><td>4    </td><td>4    </td></tr>\n",
       "\t<tr><th scope=row>Mazda RX4 Wag</th><td>21.0 </td><td>6    </td><td>160  </td><td>110  </td><td>3.90 </td><td>2.875</td><td>17.02</td><td>0    </td><td>1    </td><td>4    </td><td>4    </td></tr>\n",
       "\t<tr><th scope=row>Datsun 710</th><td>22.8 </td><td>4    </td><td>108  </td><td> 93  </td><td>3.85 </td><td>2.320</td><td>18.61</td><td>1    </td><td>1    </td><td>4    </td><td>1    </td></tr>\n",
       "\t<tr><th scope=row>Hornet 4 Drive</th><td>21.4 </td><td>6    </td><td>258  </td><td>110  </td><td>3.08 </td><td>3.215</td><td>19.44</td><td>1    </td><td>0    </td><td>3    </td><td>1    </td></tr>\n",
       "\t<tr><th scope=row>Hornet Sportabout</th><td>18.7 </td><td>8    </td><td>360  </td><td>175  </td><td>3.15 </td><td>3.440</td><td>17.02</td><td>0    </td><td>0    </td><td>3    </td><td>2    </td></tr>\n",
       "\t<tr><th scope=row>Valiant</th><td>18.1 </td><td>6    </td><td>225  </td><td>105  </td><td>2.76 </td><td>3.460</td><td>20.22</td><td>1    </td><td>0    </td><td>3    </td><td>1    </td></tr>\n",
       "</tbody>\n",
       "</table>\n"
      ],
      "text/latex": [
       "\\begin{tabular}{r|lllllllllll}\n",
       "  & mpg & cyl & disp & hp & drat & wt & qsec & vs & am & gear & carb\\\\\n",
       "\\hline\n",
       "\tMazda RX4 & 21.0  & 6     & 160   & 110   & 3.90  & 2.620 & 16.46 & 0     & 1     & 4     & 4    \\\\\n",
       "\tMazda RX4 Wag & 21.0  & 6     & 160   & 110   & 3.90  & 2.875 & 17.02 & 0     & 1     & 4     & 4    \\\\\n",
       "\tDatsun 710 & 22.8  & 4     & 108   &  93   & 3.85  & 2.320 & 18.61 & 1     & 1     & 4     & 1    \\\\\n",
       "\tHornet 4 Drive & 21.4  & 6     & 258   & 110   & 3.08  & 3.215 & 19.44 & 1     & 0     & 3     & 1    \\\\\n",
       "\tHornet Sportabout & 18.7  & 8     & 360   & 175   & 3.15  & 3.440 & 17.02 & 0     & 0     & 3     & 2    \\\\\n",
       "\tValiant & 18.1  & 6     & 225   & 105   & 2.76  & 3.460 & 20.22 & 1     & 0     & 3     & 1    \\\\\n",
       "\\end{tabular}\n"
      ],
      "text/markdown": [
       "\n",
       "| <!--/--> | mpg | cyl | disp | hp | drat | wt | qsec | vs | am | gear | carb | \n",
       "|---|---|---|---|---|---|\n",
       "| Mazda RX4 | 21.0  | 6     | 160   | 110   | 3.90  | 2.620 | 16.46 | 0     | 1     | 4     | 4     | \n",
       "| Mazda RX4 Wag | 21.0  | 6     | 160   | 110   | 3.90  | 2.875 | 17.02 | 0     | 1     | 4     | 4     | \n",
       "| Datsun 710 | 22.8  | 4     | 108   |  93   | 3.85  | 2.320 | 18.61 | 1     | 1     | 4     | 1     | \n",
       "| Hornet 4 Drive | 21.4  | 6     | 258   | 110   | 3.08  | 3.215 | 19.44 | 1     | 0     | 3     | 1     | \n",
       "| Hornet Sportabout | 18.7  | 8     | 360   | 175   | 3.15  | 3.440 | 17.02 | 0     | 0     | 3     | 2     | \n",
       "| Valiant | 18.1  | 6     | 225   | 105   | 2.76  | 3.460 | 20.22 | 1     | 0     | 3     | 1     | \n",
       "\n",
       "\n"
      ],
      "text/plain": [
       "                  mpg  cyl disp hp  drat wt    qsec  vs am gear carb\n",
       "Mazda RX4         21.0 6   160  110 3.90 2.620 16.46 0  1  4    4   \n",
       "Mazda RX4 Wag     21.0 6   160  110 3.90 2.875 17.02 0  1  4    4   \n",
       "Datsun 710        22.8 4   108   93 3.85 2.320 18.61 1  1  4    1   \n",
       "Hornet 4 Drive    21.4 6   258  110 3.08 3.215 19.44 1  0  3    1   \n",
       "Hornet Sportabout 18.7 8   360  175 3.15 3.440 17.02 0  0  3    2   \n",
       "Valiant           18.1 6   225  105 2.76 3.460 20.22 1  0  3    1   "
      ]
     },
     "metadata": {},
     "output_type": "display_data"
    }
   ],
   "source": [
    "# Read data from text file\n",
    "newcar <-read.table(\"cars_tab.txt\", header=TRUE, sep=\"\\t\")   # read tab separated table, with column names\n",
    "head(newcar)"
   ]
  },
  {
   "cell_type": "markdown",
   "metadata": {},
   "source": [
    "### d) Get documentation for a function\n",
    "Arguments to a function are listed, then explained below. Arguments with \"=\" in function description are OPTIONAL.\n",
    "These args. have defaults (shown), which can be modified.  Each argument is explained in documentation. Example use of function is shown at the end of documentation.  "
   ]
  },
  {
   "cell_type": "code",
   "execution_count": 12,
   "metadata": {
    "collapsed": true
   },
   "outputs": [],
   "source": [
    "# Get documentation for a function\n",
    "?read.table                                 "
   ]
  },
  {
   "cell_type": "code",
   "execution_count": 13,
   "metadata": {
    "collapsed": true
   },
   "outputs": [],
   "source": [
    "# If you insist on writing/reading with .csv files\n",
    "# ?write.csv\n",
    "# ?read.csv"
   ]
  },
  {
   "cell_type": "markdown",
   "metadata": {},
   "source": [
    "## 2) Working with data: Data Frames\n",
    "\n",
    "A data frame is an object that functions like a spreadsheet. Data frames can hold both numbers and text, unlike a Data matrix which contains only numbers.   \n",
    "\n",
    "By making your data frame (spreadsheet) an object, you can easily manipulate it.  First we will want to know how to get information about our data.  Then we will walk through how to access and extract data. "
   ]
  },
  {
   "cell_type": "markdown",
   "metadata": {},
   "source": [
    "### a) Data frame basics\n",
    "Get dataset info, column and row names. Add new columns"
   ]
  },
  {
   "cell_type": "code",
   "execution_count": 14,
   "metadata": {},
   "outputs": [
    {
     "data": {
      "text/html": [
       "<dl>\n",
       "\t<dt>$names</dt>\n",
       "\t\t<dd><ol class=list-inline>\n",
       "\t<li>'mpg'</li>\n",
       "\t<li>'cyl'</li>\n",
       "\t<li>'disp'</li>\n",
       "\t<li>'hp'</li>\n",
       "\t<li>'drat'</li>\n",
       "\t<li>'wt'</li>\n",
       "\t<li>'qsec'</li>\n",
       "\t<li>'vs'</li>\n",
       "\t<li>'am'</li>\n",
       "\t<li>'gear'</li>\n",
       "\t<li>'carb'</li>\n",
       "</ol>\n",
       "</dd>\n",
       "\t<dt>$class</dt>\n",
       "\t\t<dd>'data.frame'</dd>\n",
       "\t<dt>$row.names</dt>\n",
       "\t\t<dd><ol class=list-inline>\n",
       "\t<li>'Mazda RX4'</li>\n",
       "\t<li>'Mazda RX4 Wag'</li>\n",
       "\t<li>'Datsun 710'</li>\n",
       "\t<li>'Hornet 4 Drive'</li>\n",
       "\t<li>'Hornet Sportabout'</li>\n",
       "\t<li>'Valiant'</li>\n",
       "\t<li>'Duster 360'</li>\n",
       "\t<li>'Merc 240D'</li>\n",
       "\t<li>'Merc 230'</li>\n",
       "\t<li>'Merc 280'</li>\n",
       "\t<li>'Merc 280C'</li>\n",
       "\t<li>'Merc 450SE'</li>\n",
       "\t<li>'Merc 450SL'</li>\n",
       "\t<li>'Merc 450SLC'</li>\n",
       "\t<li>'Cadillac Fleetwood'</li>\n",
       "\t<li>'Lincoln Continental'</li>\n",
       "\t<li>'Chrysler Imperial'</li>\n",
       "\t<li>'Fiat 128'</li>\n",
       "\t<li>'Honda Civic'</li>\n",
       "\t<li>'Toyota Corolla'</li>\n",
       "\t<li>'Toyota Corona'</li>\n",
       "\t<li>'Dodge Challenger'</li>\n",
       "\t<li>'AMC Javelin'</li>\n",
       "\t<li>'Camaro Z28'</li>\n",
       "\t<li>'Pontiac Firebird'</li>\n",
       "\t<li>'Fiat X1-9'</li>\n",
       "\t<li>'Porsche 914-2'</li>\n",
       "\t<li>'Lotus Europa'</li>\n",
       "\t<li>'Ford Pantera L'</li>\n",
       "\t<li>'Ferrari Dino'</li>\n",
       "\t<li>'Maserati Bora'</li>\n",
       "\t<li>'Volvo 142E'</li>\n",
       "</ol>\n",
       "</dd>\n",
       "</dl>\n"
      ],
      "text/latex": [
       "\\begin{description}\n",
       "\\item[\\$names] \\begin{enumerate*}\n",
       "\\item 'mpg'\n",
       "\\item 'cyl'\n",
       "\\item 'disp'\n",
       "\\item 'hp'\n",
       "\\item 'drat'\n",
       "\\item 'wt'\n",
       "\\item 'qsec'\n",
       "\\item 'vs'\n",
       "\\item 'am'\n",
       "\\item 'gear'\n",
       "\\item 'carb'\n",
       "\\end{enumerate*}\n",
       "\n",
       "\\item[\\$class] 'data.frame'\n",
       "\\item[\\$row.names] \\begin{enumerate*}\n",
       "\\item 'Mazda RX4'\n",
       "\\item 'Mazda RX4 Wag'\n",
       "\\item 'Datsun 710'\n",
       "\\item 'Hornet 4 Drive'\n",
       "\\item 'Hornet Sportabout'\n",
       "\\item 'Valiant'\n",
       "\\item 'Duster 360'\n",
       "\\item 'Merc 240D'\n",
       "\\item 'Merc 230'\n",
       "\\item 'Merc 280'\n",
       "\\item 'Merc 280C'\n",
       "\\item 'Merc 450SE'\n",
       "\\item 'Merc 450SL'\n",
       "\\item 'Merc 450SLC'\n",
       "\\item 'Cadillac Fleetwood'\n",
       "\\item 'Lincoln Continental'\n",
       "\\item 'Chrysler Imperial'\n",
       "\\item 'Fiat 128'\n",
       "\\item 'Honda Civic'\n",
       "\\item 'Toyota Corolla'\n",
       "\\item 'Toyota Corona'\n",
       "\\item 'Dodge Challenger'\n",
       "\\item 'AMC Javelin'\n",
       "\\item 'Camaro Z28'\n",
       "\\item 'Pontiac Firebird'\n",
       "\\item 'Fiat X1-9'\n",
       "\\item 'Porsche 914-2'\n",
       "\\item 'Lotus Europa'\n",
       "\\item 'Ford Pantera L'\n",
       "\\item 'Ferrari Dino'\n",
       "\\item 'Maserati Bora'\n",
       "\\item 'Volvo 142E'\n",
       "\\end{enumerate*}\n",
       "\n",
       "\\end{description}\n"
      ],
      "text/markdown": [
       "$names\n",
       ":   1. 'mpg'\n",
       "2. 'cyl'\n",
       "3. 'disp'\n",
       "4. 'hp'\n",
       "5. 'drat'\n",
       "6. 'wt'\n",
       "7. 'qsec'\n",
       "8. 'vs'\n",
       "9. 'am'\n",
       "10. 'gear'\n",
       "11. 'carb'\n",
       "\n",
       "\n",
       "\n",
       "$class\n",
       ":   'data.frame'\n",
       "$row.names\n",
       ":   1. 'Mazda RX4'\n",
       "2. 'Mazda RX4 Wag'\n",
       "3. 'Datsun 710'\n",
       "4. 'Hornet 4 Drive'\n",
       "5. 'Hornet Sportabout'\n",
       "6. 'Valiant'\n",
       "7. 'Duster 360'\n",
       "8. 'Merc 240D'\n",
       "9. 'Merc 230'\n",
       "10. 'Merc 280'\n",
       "11. 'Merc 280C'\n",
       "12. 'Merc 450SE'\n",
       "13. 'Merc 450SL'\n",
       "14. 'Merc 450SLC'\n",
       "15. 'Cadillac Fleetwood'\n",
       "16. 'Lincoln Continental'\n",
       "17. 'Chrysler Imperial'\n",
       "18. 'Fiat 128'\n",
       "19. 'Honda Civic'\n",
       "20. 'Toyota Corolla'\n",
       "21. 'Toyota Corona'\n",
       "22. 'Dodge Challenger'\n",
       "23. 'AMC Javelin'\n",
       "24. 'Camaro Z28'\n",
       "25. 'Pontiac Firebird'\n",
       "26. 'Fiat X1-9'\n",
       "27. 'Porsche 914-2'\n",
       "28. 'Lotus Europa'\n",
       "29. 'Ford Pantera L'\n",
       "30. 'Ferrari Dino'\n",
       "31. 'Maserati Bora'\n",
       "32. 'Volvo 142E'\n",
       "\n",
       "\n",
       "\n",
       "\n",
       "\n"
      ],
      "text/plain": [
       "$names\n",
       " [1] \"mpg\"  \"cyl\"  \"disp\" \"hp\"   \"drat\" \"wt\"   \"qsec\" \"vs\"   \"am\"   \"gear\"\n",
       "[11] \"carb\"\n",
       "\n",
       "$class\n",
       "[1] \"data.frame\"\n",
       "\n",
       "$row.names\n",
       " [1] \"Mazda RX4\"           \"Mazda RX4 Wag\"       \"Datsun 710\"         \n",
       " [4] \"Hornet 4 Drive\"      \"Hornet Sportabout\"   \"Valiant\"            \n",
       " [7] \"Duster 360\"          \"Merc 240D\"           \"Merc 230\"           \n",
       "[10] \"Merc 280\"            \"Merc 280C\"           \"Merc 450SE\"         \n",
       "[13] \"Merc 450SL\"          \"Merc 450SLC\"         \"Cadillac Fleetwood\" \n",
       "[16] \"Lincoln Continental\" \"Chrysler Imperial\"   \"Fiat 128\"           \n",
       "[19] \"Honda Civic\"         \"Toyota Corolla\"      \"Toyota Corona\"      \n",
       "[22] \"Dodge Challenger\"    \"AMC Javelin\"         \"Camaro Z28\"         \n",
       "[25] \"Pontiac Firebird\"    \"Fiat X1-9\"           \"Porsche 914-2\"      \n",
       "[28] \"Lotus Europa\"        \"Ford Pantera L\"      \"Ferrari Dino\"       \n",
       "[31] \"Maserati Bora\"       \"Volvo 142E\"         \n"
      ]
     },
     "metadata": {},
     "output_type": "display_data"
    }
   ],
   "source": [
    "# Get information about an object, here a data frame            \n",
    "attributes(newcar)                                     # tell me about newcar "
   ]
  },
  {
   "cell_type": "code",
   "execution_count": 15,
   "metadata": {},
   "outputs": [
    {
     "data": {
      "text/html": [
       "<ol class=list-inline>\n",
       "\t<li>32</li>\n",
       "\t<li>11</li>\n",
       "</ol>\n"
      ],
      "text/latex": [
       "\\begin{enumerate*}\n",
       "\\item 32\n",
       "\\item 11\n",
       "\\end{enumerate*}\n"
      ],
      "text/markdown": [
       "1. 32\n",
       "2. 11\n",
       "\n",
       "\n"
      ],
      "text/plain": [
       "[1] 32 11"
      ]
     },
     "metadata": {},
     "output_type": "display_data"
    },
    {
     "data": {
      "text/html": [
       "<ol class=list-inline>\n",
       "\t<li>'mpg'</li>\n",
       "\t<li>'cyl'</li>\n",
       "\t<li>'disp'</li>\n",
       "\t<li>'hp'</li>\n",
       "\t<li>'drat'</li>\n",
       "\t<li>'wt'</li>\n",
       "\t<li>'qsec'</li>\n",
       "\t<li>'vs'</li>\n",
       "\t<li>'am'</li>\n",
       "\t<li>'gear'</li>\n",
       "\t<li>'carb'</li>\n",
       "</ol>\n"
      ],
      "text/latex": [
       "\\begin{enumerate*}\n",
       "\\item 'mpg'\n",
       "\\item 'cyl'\n",
       "\\item 'disp'\n",
       "\\item 'hp'\n",
       "\\item 'drat'\n",
       "\\item 'wt'\n",
       "\\item 'qsec'\n",
       "\\item 'vs'\n",
       "\\item 'am'\n",
       "\\item 'gear'\n",
       "\\item 'carb'\n",
       "\\end{enumerate*}\n"
      ],
      "text/markdown": [
       "1. 'mpg'\n",
       "2. 'cyl'\n",
       "3. 'disp'\n",
       "4. 'hp'\n",
       "5. 'drat'\n",
       "6. 'wt'\n",
       "7. 'qsec'\n",
       "8. 'vs'\n",
       "9. 'am'\n",
       "10. 'gear'\n",
       "11. 'carb'\n",
       "\n",
       "\n"
      ],
      "text/plain": [
       " [1] \"mpg\"  \"cyl\"  \"disp\" \"hp\"   \"drat\" \"wt\"   \"qsec\" \"vs\"   \"am\"   \"gear\"\n",
       "[11] \"carb\""
      ]
     },
     "metadata": {},
     "output_type": "display_data"
    }
   ],
   "source": [
    "# More ways to get information about this dataframe: \n",
    "dim(newcar)                                            # get dimensions of dataset in rows and columns\n",
    "colnames(newcar)                                       # get column names"
   ]
  },
  {
   "cell_type": "code",
   "execution_count": 16,
   "metadata": {},
   "outputs": [
    {
     "data": {
      "text/html": [
       "<ol class=list-inline>\n",
       "\t<li>'Mazda RX4'</li>\n",
       "\t<li>'Mazda RX4 Wag'</li>\n",
       "\t<li>'Datsun 710'</li>\n",
       "\t<li>'Hornet 4 Drive'</li>\n",
       "\t<li>'Hornet Sportabout'</li>\n",
       "\t<li>'Valiant'</li>\n",
       "\t<li>'Duster 360'</li>\n",
       "\t<li>'Merc 240D'</li>\n",
       "\t<li>'Merc 230'</li>\n",
       "\t<li>'Merc 280'</li>\n",
       "\t<li>'Merc 280C'</li>\n",
       "\t<li>'Merc 450SE'</li>\n",
       "\t<li>'Merc 450SL'</li>\n",
       "\t<li>'Merc 450SLC'</li>\n",
       "\t<li>'Cadillac Fleetwood'</li>\n",
       "\t<li>'Lincoln Continental'</li>\n",
       "\t<li>'Chrysler Imperial'</li>\n",
       "\t<li>'Fiat 128'</li>\n",
       "\t<li>'Honda Civic'</li>\n",
       "\t<li>'Toyota Corolla'</li>\n",
       "\t<li>'Toyota Corona'</li>\n",
       "\t<li>'Dodge Challenger'</li>\n",
       "\t<li>'AMC Javelin'</li>\n",
       "\t<li>'Camaro Z28'</li>\n",
       "\t<li>'Pontiac Firebird'</li>\n",
       "\t<li>'Fiat X1-9'</li>\n",
       "\t<li>'Porsche 914-2'</li>\n",
       "\t<li>'Lotus Europa'</li>\n",
       "\t<li>'Ford Pantera L'</li>\n",
       "\t<li>'Ferrari Dino'</li>\n",
       "\t<li>'Maserati Bora'</li>\n",
       "\t<li>'Volvo 142E'</li>\n",
       "</ol>\n"
      ],
      "text/latex": [
       "\\begin{enumerate*}\n",
       "\\item 'Mazda RX4'\n",
       "\\item 'Mazda RX4 Wag'\n",
       "\\item 'Datsun 710'\n",
       "\\item 'Hornet 4 Drive'\n",
       "\\item 'Hornet Sportabout'\n",
       "\\item 'Valiant'\n",
       "\\item 'Duster 360'\n",
       "\\item 'Merc 240D'\n",
       "\\item 'Merc 230'\n",
       "\\item 'Merc 280'\n",
       "\\item 'Merc 280C'\n",
       "\\item 'Merc 450SE'\n",
       "\\item 'Merc 450SL'\n",
       "\\item 'Merc 450SLC'\n",
       "\\item 'Cadillac Fleetwood'\n",
       "\\item 'Lincoln Continental'\n",
       "\\item 'Chrysler Imperial'\n",
       "\\item 'Fiat 128'\n",
       "\\item 'Honda Civic'\n",
       "\\item 'Toyota Corolla'\n",
       "\\item 'Toyota Corona'\n",
       "\\item 'Dodge Challenger'\n",
       "\\item 'AMC Javelin'\n",
       "\\item 'Camaro Z28'\n",
       "\\item 'Pontiac Firebird'\n",
       "\\item 'Fiat X1-9'\n",
       "\\item 'Porsche 914-2'\n",
       "\\item 'Lotus Europa'\n",
       "\\item 'Ford Pantera L'\n",
       "\\item 'Ferrari Dino'\n",
       "\\item 'Maserati Bora'\n",
       "\\item 'Volvo 142E'\n",
       "\\end{enumerate*}\n"
      ],
      "text/markdown": [
       "1. 'Mazda RX4'\n",
       "2. 'Mazda RX4 Wag'\n",
       "3. 'Datsun 710'\n",
       "4. 'Hornet 4 Drive'\n",
       "5. 'Hornet Sportabout'\n",
       "6. 'Valiant'\n",
       "7. 'Duster 360'\n",
       "8. 'Merc 240D'\n",
       "9. 'Merc 230'\n",
       "10. 'Merc 280'\n",
       "11. 'Merc 280C'\n",
       "12. 'Merc 450SE'\n",
       "13. 'Merc 450SL'\n",
       "14. 'Merc 450SLC'\n",
       "15. 'Cadillac Fleetwood'\n",
       "16. 'Lincoln Continental'\n",
       "17. 'Chrysler Imperial'\n",
       "18. 'Fiat 128'\n",
       "19. 'Honda Civic'\n",
       "20. 'Toyota Corolla'\n",
       "21. 'Toyota Corona'\n",
       "22. 'Dodge Challenger'\n",
       "23. 'AMC Javelin'\n",
       "24. 'Camaro Z28'\n",
       "25. 'Pontiac Firebird'\n",
       "26. 'Fiat X1-9'\n",
       "27. 'Porsche 914-2'\n",
       "28. 'Lotus Europa'\n",
       "29. 'Ford Pantera L'\n",
       "30. 'Ferrari Dino'\n",
       "31. 'Maserati Bora'\n",
       "32. 'Volvo 142E'\n",
       "\n",
       "\n"
      ],
      "text/plain": [
       " [1] \"Mazda RX4\"           \"Mazda RX4 Wag\"       \"Datsun 710\"         \n",
       " [4] \"Hornet 4 Drive\"      \"Hornet Sportabout\"   \"Valiant\"            \n",
       " [7] \"Duster 360\"          \"Merc 240D\"           \"Merc 230\"           \n",
       "[10] \"Merc 280\"            \"Merc 280C\"           \"Merc 450SE\"         \n",
       "[13] \"Merc 450SL\"          \"Merc 450SLC\"         \"Cadillac Fleetwood\" \n",
       "[16] \"Lincoln Continental\" \"Chrysler Imperial\"   \"Fiat 128\"           \n",
       "[19] \"Honda Civic\"         \"Toyota Corolla\"      \"Toyota Corona\"      \n",
       "[22] \"Dodge Challenger\"    \"AMC Javelin\"         \"Camaro Z28\"         \n",
       "[25] \"Pontiac Firebird\"    \"Fiat X1-9\"           \"Porsche 914-2\"      \n",
       "[28] \"Lotus Europa\"        \"Ford Pantera L\"      \"Ferrari Dino\"       \n",
       "[31] \"Maserati Bora\"       \"Volvo 142E\"         "
      ]
     },
     "metadata": {},
     "output_type": "display_data"
    },
    {
     "data": {
      "text/html": [
       "32"
      ],
      "text/latex": [
       "32"
      ],
      "text/markdown": [
       "32"
      ],
      "text/plain": [
       "[1] 32"
      ]
     },
     "metadata": {},
     "output_type": "display_data"
    }
   ],
   "source": [
    "# Assign row names to a new variable\n",
    "car_model <- row.names(newcar)                         # get row names, assign to new variable\n",
    "car_model                                              # show data\n",
    "length(car_model)                                      # get length of this vector"
   ]
  },
  {
   "cell_type": "code",
   "execution_count": 17,
   "metadata": {},
   "outputs": [
    {
     "data": {
      "text/html": [
       "<table>\n",
       "<thead><tr><th></th><th scope=col>mpg</th><th scope=col>cyl</th><th scope=col>disp</th><th scope=col>hp</th><th scope=col>drat</th><th scope=col>wt</th><th scope=col>qsec</th><th scope=col>vs</th><th scope=col>am</th><th scope=col>gear</th><th scope=col>carb</th><th scope=col>model</th></tr></thead>\n",
       "<tbody>\n",
       "\t<tr><th scope=row>Mazda RX4</th><td>21.0             </td><td>6                </td><td>160              </td><td>110              </td><td>3.90             </td><td>2.620            </td><td>16.46            </td><td>0                </td><td>1                </td><td>4                </td><td>4                </td><td>Mazda RX4        </td></tr>\n",
       "\t<tr><th scope=row>Mazda RX4 Wag</th><td>21.0             </td><td>6                </td><td>160              </td><td>110              </td><td>3.90             </td><td>2.875            </td><td>17.02            </td><td>0                </td><td>1                </td><td>4                </td><td>4                </td><td>Mazda RX4 Wag    </td></tr>\n",
       "\t<tr><th scope=row>Datsun 710</th><td>22.8             </td><td>4                </td><td>108              </td><td> 93              </td><td>3.85             </td><td>2.320            </td><td>18.61            </td><td>1                </td><td>1                </td><td>4                </td><td>1                </td><td>Datsun 710       </td></tr>\n",
       "\t<tr><th scope=row>Hornet 4 Drive</th><td>21.4             </td><td>6                </td><td>258              </td><td>110              </td><td>3.08             </td><td>3.215            </td><td>19.44            </td><td>1                </td><td>0                </td><td>3                </td><td>1                </td><td>Hornet 4 Drive   </td></tr>\n",
       "\t<tr><th scope=row>Hornet Sportabout</th><td>18.7             </td><td>8                </td><td>360              </td><td>175              </td><td>3.15             </td><td>3.440            </td><td>17.02            </td><td>0                </td><td>0                </td><td>3                </td><td>2                </td><td>Hornet Sportabout</td></tr>\n",
       "\t<tr><th scope=row>Valiant</th><td>18.1             </td><td>6                </td><td>225              </td><td>105              </td><td>2.76             </td><td>3.460            </td><td>20.22            </td><td>1                </td><td>0                </td><td>3                </td><td>1                </td><td>Valiant          </td></tr>\n",
       "</tbody>\n",
       "</table>\n"
      ],
      "text/latex": [
       "\\begin{tabular}{r|llllllllllll}\n",
       "  & mpg & cyl & disp & hp & drat & wt & qsec & vs & am & gear & carb & model\\\\\n",
       "\\hline\n",
       "\tMazda RX4 & 21.0              & 6                 & 160               & 110               & 3.90              & 2.620             & 16.46             & 0                 & 1                 & 4                 & 4                 & Mazda RX4        \\\\\n",
       "\tMazda RX4 Wag & 21.0              & 6                 & 160               & 110               & 3.90              & 2.875             & 17.02             & 0                 & 1                 & 4                 & 4                 & Mazda RX4 Wag    \\\\\n",
       "\tDatsun 710 & 22.8              & 4                 & 108               &  93               & 3.85              & 2.320             & 18.61             & 1                 & 1                 & 4                 & 1                 & Datsun 710       \\\\\n",
       "\tHornet 4 Drive & 21.4              & 6                 & 258               & 110               & 3.08              & 3.215             & 19.44             & 1                 & 0                 & 3                 & 1                 & Hornet 4 Drive   \\\\\n",
       "\tHornet Sportabout & 18.7              & 8                 & 360               & 175               & 3.15              & 3.440             & 17.02             & 0                 & 0                 & 3                 & 2                 & Hornet Sportabout\\\\\n",
       "\tValiant & 18.1              & 6                 & 225               & 105               & 2.76              & 3.460             & 20.22             & 1                 & 0                 & 3                 & 1                 & Valiant          \\\\\n",
       "\\end{tabular}\n"
      ],
      "text/markdown": [
       "\n",
       "| <!--/--> | mpg | cyl | disp | hp | drat | wt | qsec | vs | am | gear | carb | model | \n",
       "|---|---|---|---|---|---|\n",
       "| Mazda RX4 | 21.0              | 6                 | 160               | 110               | 3.90              | 2.620             | 16.46             | 0                 | 1                 | 4                 | 4                 | Mazda RX4         | \n",
       "| Mazda RX4 Wag | 21.0              | 6                 | 160               | 110               | 3.90              | 2.875             | 17.02             | 0                 | 1                 | 4                 | 4                 | Mazda RX4 Wag     | \n",
       "| Datsun 710 | 22.8              | 4                 | 108               |  93               | 3.85              | 2.320             | 18.61             | 1                 | 1                 | 4                 | 1                 | Datsun 710        | \n",
       "| Hornet 4 Drive | 21.4              | 6                 | 258               | 110               | 3.08              | 3.215             | 19.44             | 1                 | 0                 | 3                 | 1                 | Hornet 4 Drive    | \n",
       "| Hornet Sportabout | 18.7              | 8                 | 360               | 175               | 3.15              | 3.440             | 17.02             | 0                 | 0                 | 3                 | 2                 | Hornet Sportabout | \n",
       "| Valiant | 18.1              | 6                 | 225               | 105               | 2.76              | 3.460             | 20.22             | 1                 | 0                 | 3                 | 1                 | Valiant           | \n",
       "\n",
       "\n"
      ],
      "text/plain": [
       "                  mpg  cyl disp hp  drat wt    qsec  vs am gear carb\n",
       "Mazda RX4         21.0 6   160  110 3.90 2.620 16.46 0  1  4    4   \n",
       "Mazda RX4 Wag     21.0 6   160  110 3.90 2.875 17.02 0  1  4    4   \n",
       "Datsun 710        22.8 4   108   93 3.85 2.320 18.61 1  1  4    1   \n",
       "Hornet 4 Drive    21.4 6   258  110 3.08 3.215 19.44 1  0  3    1   \n",
       "Hornet Sportabout 18.7 8   360  175 3.15 3.440 17.02 0  0  3    2   \n",
       "Valiant           18.1 6   225  105 2.76 3.460 20.22 1  0  3    1   \n",
       "                  model            \n",
       "Mazda RX4         Mazda RX4        \n",
       "Mazda RX4 Wag     Mazda RX4 Wag    \n",
       "Datsun 710        Datsun 710       \n",
       "Hornet 4 Drive    Hornet 4 Drive   \n",
       "Hornet Sportabout Hornet Sportabout\n",
       "Valiant           Valiant          "
      ]
     },
     "metadata": {},
     "output_type": "display_data"
    }
   ],
   "source": [
    "# Add variable to dataset as column\n",
    "newcar$model <- car_model                              # \"$\" indicates column in dataframe, <- assigns car_model data \n",
    "head(newcar)                                           # show first few rows"
   ]
  },
  {
   "cell_type": "code",
   "execution_count": 18,
   "metadata": {},
   "outputs": [
    {
     "name": "stderr",
     "output_type": "stream",
     "text": [
      "Warning message in data.matrix(newcar):\n",
      "“NAs introduced by coercion”"
     ]
    },
    {
     "data": {
      "text/html": [
       "<table>\n",
       "<thead><tr><th></th><th scope=col>mpg</th><th scope=col>cyl</th><th scope=col>disp</th><th scope=col>hp</th><th scope=col>drat</th><th scope=col>wt</th><th scope=col>qsec</th><th scope=col>vs</th><th scope=col>am</th><th scope=col>gear</th><th scope=col>carb</th><th scope=col>model</th></tr></thead>\n",
       "<tbody>\n",
       "\t<tr><th scope=row>Porsche 914-2</th><td>26.0 </td><td>4    </td><td>120.3</td><td> 91  </td><td>4.43 </td><td>2.140</td><td>16.7 </td><td>0    </td><td>1    </td><td>5    </td><td>2    </td><td>NA   </td></tr>\n",
       "\t<tr><th scope=row>Lotus Europa</th><td>30.4 </td><td>4    </td><td> 95.1</td><td>113  </td><td>3.77 </td><td>1.513</td><td>16.9 </td><td>1    </td><td>1    </td><td>5    </td><td>2    </td><td>NA   </td></tr>\n",
       "\t<tr><th scope=row>Ford Pantera L</th><td>15.8 </td><td>8    </td><td>351.0</td><td>264  </td><td>4.22 </td><td>3.170</td><td>14.5 </td><td>0    </td><td>1    </td><td>5    </td><td>4    </td><td>NA   </td></tr>\n",
       "\t<tr><th scope=row>Ferrari Dino</th><td>19.7 </td><td>6    </td><td>145.0</td><td>175  </td><td>3.62 </td><td>2.770</td><td>15.5 </td><td>0    </td><td>1    </td><td>5    </td><td>6    </td><td>NA   </td></tr>\n",
       "\t<tr><th scope=row>Maserati Bora</th><td>15.0 </td><td>8    </td><td>301.0</td><td>335  </td><td>3.54 </td><td>3.570</td><td>14.6 </td><td>0    </td><td>1    </td><td>5    </td><td>8    </td><td>NA   </td></tr>\n",
       "\t<tr><th scope=row>Volvo 142E</th><td>21.4 </td><td>4    </td><td>121.0</td><td>109  </td><td>4.11 </td><td>2.780</td><td>18.6 </td><td>1    </td><td>1    </td><td>4    </td><td>2    </td><td>NA   </td></tr>\n",
       "</tbody>\n",
       "</table>\n"
      ],
      "text/latex": [
       "\\begin{tabular}{r|llllllllllll}\n",
       "  & mpg & cyl & disp & hp & drat & wt & qsec & vs & am & gear & carb & model\\\\\n",
       "\\hline\n",
       "\tPorsche 914-2 & 26.0  & 4     & 120.3 &  91   & 4.43  & 2.140 & 16.7  & 0     & 1     & 5     & 2     & NA   \\\\\n",
       "\tLotus Europa & 30.4  & 4     &  95.1 & 113   & 3.77  & 1.513 & 16.9  & 1     & 1     & 5     & 2     & NA   \\\\\n",
       "\tFord Pantera L & 15.8  & 8     & 351.0 & 264   & 4.22  & 3.170 & 14.5  & 0     & 1     & 5     & 4     & NA   \\\\\n",
       "\tFerrari Dino & 19.7  & 6     & 145.0 & 175   & 3.62  & 2.770 & 15.5  & 0     & 1     & 5     & 6     & NA   \\\\\n",
       "\tMaserati Bora & 15.0  & 8     & 301.0 & 335   & 3.54  & 3.570 & 14.6  & 0     & 1     & 5     & 8     & NA   \\\\\n",
       "\tVolvo 142E & 21.4  & 4     & 121.0 & 109   & 4.11  & 2.780 & 18.6  & 1     & 1     & 4     & 2     & NA   \\\\\n",
       "\\end{tabular}\n"
      ],
      "text/markdown": [
       "\n",
       "| <!--/--> | mpg | cyl | disp | hp | drat | wt | qsec | vs | am | gear | carb | model | \n",
       "|---|---|---|---|---|---|\n",
       "| Porsche 914-2 | 26.0  | 4     | 120.3 |  91   | 4.43  | 2.140 | 16.7  | 0     | 1     | 5     | 2     | NA    | \n",
       "| Lotus Europa | 30.4  | 4     |  95.1 | 113   | 3.77  | 1.513 | 16.9  | 1     | 1     | 5     | 2     | NA    | \n",
       "| Ford Pantera L | 15.8  | 8     | 351.0 | 264   | 4.22  | 3.170 | 14.5  | 0     | 1     | 5     | 4     | NA    | \n",
       "| Ferrari Dino | 19.7  | 6     | 145.0 | 175   | 3.62  | 2.770 | 15.5  | 0     | 1     | 5     | 6     | NA    | \n",
       "| Maserati Bora | 15.0  | 8     | 301.0 | 335   | 3.54  | 3.570 | 14.6  | 0     | 1     | 5     | 8     | NA    | \n",
       "| Volvo 142E | 21.4  | 4     | 121.0 | 109   | 4.11  | 2.780 | 18.6  | 1     | 1     | 4     | 2     | NA    | \n",
       "\n",
       "\n"
      ],
      "text/plain": [
       "               mpg  cyl disp  hp  drat wt    qsec vs am gear carb model\n",
       "Porsche 914-2  26.0 4   120.3  91 4.43 2.140 16.7 0  1  5    2    NA   \n",
       "Lotus Europa   30.4 4    95.1 113 3.77 1.513 16.9 1  1  5    2    NA   \n",
       "Ford Pantera L 15.8 8   351.0 264 4.22 3.170 14.5 0  1  5    4    NA   \n",
       "Ferrari Dino   19.7 6   145.0 175 3.62 2.770 15.5 0  1  5    6    NA   \n",
       "Maserati Bora  15.0 8   301.0 335 3.54 3.570 14.6 0  1  5    8    NA   \n",
       "Volvo 142E     21.4 4   121.0 109 4.11 2.780 18.6 1  1  4    2    NA   "
      ]
     },
     "metadata": {},
     "output_type": "display_data"
    }
   ],
   "source": [
    "# a data matrix holds numbers, but not text\n",
    "newcar_M <- data.matrix(newcar)                        # make data matrix   \n",
    "tail(newcar_M)                                         # show last few rows"
   ]
  },
  {
   "cell_type": "markdown",
   "metadata": {},
   "source": [
    "### b) Selecting data from dataframes"
   ]
  },
  {
   "cell_type": "code",
   "execution_count": 19,
   "metadata": {},
   "outputs": [
    {
     "data": {
      "text/html": [
       "<ol class=list-inline>\n",
       "\t<li>21</li>\n",
       "\t<li>21</li>\n",
       "\t<li>22.8</li>\n",
       "\t<li>21.4</li>\n",
       "\t<li>18.7</li>\n",
       "\t<li>18.1</li>\n",
       "\t<li>14.3</li>\n",
       "\t<li>24.4</li>\n",
       "\t<li>22.8</li>\n",
       "\t<li>19.2</li>\n",
       "\t<li>17.8</li>\n",
       "\t<li>16.4</li>\n",
       "\t<li>17.3</li>\n",
       "\t<li>15.2</li>\n",
       "\t<li>10.4</li>\n",
       "\t<li>10.4</li>\n",
       "\t<li>14.7</li>\n",
       "\t<li>32.4</li>\n",
       "\t<li>30.4</li>\n",
       "\t<li>33.9</li>\n",
       "\t<li>21.5</li>\n",
       "\t<li>15.5</li>\n",
       "\t<li>15.2</li>\n",
       "\t<li>13.3</li>\n",
       "\t<li>19.2</li>\n",
       "\t<li>27.3</li>\n",
       "\t<li>26</li>\n",
       "\t<li>30.4</li>\n",
       "\t<li>15.8</li>\n",
       "\t<li>19.7</li>\n",
       "\t<li>15</li>\n",
       "\t<li>21.4</li>\n",
       "</ol>\n"
      ],
      "text/latex": [
       "\\begin{enumerate*}\n",
       "\\item 21\n",
       "\\item 21\n",
       "\\item 22.8\n",
       "\\item 21.4\n",
       "\\item 18.7\n",
       "\\item 18.1\n",
       "\\item 14.3\n",
       "\\item 24.4\n",
       "\\item 22.8\n",
       "\\item 19.2\n",
       "\\item 17.8\n",
       "\\item 16.4\n",
       "\\item 17.3\n",
       "\\item 15.2\n",
       "\\item 10.4\n",
       "\\item 10.4\n",
       "\\item 14.7\n",
       "\\item 32.4\n",
       "\\item 30.4\n",
       "\\item 33.9\n",
       "\\item 21.5\n",
       "\\item 15.5\n",
       "\\item 15.2\n",
       "\\item 13.3\n",
       "\\item 19.2\n",
       "\\item 27.3\n",
       "\\item 26\n",
       "\\item 30.4\n",
       "\\item 15.8\n",
       "\\item 19.7\n",
       "\\item 15\n",
       "\\item 21.4\n",
       "\\end{enumerate*}\n"
      ],
      "text/markdown": [
       "1. 21\n",
       "2. 21\n",
       "3. 22.8\n",
       "4. 21.4\n",
       "5. 18.7\n",
       "6. 18.1\n",
       "7. 14.3\n",
       "8. 24.4\n",
       "9. 22.8\n",
       "10. 19.2\n",
       "11. 17.8\n",
       "12. 16.4\n",
       "13. 17.3\n",
       "14. 15.2\n",
       "15. 10.4\n",
       "16. 10.4\n",
       "17. 14.7\n",
       "18. 32.4\n",
       "19. 30.4\n",
       "20. 33.9\n",
       "21. 21.5\n",
       "22. 15.5\n",
       "23. 15.2\n",
       "24. 13.3\n",
       "25. 19.2\n",
       "26. 27.3\n",
       "27. 26\n",
       "28. 30.4\n",
       "29. 15.8\n",
       "30. 19.7\n",
       "31. 15\n",
       "32. 21.4\n",
       "\n",
       "\n"
      ],
      "text/plain": [
       " [1] 21.0 21.0 22.8 21.4 18.7 18.1 14.3 24.4 22.8 19.2 17.8 16.4 17.3 15.2 10.4\n",
       "[16] 10.4 14.7 32.4 30.4 33.9 21.5 15.5 15.2 13.3 19.2 27.3 26.0 30.4 15.8 19.7\n",
       "[31] 15.0 21.4"
      ]
     },
     "metadata": {},
     "output_type": "display_data"
    }
   ],
   "source": [
    "# get a single column\n",
    "mpg <- newcar$mpg                                                   # get data from single column\n",
    "mpg                                                                 # show data   \n",
    "\n",
    "# newcar[\"mpg\"]                                                     # get data as data frame -- good for own functions"
   ]
  },
  {
   "cell_type": "code",
   "execution_count": 20,
   "metadata": {},
   "outputs": [
    {
     "data": {
      "text/html": [
       "<ol class=list-inline>\n",
       "\t<li>'mpg'</li>\n",
       "\t<li>'cyl'</li>\n",
       "\t<li>'hp'</li>\n",
       "</ol>\n"
      ],
      "text/latex": [
       "\\begin{enumerate*}\n",
       "\\item 'mpg'\n",
       "\\item 'cyl'\n",
       "\\item 'hp'\n",
       "\\end{enumerate*}\n"
      ],
      "text/markdown": [
       "1. 'mpg'\n",
       "2. 'cyl'\n",
       "3. 'hp'\n",
       "\n",
       "\n"
      ],
      "text/plain": [
       "[1] \"mpg\" \"cyl\" \"hp\" "
      ]
     },
     "metadata": {},
     "output_type": "display_data"
    },
    {
     "data": {
      "text/html": [
       "<table>\n",
       "<thead><tr><th></th><th scope=col>mpg</th><th scope=col>cyl</th><th scope=col>hp</th></tr></thead>\n",
       "<tbody>\n",
       "\t<tr><th scope=row>Mazda RX4</th><td>21.0</td><td>6   </td><td>110 </td></tr>\n",
       "\t<tr><th scope=row>Mazda RX4 Wag</th><td>21.0</td><td>6   </td><td>110 </td></tr>\n",
       "\t<tr><th scope=row>Datsun 710</th><td>22.8</td><td>4   </td><td> 93 </td></tr>\n",
       "\t<tr><th scope=row>Hornet 4 Drive</th><td>21.4</td><td>6   </td><td>110 </td></tr>\n",
       "\t<tr><th scope=row>Hornet Sportabout</th><td>18.7</td><td>8   </td><td>175 </td></tr>\n",
       "\t<tr><th scope=row>Valiant</th><td>18.1</td><td>6   </td><td>105 </td></tr>\n",
       "</tbody>\n",
       "</table>\n"
      ],
      "text/latex": [
       "\\begin{tabular}{r|lll}\n",
       "  & mpg & cyl & hp\\\\\n",
       "\\hline\n",
       "\tMazda RX4 & 21.0 & 6    & 110 \\\\\n",
       "\tMazda RX4 Wag & 21.0 & 6    & 110 \\\\\n",
       "\tDatsun 710 & 22.8 & 4    &  93 \\\\\n",
       "\tHornet 4 Drive & 21.4 & 6    & 110 \\\\\n",
       "\tHornet Sportabout & 18.7 & 8    & 175 \\\\\n",
       "\tValiant & 18.1 & 6    & 105 \\\\\n",
       "\\end{tabular}\n"
      ],
      "text/markdown": [
       "\n",
       "| <!--/--> | mpg | cyl | hp | \n",
       "|---|---|---|---|---|---|\n",
       "| Mazda RX4 | 21.0 | 6    | 110  | \n",
       "| Mazda RX4 Wag | 21.0 | 6    | 110  | \n",
       "| Datsun 710 | 22.8 | 4    |  93  | \n",
       "| Hornet 4 Drive | 21.4 | 6    | 110  | \n",
       "| Hornet Sportabout | 18.7 | 8    | 175  | \n",
       "| Valiant | 18.1 | 6    | 105  | \n",
       "\n",
       "\n"
      ],
      "text/plain": [
       "                  mpg  cyl hp \n",
       "Mazda RX4         21.0 6   110\n",
       "Mazda RX4 Wag     21.0 6   110\n",
       "Datsun 710        22.8 4    93\n",
       "Hornet 4 Drive    21.4 6   110\n",
       "Hornet Sportabout 18.7 8   175\n",
       "Valiant           18.1 6   105"
      ]
     },
     "metadata": {},
     "output_type": "display_data"
    }
   ],
   "source": [
    "# get columns in data frame using vector of column names\n",
    "power_vars <- c(\"mpg\", \"cyl\", \"hp\")                                 # vector of column names\n",
    "power_vars                                                          \n",
    "\n",
    "car_power <- newcar[power_vars]                                     # brackets are for data frame subsetting, here power_vars\n",
    "head(car_power)"
   ]
  },
  {
   "cell_type": "code",
   "execution_count": 21,
   "metadata": {},
   "outputs": [
    {
     "data": {
      "text/html": [
       "<table>\n",
       "<thead><tr><th></th><th scope=col>mpg</th><th scope=col>cyl</th></tr></thead>\n",
       "<tbody>\n",
       "\t<tr><th scope=row>Mazda RX4</th><td>21.0</td><td>6   </td></tr>\n",
       "\t<tr><th scope=row>Mazda RX4 Wag</th><td>21.0</td><td>6   </td></tr>\n",
       "\t<tr><th scope=row>Datsun 710</th><td>22.8</td><td>4   </td></tr>\n",
       "</tbody>\n",
       "</table>\n"
      ],
      "text/latex": [
       "\\begin{tabular}{r|ll}\n",
       "  & mpg & cyl\\\\\n",
       "\\hline\n",
       "\tMazda RX4 & 21.0 & 6   \\\\\n",
       "\tMazda RX4 Wag & 21.0 & 6   \\\\\n",
       "\tDatsun 710 & 22.8 & 4   \\\\\n",
       "\\end{tabular}\n"
      ],
      "text/markdown": [
       "\n",
       "| <!--/--> | mpg | cyl | \n",
       "|---|---|---|\n",
       "| Mazda RX4 | 21.0 | 6    | \n",
       "| Mazda RX4 Wag | 21.0 | 6    | \n",
       "| Datsun 710 | 22.8 | 4    | \n",
       "\n",
       "\n"
      ],
      "text/plain": [
       "              mpg  cyl\n",
       "Mazda RX4     21.0 6  \n",
       "Mazda RX4 Wag 21.0 6  \n",
       "Datsun 710    22.8 4  "
      ]
     },
     "metadata": {},
     "output_type": "display_data"
    }
   ],
   "source": [
    "# Specify range of rows, columns in to extract from dataframe \n",
    "car_power[1:3,1:2]                                                  # rows 1-3, columns 1-2\n",
    "\n",
    "# All columns or all rows\n",
    "# newcar[1:3,]                                                      # rows 1-3, all columns\n",
    "# newcar[,1:4]                                                      # all rows, columns 1-4 "
   ]
  },
  {
   "cell_type": "code",
   "execution_count": 22,
   "metadata": {},
   "outputs": [
    {
     "data": {
      "text/html": [
       "<table>\n",
       "<thead><tr><th></th><th scope=col>mpg</th><th scope=col>cyl</th><th scope=col>disp</th><th scope=col>hp</th><th scope=col>drat</th><th scope=col>wt</th><th scope=col>qsec</th><th scope=col>vs</th><th scope=col>am</th><th scope=col>gear</th><th scope=col>carb</th><th scope=col>model</th></tr></thead>\n",
       "<tbody>\n",
       "\t<tr><th scope=row>Mazda RX4</th><td>21.0          </td><td>6             </td><td>160.0         </td><td>110           </td><td>3.90          </td><td>2.620         </td><td>16.46         </td><td>0             </td><td>1             </td><td>4             </td><td>4             </td><td>Mazda RX4     </td></tr>\n",
       "\t<tr><th scope=row>Mazda RX4 Wag</th><td>21.0          </td><td>6             </td><td>160.0         </td><td>110           </td><td>3.90          </td><td>2.875         </td><td>17.02         </td><td>0             </td><td>1             </td><td>4             </td><td>4             </td><td>Mazda RX4 Wag </td></tr>\n",
       "\t<tr><th scope=row>Datsun 710</th><td>22.8          </td><td>4             </td><td>108.0         </td><td> 93           </td><td>3.85          </td><td>2.320         </td><td>18.61         </td><td>1             </td><td>1             </td><td>4             </td><td>1             </td><td>Datsun 710    </td></tr>\n",
       "\t<tr><th scope=row>Hornet 4 Drive</th><td>21.4          </td><td>6             </td><td>258.0         </td><td>110           </td><td>3.08          </td><td>3.215         </td><td>19.44         </td><td>1             </td><td>0             </td><td>3             </td><td>1             </td><td>Hornet 4 Drive</td></tr>\n",
       "\t<tr><th scope=row>Merc 240D</th><td>24.4          </td><td>4             </td><td>146.7         </td><td> 62           </td><td>3.69          </td><td>3.190         </td><td>20.00         </td><td>1             </td><td>0             </td><td>4             </td><td>2             </td><td>Merc 240D     </td></tr>\n",
       "\t<tr><th scope=row>Merc 230</th><td>22.8          </td><td>4             </td><td>140.8         </td><td> 95           </td><td>3.92          </td><td>3.150         </td><td>22.90         </td><td>1             </td><td>0             </td><td>4             </td><td>2             </td><td>Merc 230      </td></tr>\n",
       "\t<tr><th scope=row>Fiat 128</th><td>32.4          </td><td>4             </td><td> 78.7         </td><td> 66           </td><td>4.08          </td><td>2.200         </td><td>19.47         </td><td>1             </td><td>1             </td><td>4             </td><td>1             </td><td>Fiat 128      </td></tr>\n",
       "\t<tr><th scope=row>Honda Civic</th><td>30.4          </td><td>4             </td><td> 75.7         </td><td> 52           </td><td>4.93          </td><td>1.615         </td><td>18.52         </td><td>1             </td><td>1             </td><td>4             </td><td>2             </td><td>Honda Civic   </td></tr>\n",
       "\t<tr><th scope=row>Toyota Corolla</th><td>33.9          </td><td>4             </td><td> 71.1         </td><td> 65           </td><td>4.22          </td><td>1.835         </td><td>19.90         </td><td>1             </td><td>1             </td><td>4             </td><td>1             </td><td>Toyota Corolla</td></tr>\n",
       "\t<tr><th scope=row>Toyota Corona</th><td>21.5          </td><td>4             </td><td>120.1         </td><td> 97           </td><td>3.70          </td><td>2.465         </td><td>20.01         </td><td>1             </td><td>0             </td><td>3             </td><td>1             </td><td>Toyota Corona </td></tr>\n",
       "\t<tr><th scope=row>Fiat X1-9</th><td>27.3          </td><td>4             </td><td> 79.0         </td><td> 66           </td><td>4.08          </td><td>1.935         </td><td>18.90         </td><td>1             </td><td>1             </td><td>4             </td><td>1             </td><td>Fiat X1-9     </td></tr>\n",
       "\t<tr><th scope=row>Porsche 914-2</th><td>26.0          </td><td>4             </td><td>120.3         </td><td> 91           </td><td>4.43          </td><td>2.140         </td><td>16.70         </td><td>0             </td><td>1             </td><td>5             </td><td>2             </td><td>Porsche 914-2 </td></tr>\n",
       "\t<tr><th scope=row>Lotus Europa</th><td>30.4          </td><td>4             </td><td> 95.1         </td><td>113           </td><td>3.77          </td><td>1.513         </td><td>16.90         </td><td>1             </td><td>1             </td><td>5             </td><td>2             </td><td>Lotus Europa  </td></tr>\n",
       "\t<tr><th scope=row>Volvo 142E</th><td>21.4          </td><td>4             </td><td>121.0         </td><td>109           </td><td>4.11          </td><td>2.780         </td><td>18.60         </td><td>1             </td><td>1             </td><td>4             </td><td>2             </td><td>Volvo 142E    </td></tr>\n",
       "</tbody>\n",
       "</table>\n"
      ],
      "text/latex": [
       "\\begin{tabular}{r|llllllllllll}\n",
       "  & mpg & cyl & disp & hp & drat & wt & qsec & vs & am & gear & carb & model\\\\\n",
       "\\hline\n",
       "\tMazda RX4 & 21.0           & 6              & 160.0          & 110            & 3.90           & 2.620          & 16.46          & 0              & 1              & 4              & 4              & Mazda RX4     \\\\\n",
       "\tMazda RX4 Wag & 21.0           & 6              & 160.0          & 110            & 3.90           & 2.875          & 17.02          & 0              & 1              & 4              & 4              & Mazda RX4 Wag \\\\\n",
       "\tDatsun 710 & 22.8           & 4              & 108.0          &  93            & 3.85           & 2.320          & 18.61          & 1              & 1              & 4              & 1              & Datsun 710    \\\\\n",
       "\tHornet 4 Drive & 21.4           & 6              & 258.0          & 110            & 3.08           & 3.215          & 19.44          & 1              & 0              & 3              & 1              & Hornet 4 Drive\\\\\n",
       "\tMerc 240D & 24.4           & 4              & 146.7          &  62            & 3.69           & 3.190          & 20.00          & 1              & 0              & 4              & 2              & Merc 240D     \\\\\n",
       "\tMerc 230 & 22.8           & 4              & 140.8          &  95            & 3.92           & 3.150          & 22.90          & 1              & 0              & 4              & 2              & Merc 230      \\\\\n",
       "\tFiat 128 & 32.4           & 4              &  78.7          &  66            & 4.08           & 2.200          & 19.47          & 1              & 1              & 4              & 1              & Fiat 128      \\\\\n",
       "\tHonda Civic & 30.4           & 4              &  75.7          &  52            & 4.93           & 1.615          & 18.52          & 1              & 1              & 4              & 2              & Honda Civic   \\\\\n",
       "\tToyota Corolla & 33.9           & 4              &  71.1          &  65            & 4.22           & 1.835          & 19.90          & 1              & 1              & 4              & 1              & Toyota Corolla\\\\\n",
       "\tToyota Corona & 21.5           & 4              & 120.1          &  97            & 3.70           & 2.465          & 20.01          & 1              & 0              & 3              & 1              & Toyota Corona \\\\\n",
       "\tFiat X1-9 & 27.3           & 4              &  79.0          &  66            & 4.08           & 1.935          & 18.90          & 1              & 1              & 4              & 1              & Fiat X1-9     \\\\\n",
       "\tPorsche 914-2 & 26.0           & 4              & 120.3          &  91            & 4.43           & 2.140          & 16.70          & 0              & 1              & 5              & 2              & Porsche 914-2 \\\\\n",
       "\tLotus Europa & 30.4           & 4              &  95.1          & 113            & 3.77           & 1.513          & 16.90          & 1              & 1              & 5              & 2              & Lotus Europa  \\\\\n",
       "\tVolvo 142E & 21.4           & 4              & 121.0          & 109            & 4.11           & 2.780          & 18.60          & 1              & 1              & 4              & 2              & Volvo 142E    \\\\\n",
       "\\end{tabular}\n"
      ],
      "text/markdown": [
       "\n",
       "| <!--/--> | mpg | cyl | disp | hp | drat | wt | qsec | vs | am | gear | carb | model | \n",
       "|---|---|---|---|---|---|---|---|---|---|---|---|---|---|\n",
       "| Mazda RX4 | 21.0           | 6              | 160.0          | 110            | 3.90           | 2.620          | 16.46          | 0              | 1              | 4              | 4              | Mazda RX4      | \n",
       "| Mazda RX4 Wag | 21.0           | 6              | 160.0          | 110            | 3.90           | 2.875          | 17.02          | 0              | 1              | 4              | 4              | Mazda RX4 Wag  | \n",
       "| Datsun 710 | 22.8           | 4              | 108.0          |  93            | 3.85           | 2.320          | 18.61          | 1              | 1              | 4              | 1              | Datsun 710     | \n",
       "| Hornet 4 Drive | 21.4           | 6              | 258.0          | 110            | 3.08           | 3.215          | 19.44          | 1              | 0              | 3              | 1              | Hornet 4 Drive | \n",
       "| Merc 240D | 24.4           | 4              | 146.7          |  62            | 3.69           | 3.190          | 20.00          | 1              | 0              | 4              | 2              | Merc 240D      | \n",
       "| Merc 230 | 22.8           | 4              | 140.8          |  95            | 3.92           | 3.150          | 22.90          | 1              | 0              | 4              | 2              | Merc 230       | \n",
       "| Fiat 128 | 32.4           | 4              |  78.7          |  66            | 4.08           | 2.200          | 19.47          | 1              | 1              | 4              | 1              | Fiat 128       | \n",
       "| Honda Civic | 30.4           | 4              |  75.7          |  52            | 4.93           | 1.615          | 18.52          | 1              | 1              | 4              | 2              | Honda Civic    | \n",
       "| Toyota Corolla | 33.9           | 4              |  71.1          |  65            | 4.22           | 1.835          | 19.90          | 1              | 1              | 4              | 1              | Toyota Corolla | \n",
       "| Toyota Corona | 21.5           | 4              | 120.1          |  97            | 3.70           | 2.465          | 20.01          | 1              | 0              | 3              | 1              | Toyota Corona  | \n",
       "| Fiat X1-9 | 27.3           | 4              |  79.0          |  66            | 4.08           | 1.935          | 18.90          | 1              | 1              | 4              | 1              | Fiat X1-9      | \n",
       "| Porsche 914-2 | 26.0           | 4              | 120.3          |  91            | 4.43           | 2.140          | 16.70          | 0              | 1              | 5              | 2              | Porsche 914-2  | \n",
       "| Lotus Europa | 30.4           | 4              |  95.1          | 113            | 3.77           | 1.513          | 16.90          | 1              | 1              | 5              | 2              | Lotus Europa   | \n",
       "| Volvo 142E | 21.4           | 4              | 121.0          | 109            | 4.11           | 2.780          | 18.60          | 1              | 1              | 4              | 2              | Volvo 142E     | \n",
       "\n",
       "\n"
      ],
      "text/plain": [
       "               mpg  cyl disp  hp  drat wt    qsec  vs am gear carb\n",
       "Mazda RX4      21.0 6   160.0 110 3.90 2.620 16.46 0  1  4    4   \n",
       "Mazda RX4 Wag  21.0 6   160.0 110 3.90 2.875 17.02 0  1  4    4   \n",
       "Datsun 710     22.8 4   108.0  93 3.85 2.320 18.61 1  1  4    1   \n",
       "Hornet 4 Drive 21.4 6   258.0 110 3.08 3.215 19.44 1  0  3    1   \n",
       "Merc 240D      24.4 4   146.7  62 3.69 3.190 20.00 1  0  4    2   \n",
       "Merc 230       22.8 4   140.8  95 3.92 3.150 22.90 1  0  4    2   \n",
       "Fiat 128       32.4 4    78.7  66 4.08 2.200 19.47 1  1  4    1   \n",
       "Honda Civic    30.4 4    75.7  52 4.93 1.615 18.52 1  1  4    2   \n",
       "Toyota Corolla 33.9 4    71.1  65 4.22 1.835 19.90 1  1  4    1   \n",
       "Toyota Corona  21.5 4   120.1  97 3.70 2.465 20.01 1  0  3    1   \n",
       "Fiat X1-9      27.3 4    79.0  66 4.08 1.935 18.90 1  1  4    1   \n",
       "Porsche 914-2  26.0 4   120.3  91 4.43 2.140 16.70 0  1  5    2   \n",
       "Lotus Europa   30.4 4    95.1 113 3.77 1.513 16.90 1  1  5    2   \n",
       "Volvo 142E     21.4 4   121.0 109 4.11 2.780 18.60 1  1  4    2   \n",
       "               model         \n",
       "Mazda RX4      Mazda RX4     \n",
       "Mazda RX4 Wag  Mazda RX4 Wag \n",
       "Datsun 710     Datsun 710    \n",
       "Hornet 4 Drive Hornet 4 Drive\n",
       "Merc 240D      Merc 240D     \n",
       "Merc 230       Merc 230      \n",
       "Fiat 128       Fiat 128      \n",
       "Honda Civic    Honda Civic   \n",
       "Toyota Corolla Toyota Corolla\n",
       "Toyota Corona  Toyota Corona \n",
       "Fiat X1-9      Fiat X1-9     \n",
       "Porsche 914-2  Porsche 914-2 \n",
       "Lotus Europa   Lotus Europa  \n",
       "Volvo 142E     Volvo 142E    "
      ]
     },
     "metadata": {},
     "output_type": "display_data"
    }
   ],
   "source": [
    "# Select rows based on mpg > 20\n",
    "econ_cars <- newcar[newcar$mpg > 20,]                               # \",\" at end stands for \"across all columns\"\n",
    "econ_cars\n",
    "\n",
    "# as an alternative approach: ?subset"
   ]
  },
  {
   "cell_type": "markdown",
   "metadata": {},
   "source": [
    "### c) Making new data frames "
   ]
  },
  {
   "cell_type": "code",
   "execution_count": 23,
   "metadata": {},
   "outputs": [
    {
     "data": {
      "text/html": [
       "<table>\n",
       "<thead><tr><th scope=col>econ_cars.mpg</th><th scope=col>econ_cars.hp</th></tr></thead>\n",
       "<tbody>\n",
       "\t<tr><td>21.0</td><td>110 </td></tr>\n",
       "\t<tr><td>21.0</td><td>110 </td></tr>\n",
       "\t<tr><td>22.8</td><td> 93 </td></tr>\n",
       "\t<tr><td>21.4</td><td>110 </td></tr>\n",
       "\t<tr><td>24.4</td><td> 62 </td></tr>\n",
       "\t<tr><td>22.8</td><td> 95 </td></tr>\n",
       "</tbody>\n",
       "</table>\n"
      ],
      "text/latex": [
       "\\begin{tabular}{r|ll}\n",
       " econ\\_cars.mpg & econ\\_cars.hp\\\\\n",
       "\\hline\n",
       "\t 21.0 & 110 \\\\\n",
       "\t 21.0 & 110 \\\\\n",
       "\t 22.8 &  93 \\\\\n",
       "\t 21.4 & 110 \\\\\n",
       "\t 24.4 &  62 \\\\\n",
       "\t 22.8 &  95 \\\\\n",
       "\\end{tabular}\n"
      ],
      "text/markdown": [
       "\n",
       "econ_cars.mpg | econ_cars.hp | \n",
       "|---|---|---|---|---|---|\n",
       "| 21.0 | 110  | \n",
       "| 21.0 | 110  | \n",
       "| 22.8 |  93  | \n",
       "| 21.4 | 110  | \n",
       "| 24.4 |  62  | \n",
       "| 22.8 |  95  | \n",
       "\n",
       "\n"
      ],
      "text/plain": [
       "  econ_cars.mpg econ_cars.hp\n",
       "1 21.0          110         \n",
       "2 21.0          110         \n",
       "3 22.8           93         \n",
       "4 21.4          110         \n",
       "5 24.4           62         \n",
       "6 22.8           95         "
      ]
     },
     "metadata": {},
     "output_type": "display_data"
    }
   ],
   "source": [
    "# Make a new data frame\n",
    "econ_mpg_hp <-data.frame(econ_cars$mpg, econ_cars$hp)               # use \",\" to add new columns\n",
    "head(econ_mpg_hp)                                                   # note name is transferred\n",
    "                                                                    # note rownames are dropped in new data frame    "
   ]
  },
  {
   "cell_type": "code",
   "execution_count": 24,
   "metadata": {},
   "outputs": [
    {
     "data": {
      "text/html": [
       "<table>\n",
       "<thead><tr><th scope=col>MPG</th><th scope=col>HP</th><th scope=col>model</th></tr></thead>\n",
       "<tbody>\n",
       "\t<tr><td>21.0          </td><td>110           </td><td>Mazda RX4     </td></tr>\n",
       "\t<tr><td>21.0          </td><td>110           </td><td>Mazda RX4 Wag </td></tr>\n",
       "\t<tr><td>22.8          </td><td> 93           </td><td>Datsun 710    </td></tr>\n",
       "\t<tr><td>21.4          </td><td>110           </td><td>Hornet 4 Drive</td></tr>\n",
       "\t<tr><td>24.4          </td><td> 62           </td><td>Merc 240D     </td></tr>\n",
       "\t<tr><td>22.8          </td><td> 95           </td><td>Merc 230      </td></tr>\n",
       "</tbody>\n",
       "</table>\n"
      ],
      "text/latex": [
       "\\begin{tabular}{r|lll}\n",
       " MPG & HP & model\\\\\n",
       "\\hline\n",
       "\t 21.0           & 110            & Mazda RX4     \\\\\n",
       "\t 21.0           & 110            & Mazda RX4 Wag \\\\\n",
       "\t 22.8           &  93            & Datsun 710    \\\\\n",
       "\t 21.4           & 110            & Hornet 4 Drive\\\\\n",
       "\t 24.4           &  62            & Merc 240D     \\\\\n",
       "\t 22.8           &  95            & Merc 230      \\\\\n",
       "\\end{tabular}\n"
      ],
      "text/markdown": [
       "\n",
       "MPG | HP | model | \n",
       "|---|---|---|---|---|---|\n",
       "| 21.0           | 110            | Mazda RX4      | \n",
       "| 21.0           | 110            | Mazda RX4 Wag  | \n",
       "| 22.8           |  93            | Datsun 710     | \n",
       "| 21.4           | 110            | Hornet 4 Drive | \n",
       "| 24.4           |  62            | Merc 240D      | \n",
       "| 22.8           |  95            | Merc 230       | \n",
       "\n",
       "\n"
      ],
      "text/plain": [
       "  MPG  HP  model         \n",
       "1 21.0 110 Mazda RX4     \n",
       "2 21.0 110 Mazda RX4 Wag \n",
       "3 22.8  93 Datsun 710    \n",
       "4 21.4 110 Hornet 4 Drive\n",
       "5 24.4  62 Merc 240D     \n",
       "6 22.8  95 Merc 230      "
      ]
     },
     "metadata": {},
     "output_type": "display_data"
    }
   ],
   "source": [
    "# New data frame while renaming columns\n",
    "econ_mpg_hp <-data.frame(MPG = econ_cars$mpg, HP = econ_cars$hp,    # can assign new column names with \"=\"\n",
    "                         model = econ_cars$model)                   # add return after \",\" for readability\n",
    "head(econ_mpg_hp)"
   ]
  },
  {
   "cell_type": "code",
   "execution_count": 25,
   "metadata": {},
   "outputs": [
    {
     "data": {
      "text/html": [
       "<table>\n",
       "<thead><tr><th></th><th scope=col>mpg</th><th scope=col>cyl</th><th scope=col>hp</th></tr></thead>\n",
       "<tbody>\n",
       "\t<tr><th scope=row>Mazda RX4</th><td>21.0</td><td>6   </td><td>110 </td></tr>\n",
       "\t<tr><th scope=row>Mazda RX4 Wag</th><td>21.0</td><td>6   </td><td>110 </td></tr>\n",
       "\t<tr><th scope=row>Datsun 710</th><td>22.8</td><td>4   </td><td> 93 </td></tr>\n",
       "\t<tr><th scope=row>Hornet 4 Drive</th><td>21.4</td><td>6   </td><td>110 </td></tr>\n",
       "\t<tr><th scope=row>Hornet Sportabout</th><td>18.7</td><td>8   </td><td>175 </td></tr>\n",
       "\t<tr><th scope=row>Valiant</th><td>18.1</td><td>6   </td><td>105 </td></tr>\n",
       "</tbody>\n",
       "</table>\n"
      ],
      "text/latex": [
       "\\begin{tabular}{r|lll}\n",
       "  & mpg & cyl & hp\\\\\n",
       "\\hline\n",
       "\tMazda RX4 & 21.0 & 6    & 110 \\\\\n",
       "\tMazda RX4 Wag & 21.0 & 6    & 110 \\\\\n",
       "\tDatsun 710 & 22.8 & 4    &  93 \\\\\n",
       "\tHornet 4 Drive & 21.4 & 6    & 110 \\\\\n",
       "\tHornet Sportabout & 18.7 & 8    & 175 \\\\\n",
       "\tValiant & 18.1 & 6    & 105 \\\\\n",
       "\\end{tabular}\n"
      ],
      "text/markdown": [
       "\n",
       "| <!--/--> | mpg | cyl | hp | \n",
       "|---|---|---|---|---|---|\n",
       "| Mazda RX4 | 21.0 | 6    | 110  | \n",
       "| Mazda RX4 Wag | 21.0 | 6    | 110  | \n",
       "| Datsun 710 | 22.8 | 4    |  93  | \n",
       "| Hornet 4 Drive | 21.4 | 6    | 110  | \n",
       "| Hornet Sportabout | 18.7 | 8    | 175  | \n",
       "| Valiant | 18.1 | 6    | 105  | \n",
       "\n",
       "\n"
      ],
      "text/plain": [
       "                  mpg  cyl hp \n",
       "Mazda RX4         21.0 6   110\n",
       "Mazda RX4 Wag     21.0 6   110\n",
       "Datsun 710        22.8 4    93\n",
       "Hornet 4 Drive    21.4 6   110\n",
       "Hornet Sportabout 18.7 8   175\n",
       "Valiant           18.1 6   105"
      ]
     },
     "metadata": {},
     "output_type": "display_data"
    }
   ],
   "source": [
    "# Specifying columns from existing data frame often better solution \n",
    "# repeated from above\n",
    "power_vars <- c(\"mpg\", \"cyl\", \"hp\")                                 # vector of column names\n",
    "car_power <- newcar[power_vars]                                     # brackets are for data frame subsetting, here power_vars\n",
    "head(car_power)                                                     # note row names still in place\n",
    "\n",
    "# alternately: \n",
    "# car_power <- newcar[,c(\"mpg\", \"cyl\", \"hp\")]                       # bracket and comma notation with vector "
   ]
  },
  {
   "cell_type": "markdown",
   "metadata": {},
   "source": [
    "### d) Simple plotting execercises"
   ]
  },
  {
   "cell_type": "code",
   "execution_count": 26,
   "metadata": {
    "collapsed": true
   },
   "outputs": [],
   "source": [
    "options(repr.plot.width=4, repr.plot.height=4)                      # sets plot size in Jupyter notebook "
   ]
  },
  {
   "cell_type": "code",
   "execution_count": 27,
   "metadata": {},
   "outputs": [
    {
     "data": {
      "image/png": "[encoded data removed]",
      "text/plain": [
       "plot without title"
      ]
     },
     "metadata": {},
     "output_type": "display_data"
    }
   ],
   "source": [
    "#plot(x=newcar$disp, y=newcar$hp)\n",
    "plot(x=newcar$disp, y=newcar$hp, , xlab=\"disp_cc\", ylab=\"hp\")"
   ]
  },
  {
   "cell_type": "code",
   "execution_count": 28,
   "metadata": {},
   "outputs": [
    {
     "name": "stderr",
     "output_type": "stream",
     "text": [
      "\n",
      "Attaching package: ‘ggplot2’\n",
      "\n",
      "The following object is masked _by_ ‘.GlobalEnv’:\n",
      "\n",
      "    mpg\n",
      "\n"
     ]
    }
   ],
   "source": [
    "# use ggplot 2 graphics\n",
    "library(\"ggplot2\")                                                              # load ggplot2"
   ]
  },
  {
   "cell_type": "code",
   "execution_count": 29,
   "metadata": {},
   "outputs": [
    {
     "data": {},
     "metadata": {},
     "output_type": "display_data"
    },
    {
     "data": {
      "image/png": "[encoded data removed]",
      "text/plain": [
       "plot without title"
      ]
     },
     "metadata": {},
     "output_type": "display_data"
    }
   ],
   "source": [
    "options(repr.plot.width=4, repr.plot.height=3)                                  # sets plot size in Jupyter notebook \n",
    "\n",
    "# use ggplot 2 graphics\n",
    "ggplot(newcar, aes(x= disp, y = hp)) + geom_point()                             # make scatterplot [geom_point]\n",
    "\n",
    "# more options\n",
    "# ggplot(newcar, aes(x= disp, y = hp)) + geom_point() + geom_smooth(method=lm)  # add trendline [geom_smooth]\n",
    "# ggplot(newcar, aes(x= disp, y = hp, color=cyl)) + geom_point()                # add group color\n",
    "\n",
    "# More tutorials\n",
    "# http://www.sthda.com/english/wiki/ggplot2-scatter-plots-quick-start-guide-r-software-and-data-visualization"
   ]
  },
  {
   "cell_type": "code",
   "execution_count": 30,
   "metadata": {},
   "outputs": [
    {
     "data": {},
     "metadata": {},
     "output_type": "display_data"
    },
    {
     "data": {
      "image/png": "[encoded data removed]",
      "text/plain": [
       "plot without title"
      ]
     },
     "metadata": {},
     "output_type": "display_data"
    }
   ],
   "source": [
    "# Barplot of economy car mpg\n",
    "options(repr.plot.width=4, repr.plot.height=3)                                  # sets plot size in Jupyter notebook \n",
    "\n",
    "ggplot(econ_cars, aes(x= model, y = mpg)) + geom_bar(stat = \"identity\") +       # geom_bar is barplot\n",
    "     theme(axis.text.x = element_text(angle = 90, hjust = 1))                   # rotate axes "
   ]
  },
  {
   "cell_type": "markdown",
   "metadata": {},
   "source": [
    "#### Want to learn more ggplot2 ?"
   ]
  },
  {
   "cell_type": "code",
   "execution_count": 31,
   "metadata": {
    "collapsed": true
   },
   "outputs": [],
   "source": [
    "?ggplot2                                                   # get R documentation, link to site with tutorials"
   ]
  },
  {
   "cell_type": "markdown",
   "metadata": {},
   "source": [
    "Again, I recommend this excellent set of tutorials for learning ggplot2 http://www.sthda.com/english/wiki/ggplot2-essentials\n",
    "\n",
    "Near the bottom of this list of tutorials by plot type, even more information is given to help you customize your colors, axes, and labels: http://www.sthda.com/english/wiki/ggplot2-colors-how-to-change-colors-automatically-and-manually , http://www.sthda.com/english/wiki/ggplot2-title-main-axis-and-legend-titles"
   ]
  },
  {
   "cell_type": "markdown",
   "metadata": {},
   "source": [
    "## 3) Workflow demonstration\n",
    "How do we turn data sets into understanding of relationships?  Here use the \"mtcars\" data set to illustrate data manipulations need to make simple summaries and plots.  My goal is to show these steps as part of a story, while leaving plenty of links to online resources to pursue each step more deeply.\n",
    "\n",
    "Here we explore relationships MPG and number of cylinders in the engine.  Simple data summaries (a) may not be sufficient for this, as we want to know about variation among engines by cylinder count.  The aggregate function (b) can create summaries by categories.  \n",
    "\n",
    "Categorical data is represented by factors (c), which can be defined and manipulated to reshape our data.  Cells below also show how to sort data (d), and this differs from (e) sorting factor levels (categories). "
   ]
  },
  {
   "cell_type": "markdown",
   "metadata": {},
   "source": [
    "### a) Summarizing data\n",
    "Using basic built in functions.\n",
    "More advanced functions for generating summaries are described at the end of b). "
   ]
  },
  {
   "cell_type": "code",
   "execution_count": 32,
   "metadata": {},
   "outputs": [
    {
     "data": {
      "text/plain": [
       "      mpg             cyl             disp             hp       \n",
       " Min.   :10.40   Min.   :4.000   Min.   : 71.1   Min.   : 52.0  \n",
       " 1st Qu.:15.43   1st Qu.:4.000   1st Qu.:120.8   1st Qu.: 96.5  \n",
       " Median :19.20   Median :6.000   Median :196.3   Median :123.0  \n",
       " Mean   :20.09   Mean   :6.188   Mean   :230.7   Mean   :146.7  \n",
       " 3rd Qu.:22.80   3rd Qu.:8.000   3rd Qu.:326.0   3rd Qu.:180.0  \n",
       " Max.   :33.90   Max.   :8.000   Max.   :472.0   Max.   :335.0  "
      ]
     },
     "metadata": {},
     "output_type": "display_data"
    }
   ],
   "source": [
    "# Summarize variables in data set \n",
    "summary(mtcars[,1:4])                                                # get summary for first 4 columns\n",
    "# ?summary                                                           # This built in function isn't amazing"
   ]
  },
  {
   "cell_type": "code",
   "execution_count": 33,
   "metadata": {},
   "outputs": [
    {
     "data": {
      "text/html": [
       "<dl class=dl-horizontal>\n",
       "\t<dt>mpg</dt>\n",
       "\t\t<dd>20.090625</dd>\n",
       "\t<dt>cyl</dt>\n",
       "\t\t<dd>6.1875</dd>\n",
       "\t<dt>disp</dt>\n",
       "\t\t<dd>230.721875</dd>\n",
       "\t<dt>hp</dt>\n",
       "\t\t<dd>146.6875</dd>\n",
       "\t<dt>drat</dt>\n",
       "\t\t<dd>3.5965625</dd>\n",
       "\t<dt>wt</dt>\n",
       "\t\t<dd>3.21725</dd>\n",
       "\t<dt>qsec</dt>\n",
       "\t\t<dd>17.84875</dd>\n",
       "\t<dt>vs</dt>\n",
       "\t\t<dd>0.4375</dd>\n",
       "\t<dt>am</dt>\n",
       "\t\t<dd>0.40625</dd>\n",
       "\t<dt>gear</dt>\n",
       "\t\t<dd>3.6875</dd>\n",
       "\t<dt>carb</dt>\n",
       "\t\t<dd>2.8125</dd>\n",
       "</dl>\n"
      ],
      "text/latex": [
       "\\begin{description*}\n",
       "\\item[mpg] 20.090625\n",
       "\\item[cyl] 6.1875\n",
       "\\item[disp] 230.721875\n",
       "\\item[hp] 146.6875\n",
       "\\item[drat] 3.5965625\n",
       "\\item[wt] 3.21725\n",
       "\\item[qsec] 17.84875\n",
       "\\item[vs] 0.4375\n",
       "\\item[am] 0.40625\n",
       "\\item[gear] 3.6875\n",
       "\\item[carb] 2.8125\n",
       "\\end{description*}\n"
      ],
      "text/markdown": [
       "mpg\n",
       ":   20.090625cyl\n",
       ":   6.1875disp\n",
       ":   230.721875hp\n",
       ":   146.6875drat\n",
       ":   3.5965625wt\n",
       ":   3.21725qsec\n",
       ":   17.84875vs\n",
       ":   0.4375am\n",
       ":   0.40625gear\n",
       ":   3.6875carb\n",
       ":   2.8125\n",
       "\n"
      ],
      "text/plain": [
       "       mpg        cyl       disp         hp       drat         wt       qsec \n",
       " 20.090625   6.187500 230.721875 146.687500   3.596563   3.217250  17.848750 \n",
       "        vs         am       gear       carb \n",
       "  0.437500   0.406250   3.687500   2.812500 "
      ]
     },
     "metadata": {},
     "output_type": "display_data"
    }
   ],
   "source": [
    "# only want means for each column?\n",
    "colMeans(mtcars)                                                     # Built in Column means function\n",
    "                                                                     # see also: rowMeans(), rowSums(), colSums  "
   ]
  },
  {
   "cell_type": "code",
   "execution_count": 34,
   "metadata": {},
   "outputs": [
    {
     "data": {
      "image/png": "[encoded data removed]",
      "text/plain": [
       "plot without title"
      ]
     },
     "metadata": {},
     "output_type": "display_data"
    }
   ],
   "source": [
    "# Plotting mpg as a function of # cylinders\n",
    "options(repr.plot.width=4, repr.plot.height=4)                       # sets plot size in Jupyter notebook, not Rstudio \n",
    "\n",
    "#plot(x = newcar$cyl, y = newcar$mpg)                                # plot using base R \n",
    "plot(x = newcar$cyl, y = newcar$mpg, xlab=\"Cylinders\", ylab=\"MPG\")   # add axis labels"
   ]
  },
  {
   "cell_type": "code",
   "execution_count": 35,
   "metadata": {
    "collapsed": true
   },
   "outputs": [],
   "source": [
    "# Excercise: Plot other data combinations in newcar data\n",
    "# colnames(newcar)                                                   # show variable names"
   ]
  },
  {
   "cell_type": "markdown",
   "metadata": {},
   "source": [
    "### b) Aggregating data \n",
    "The aggregate function is a powerful way to summarize data by a given variable, or more than one.\n",
    "\n",
    "Here we use it to summarize the mean of every column, based on the number of cylinders in the car's engine.\n",
    "There are many ways to use this function, and we can pass several kinds of functions to the FUN= argument, including sum, max, min, length, or even our own functions."
   ]
  },
  {
   "cell_type": "code",
   "execution_count": 36,
   "metadata": {},
   "outputs": [
    {
     "data": {
      "text/html": [
       "<table>\n",
       "<thead><tr><th scope=col>Group.1</th><th scope=col>mpg</th><th scope=col>cyl</th><th scope=col>disp</th><th scope=col>hp</th><th scope=col>drat</th><th scope=col>wt</th><th scope=col>qsec</th><th scope=col>vs</th><th scope=col>am</th><th scope=col>gear</th><th scope=col>carb</th></tr></thead>\n",
       "<tbody>\n",
       "\t<tr><td>4        </td><td>26.66364 </td><td>4        </td><td>105.1364 </td><td> 82.63636</td><td>4.070909 </td><td>2.285727 </td><td>19.13727 </td><td>0.9090909</td><td>0.7272727</td><td>4.090909 </td><td>1.545455 </td></tr>\n",
       "\t<tr><td>6        </td><td>19.74286 </td><td>6        </td><td>183.3143 </td><td>122.28571</td><td>3.585714 </td><td>3.117143 </td><td>17.97714 </td><td>0.5714286</td><td>0.4285714</td><td>3.857143 </td><td>3.428571 </td></tr>\n",
       "\t<tr><td>8        </td><td>15.10000 </td><td>8        </td><td>353.1000 </td><td>209.21429</td><td>3.229286 </td><td>3.999214 </td><td>16.77214 </td><td>0.0000000</td><td>0.1428571</td><td>3.285714 </td><td>3.500000 </td></tr>\n",
       "</tbody>\n",
       "</table>\n"
      ],
      "text/latex": [
       "\\begin{tabular}{r|llllllllllll}\n",
       " Group.1 & mpg & cyl & disp & hp & drat & wt & qsec & vs & am & gear & carb\\\\\n",
       "\\hline\n",
       "\t 4         & 26.66364  & 4         & 105.1364  &  82.63636 & 4.070909  & 2.285727  & 19.13727  & 0.9090909 & 0.7272727 & 4.090909  & 1.545455 \\\\\n",
       "\t 6         & 19.74286  & 6         & 183.3143  & 122.28571 & 3.585714  & 3.117143  & 17.97714  & 0.5714286 & 0.4285714 & 3.857143  & 3.428571 \\\\\n",
       "\t 8         & 15.10000  & 8         & 353.1000  & 209.21429 & 3.229286  & 3.999214  & 16.77214  & 0.0000000 & 0.1428571 & 3.285714  & 3.500000 \\\\\n",
       "\\end{tabular}\n"
      ],
      "text/markdown": [
       "\n",
       "Group.1 | mpg | cyl | disp | hp | drat | wt | qsec | vs | am | gear | carb | \n",
       "|---|---|---|\n",
       "| 4         | 26.66364  | 4         | 105.1364  |  82.63636 | 4.070909  | 2.285727  | 19.13727  | 0.9090909 | 0.7272727 | 4.090909  | 1.545455  | \n",
       "| 6         | 19.74286  | 6         | 183.3143  | 122.28571 | 3.585714  | 3.117143  | 17.97714  | 0.5714286 | 0.4285714 | 3.857143  | 3.428571  | \n",
       "| 8         | 15.10000  | 8         | 353.1000  | 209.21429 | 3.229286  | 3.999214  | 16.77214  | 0.0000000 | 0.1428571 | 3.285714  | 3.500000  | \n",
       "\n",
       "\n"
      ],
      "text/plain": [
       "  Group.1 mpg      cyl disp     hp        drat     wt       qsec     vs       \n",
       "1 4       26.66364 4   105.1364  82.63636 4.070909 2.285727 19.13727 0.9090909\n",
       "2 6       19.74286 6   183.3143 122.28571 3.585714 3.117143 17.97714 0.5714286\n",
       "3 8       15.10000 8   353.1000 209.21429 3.229286 3.999214 16.77214 0.0000000\n",
       "  am        gear     carb    \n",
       "1 0.7272727 4.090909 1.545455\n",
       "2 0.4285714 3.857143 3.428571\n",
       "3 0.1428571 3.285714 3.500000"
      ]
     },
     "metadata": {},
     "output_type": "display_data"
    }
   ],
   "source": [
    "# Get column MEANS by cylinder\n",
    "\n",
    "cyl_means <-aggregate(mtcars, by=list(mtcars$cyl), FUN=mean)         # use aggregate, with function as mean\n",
    "#colnames(cyl_means)[1] <-\"cylinders\"                                # rename first column\n",
    "cyl_means"
   ]
  },
  {
   "cell_type": "markdown",
   "metadata": {},
   "source": [
    "### More ways to generate data summaries"
   ]
  },
  {
   "cell_type": "markdown",
   "metadata": {},
   "source": [
    "#### Use apply family of functions...................................................................... see section 7\n",
    "apply(mtcars, 2, mean)                                               # here 2 indicates summarizing columns, not rows (1)\n",
    "\n",
    "#### Sweep function easily generates % total data from matrix .................... see section 6.d\n",
    "\n",
    "#### Using base  R : \n",
    "https://www.r-bloggers.com/r-tutorial-series-summary-and-descriptive-statistics/\n",
    "\n",
    "### dplyr library might be best, but rather complex:    \n",
    "https://cran.r-project.org/web/packages/dplyr/vignettes/dplyr.html\n",
    "\n",
    "https://www.r-bloggers.com/using-r-quickly-calculating-summary-statistics-from-a-data-frame/"
   ]
  },
  {
   "cell_type": "markdown",
   "metadata": {},
   "source": [
    "### c) Working with factors"
   ]
  },
  {
   "cell_type": "markdown",
   "metadata": {},
   "source": [
    "Factors are categorical variables (or classes).  We might expect to see multiple observations (rows) for each value (level) in a class. Factors are most frequently text-based class labels. Numeric data can be used, but will be converted to the text representation (character values).  "
   ]
  },
  {
   "cell_type": "code",
   "execution_count": 37,
   "metadata": {},
   "outputs": [
    {
     "data": {
      "text/html": [
       "<ol class=list-inline>\n",
       "\t<li>'4'</li>\n",
       "\t<li>'6'</li>\n",
       "\t<li>'8'</li>\n",
       "</ol>\n"
      ],
      "text/latex": [
       "\\begin{enumerate*}\n",
       "\\item '4'\n",
       "\\item '6'\n",
       "\\item '8'\n",
       "\\end{enumerate*}\n"
      ],
      "text/markdown": [
       "1. '4'\n",
       "2. '6'\n",
       "3. '8'\n",
       "\n",
       "\n"
      ],
      "text/plain": [
       "[1] \"4\" \"6\" \"8\""
      ]
     },
     "metadata": {},
     "output_type": "display_data"
    }
   ],
   "source": [
    "# Make cylinder a FACTOR\n",
    "newcar$cyl <-factor(newcar$cyl)                                     # make column a factor (category)\n",
    "levels(newcar$cyl)                                                  # show LEVELS of factor (categorical var)"
   ]
  },
  {
   "cell_type": "code",
   "execution_count": 38,
   "metadata": {},
   "outputs": [
    {
     "data": {
      "text/html": [
       "<ol class=list-inline>\n",
       "\t<li>'four'</li>\n",
       "\t<li>'six'</li>\n",
       "\t<li>'eight'</li>\n",
       "</ol>\n"
      ],
      "text/latex": [
       "\\begin{enumerate*}\n",
       "\\item 'four'\n",
       "\\item 'six'\n",
       "\\item 'eight'\n",
       "\\end{enumerate*}\n"
      ],
      "text/markdown": [
       "1. 'four'\n",
       "2. 'six'\n",
       "3. 'eight'\n",
       "\n",
       "\n"
      ],
      "text/plain": [
       "[1] \"four\"  \"six\"   \"eight\""
      ]
     },
     "metadata": {},
     "output_type": "display_data"
    }
   ],
   "source": [
    "# Rename levels of a factor\n",
    "levels(newcar$cyl) <-c(\"four\", \"six\", \"eight\")\n",
    "levels(newcar$cyl)"
   ]
  },
  {
   "cell_type": "code",
   "execution_count": 39,
   "metadata": {},
   "outputs": [
    {
     "data": {
      "image/png": "[encoded data removed]",
      "text/plain": [
       "plot without title"
      ]
     },
     "metadata": {},
     "output_type": "display_data"
    }
   ],
   "source": [
    "# now we can visualize MPG by number of cylinders\n",
    "options(repr.plot.width=3, repr.plot.height=3)                      # sets plot size in Jupyter notebook \n",
    "\n",
    "plot(x = newcar$cyl, y = newcar$mpg, xlab=\"Cylinders\", ylab=\"MPG\")  # plot using base R graphics"
   ]
  },
  {
   "cell_type": "code",
   "execution_count": 40,
   "metadata": {},
   "outputs": [
    {
     "data": {
      "text/html": [
       "<ol class=list-inline>\n",
       "\t<li>'4'</li>\n",
       "\t<li>'6'</li>\n",
       "\t<li>'8'</li>\n",
       "</ol>\n"
      ],
      "text/latex": [
       "\\begin{enumerate*}\n",
       "\\item '4'\n",
       "\\item '6'\n",
       "\\item '8'\n",
       "\\end{enumerate*}\n"
      ],
      "text/markdown": [
       "1. '4'\n",
       "2. '6'\n",
       "3. '8'\n",
       "\n",
       "\n"
      ],
      "text/plain": [
       "[1] \"4\" \"6\" \"8\""
      ]
     },
     "metadata": {},
     "output_type": "display_data"
    }
   ],
   "source": [
    "# change the factor names back to original numbers\n",
    "no_cyl <-c(\"4\", \"6\", \"8\")                                            # make vector of num characters \n",
    "levels(newcar$cyl) <- no_cyl                                         # rename factors \n",
    "levels(newcar$cyl)"
   ]
  },
  {
   "cell_type": "code",
   "execution_count": 41,
   "metadata": {},
   "outputs": [
    {
     "data": {
      "text/html": [
       "<table>\n",
       "<thead><tr><th></th><th scope=col>mpg</th><th scope=col>cyl</th><th scope=col>disp</th><th scope=col>hp</th><th scope=col>drat</th><th scope=col>wt</th><th scope=col>qsec</th><th scope=col>vs</th><th scope=col>am</th><th scope=col>gear</th><th scope=col>carb</th><th scope=col>model</th></tr></thead>\n",
       "<tbody>\n",
       "\t<tr><th scope=row>Mazda RX4</th><td>21.0          </td><td>6             </td><td>160.0         </td><td>110           </td><td>3.90          </td><td>2.620         </td><td>16.46         </td><td>0             </td><td>1             </td><td>4             </td><td>4             </td><td>Mazda RX4     </td></tr>\n",
       "\t<tr><th scope=row>Mazda RX4 Wag</th><td>21.0          </td><td>6             </td><td>160.0         </td><td>110           </td><td>3.90          </td><td>2.875         </td><td>17.02         </td><td>0             </td><td>1             </td><td>4             </td><td>4             </td><td>Mazda RX4 Wag </td></tr>\n",
       "\t<tr><th scope=row>Hornet 4 Drive</th><td>21.4          </td><td>6             </td><td>258.0         </td><td>110           </td><td>3.08          </td><td>3.215         </td><td>19.44         </td><td>1             </td><td>0             </td><td>3             </td><td>1             </td><td>Hornet 4 Drive</td></tr>\n",
       "\t<tr><th scope=row>Valiant</th><td>18.1          </td><td>6             </td><td>225.0         </td><td>105           </td><td>2.76          </td><td>3.460         </td><td>20.22         </td><td>1             </td><td>0             </td><td>3             </td><td>1             </td><td>Valiant       </td></tr>\n",
       "\t<tr><th scope=row>Merc 280</th><td>19.2          </td><td>6             </td><td>167.6         </td><td>123           </td><td>3.92          </td><td>3.440         </td><td>18.30         </td><td>1             </td><td>0             </td><td>4             </td><td>4             </td><td>Merc 280      </td></tr>\n",
       "\t<tr><th scope=row>Merc 280C</th><td>17.8          </td><td>6             </td><td>167.6         </td><td>123           </td><td>3.92          </td><td>3.440         </td><td>18.90         </td><td>1             </td><td>0             </td><td>4             </td><td>4             </td><td>Merc 280C     </td></tr>\n",
       "\t<tr><th scope=row>Ferrari Dino</th><td>19.7          </td><td>6             </td><td>145.0         </td><td>175           </td><td>3.62          </td><td>2.770         </td><td>15.50         </td><td>0             </td><td>1             </td><td>5             </td><td>6             </td><td>Ferrari Dino  </td></tr>\n",
       "</tbody>\n",
       "</table>\n"
      ],
      "text/latex": [
       "\\begin{tabular}{r|llllllllllll}\n",
       "  & mpg & cyl & disp & hp & drat & wt & qsec & vs & am & gear & carb & model\\\\\n",
       "\\hline\n",
       "\tMazda RX4 & 21.0           & 6              & 160.0          & 110            & 3.90           & 2.620          & 16.46          & 0              & 1              & 4              & 4              & Mazda RX4     \\\\\n",
       "\tMazda RX4 Wag & 21.0           & 6              & 160.0          & 110            & 3.90           & 2.875          & 17.02          & 0              & 1              & 4              & 4              & Mazda RX4 Wag \\\\\n",
       "\tHornet 4 Drive & 21.4           & 6              & 258.0          & 110            & 3.08           & 3.215          & 19.44          & 1              & 0              & 3              & 1              & Hornet 4 Drive\\\\\n",
       "\tValiant & 18.1           & 6              & 225.0          & 105            & 2.76           & 3.460          & 20.22          & 1              & 0              & 3              & 1              & Valiant       \\\\\n",
       "\tMerc 280 & 19.2           & 6              & 167.6          & 123            & 3.92           & 3.440          & 18.30          & 1              & 0              & 4              & 4              & Merc 280      \\\\\n",
       "\tMerc 280C & 17.8           & 6              & 167.6          & 123            & 3.92           & 3.440          & 18.90          & 1              & 0              & 4              & 4              & Merc 280C     \\\\\n",
       "\tFerrari Dino & 19.7           & 6              & 145.0          & 175            & 3.62           & 2.770          & 15.50          & 0              & 1              & 5              & 6              & Ferrari Dino  \\\\\n",
       "\\end{tabular}\n"
      ],
      "text/markdown": [
       "\n",
       "| <!--/--> | mpg | cyl | disp | hp | drat | wt | qsec | vs | am | gear | carb | model | \n",
       "|---|---|---|---|---|---|---|\n",
       "| Mazda RX4 | 21.0           | 6              | 160.0          | 110            | 3.90           | 2.620          | 16.46          | 0              | 1              | 4              | 4              | Mazda RX4      | \n",
       "| Mazda RX4 Wag | 21.0           | 6              | 160.0          | 110            | 3.90           | 2.875          | 17.02          | 0              | 1              | 4              | 4              | Mazda RX4 Wag  | \n",
       "| Hornet 4 Drive | 21.4           | 6              | 258.0          | 110            | 3.08           | 3.215          | 19.44          | 1              | 0              | 3              | 1              | Hornet 4 Drive | \n",
       "| Valiant | 18.1           | 6              | 225.0          | 105            | 2.76           | 3.460          | 20.22          | 1              | 0              | 3              | 1              | Valiant        | \n",
       "| Merc 280 | 19.2           | 6              | 167.6          | 123            | 3.92           | 3.440          | 18.30          | 1              | 0              | 4              | 4              | Merc 280       | \n",
       "| Merc 280C | 17.8           | 6              | 167.6          | 123            | 3.92           | 3.440          | 18.90          | 1              | 0              | 4              | 4              | Merc 280C      | \n",
       "| Ferrari Dino | 19.7           | 6              | 145.0          | 175            | 3.62           | 2.770          | 15.50          | 0              | 1              | 5              | 6              | Ferrari Dino   | \n",
       "\n",
       "\n"
      ],
      "text/plain": [
       "               mpg  cyl disp  hp  drat wt    qsec  vs am gear carb\n",
       "Mazda RX4      21.0 6   160.0 110 3.90 2.620 16.46 0  1  4    4   \n",
       "Mazda RX4 Wag  21.0 6   160.0 110 3.90 2.875 17.02 0  1  4    4   \n",
       "Hornet 4 Drive 21.4 6   258.0 110 3.08 3.215 19.44 1  0  3    1   \n",
       "Valiant        18.1 6   225.0 105 2.76 3.460 20.22 1  0  3    1   \n",
       "Merc 280       19.2 6   167.6 123 3.92 3.440 18.30 1  0  4    4   \n",
       "Merc 280C      17.8 6   167.6 123 3.92 3.440 18.90 1  0  4    4   \n",
       "Ferrari Dino   19.7 6   145.0 175 3.62 2.770 15.50 0  1  5    6   \n",
       "               model         \n",
       "Mazda RX4      Mazda RX4     \n",
       "Mazda RX4 Wag  Mazda RX4 Wag \n",
       "Hornet 4 Drive Hornet 4 Drive\n",
       "Valiant        Valiant       \n",
       "Merc 280       Merc 280      \n",
       "Merc 280C      Merc 280C     \n",
       "Ferrari Dino   Ferrari Dino  "
      ]
     },
     "metadata": {},
     "output_type": "display_data"
    }
   ],
   "source": [
    "# Select only data with particular factor level                      # Could work for numeric without quotes\n",
    "six_cyl_cars <- newcar[newcar$cyl==\"6\",]                             # again, need comma to denote for all columns\n",
    "six_cyl_cars"
   ]
  },
  {
   "cell_type": "code",
   "execution_count": 42,
   "metadata": {},
   "outputs": [
    {
     "data": {
      "text/html": [
       "<ol class=list-inline>\n",
       "\t<li>'econo'</li>\n",
       "\t<li>'low mpg'</li>\n",
       "</ol>\n"
      ],
      "text/latex": [
       "\\begin{enumerate*}\n",
       "\\item 'econo'\n",
       "\\item 'low mpg'\n",
       "\\end{enumerate*}\n"
      ],
      "text/markdown": [
       "1. 'econo'\n",
       "2. 'low mpg'\n",
       "\n",
       "\n"
      ],
      "text/plain": [
       "[1] \"econo\"   \"low mpg\""
      ]
     },
     "metadata": {},
     "output_type": "display_data"
    }
   ],
   "source": [
    "# recode numeric data as factor \n",
    "newcar$econo <- ifelse(newcar$mpg > 20, \"econo\", \"low mpg\")           # ifelse(condition, if true, if false)\n",
    "newcar$econo <- as.factor(newcar$econo)                               # make strings factors \n",
    "levels(newcar$econo)                                                  # show factor levels "
   ]
  },
  {
   "cell_type": "code",
   "execution_count": 43,
   "metadata": {},
   "outputs": [
    {
     "data": {},
     "metadata": {},
     "output_type": "display_data"
    },
    {
     "data": {
      "image/png": "[encoded data removed]",
      "text/plain": [
       "plot without title"
      ]
     },
     "metadata": {},
     "output_type": "display_data"
    }
   ],
   "source": [
    "# Extra: Make ggplot2 boxplot\n",
    "options(repr.plot.width=4, repr.plot.height=3)                        # sets plot size in Jupyter notebook \n",
    "\n",
    "# ggplot2 box plot\n",
    "plot <- ggplot(newcar, aes(x=cyl, y=mpg, color=cyl)) + geom_boxplot() # make simple boxplots\n",
    "plot + geom_jitter(position=position_jitter(0.1))           # add underlying data with jitter \n",
    "\n",
    "# For more, see boxplots tutorial at \n",
    "# http://www.sthda.com/english/wiki/ggplot2-box-plot-quick-start-guide-r-software-and-data-visualization"
   ]
  },
  {
   "cell_type": "markdown",
   "metadata": {},
   "source": [
    "### d) Sorting data \n",
    "Using order function: Dataframe to be sorted[], order rows on(variable), for all columns"
   ]
  },
  {
   "cell_type": "code",
   "execution_count": 44,
   "metadata": {},
   "outputs": [
    {
     "data": {
      "text/html": [
       "<table>\n",
       "<thead><tr><th></th><th scope=col>mpg</th><th scope=col>cyl</th><th scope=col>disp</th><th scope=col>hp</th><th scope=col>drat</th><th scope=col>wt</th><th scope=col>qsec</th><th scope=col>vs</th><th scope=col>am</th><th scope=col>gear</th><th scope=col>carb</th><th scope=col>model</th><th scope=col>econo</th></tr></thead>\n",
       "<tbody>\n",
       "\t<tr><th scope=row>Toyota Corolla</th><td>33.9          </td><td>4             </td><td> 71.1         </td><td> 65           </td><td>4.22          </td><td>1.835         </td><td>19.90         </td><td>1             </td><td>1             </td><td>4             </td><td>1             </td><td>Toyota Corolla</td><td>econo         </td></tr>\n",
       "\t<tr><th scope=row>Fiat 128</th><td>32.4          </td><td>4             </td><td> 78.7         </td><td> 66           </td><td>4.08          </td><td>2.200         </td><td>19.47         </td><td>1             </td><td>1             </td><td>4             </td><td>1             </td><td>Fiat 128      </td><td>econo         </td></tr>\n",
       "\t<tr><th scope=row>Honda Civic</th><td>30.4          </td><td>4             </td><td> 75.7         </td><td> 52           </td><td>4.93          </td><td>1.615         </td><td>18.52         </td><td>1             </td><td>1             </td><td>4             </td><td>2             </td><td>Honda Civic   </td><td>econo         </td></tr>\n",
       "\t<tr><th scope=row>Lotus Europa</th><td>30.4          </td><td>4             </td><td> 95.1         </td><td>113           </td><td>3.77          </td><td>1.513         </td><td>16.90         </td><td>1             </td><td>1             </td><td>5             </td><td>2             </td><td>Lotus Europa  </td><td>econo         </td></tr>\n",
       "\t<tr><th scope=row>Fiat X1-9</th><td>27.3          </td><td>4             </td><td> 79.0         </td><td> 66           </td><td>4.08          </td><td>1.935         </td><td>18.90         </td><td>1             </td><td>1             </td><td>4             </td><td>1             </td><td>Fiat X1-9     </td><td>econo         </td></tr>\n",
       "\t<tr><th scope=row>Porsche 914-2</th><td>26.0          </td><td>4             </td><td>120.3         </td><td> 91           </td><td>4.43          </td><td>2.140         </td><td>16.70         </td><td>0             </td><td>1             </td><td>5             </td><td>2             </td><td>Porsche 914-2 </td><td>econo         </td></tr>\n",
       "</tbody>\n",
       "</table>\n"
      ],
      "text/latex": [
       "\\begin{tabular}{r|lllllllllllll}\n",
       "  & mpg & cyl & disp & hp & drat & wt & qsec & vs & am & gear & carb & model & econo\\\\\n",
       "\\hline\n",
       "\tToyota Corolla & 33.9           & 4              &  71.1          &  65            & 4.22           & 1.835          & 19.90          & 1              & 1              & 4              & 1              & Toyota Corolla & econo         \\\\\n",
       "\tFiat 128 & 32.4           & 4              &  78.7          &  66            & 4.08           & 2.200          & 19.47          & 1              & 1              & 4              & 1              & Fiat 128       & econo         \\\\\n",
       "\tHonda Civic & 30.4           & 4              &  75.7          &  52            & 4.93           & 1.615          & 18.52          & 1              & 1              & 4              & 2              & Honda Civic    & econo         \\\\\n",
       "\tLotus Europa & 30.4           & 4              &  95.1          & 113            & 3.77           & 1.513          & 16.90          & 1              & 1              & 5              & 2              & Lotus Europa   & econo         \\\\\n",
       "\tFiat X1-9 & 27.3           & 4              &  79.0          &  66            & 4.08           & 1.935          & 18.90          & 1              & 1              & 4              & 1              & Fiat X1-9      & econo         \\\\\n",
       "\tPorsche 914-2 & 26.0           & 4              & 120.3          &  91            & 4.43           & 2.140          & 16.70          & 0              & 1              & 5              & 2              & Porsche 914-2  & econo         \\\\\n",
       "\\end{tabular}\n"
      ],
      "text/markdown": [
       "\n",
       "| <!--/--> | mpg | cyl | disp | hp | drat | wt | qsec | vs | am | gear | carb | model | econo | \n",
       "|---|---|---|---|---|---|\n",
       "| Toyota Corolla | 33.9           | 4              |  71.1          |  65            | 4.22           | 1.835          | 19.90          | 1              | 1              | 4              | 1              | Toyota Corolla | econo          | \n",
       "| Fiat 128 | 32.4           | 4              |  78.7          |  66            | 4.08           | 2.200          | 19.47          | 1              | 1              | 4              | 1              | Fiat 128       | econo          | \n",
       "| Honda Civic | 30.4           | 4              |  75.7          |  52            | 4.93           | 1.615          | 18.52          | 1              | 1              | 4              | 2              | Honda Civic    | econo          | \n",
       "| Lotus Europa | 30.4           | 4              |  95.1          | 113            | 3.77           | 1.513          | 16.90          | 1              | 1              | 5              | 2              | Lotus Europa   | econo          | \n",
       "| Fiat X1-9 | 27.3           | 4              |  79.0          |  66            | 4.08           | 1.935          | 18.90          | 1              | 1              | 4              | 1              | Fiat X1-9      | econo          | \n",
       "| Porsche 914-2 | 26.0           | 4              | 120.3          |  91            | 4.43           | 2.140          | 16.70          | 0              | 1              | 5              | 2              | Porsche 914-2  | econo          | \n",
       "\n",
       "\n"
      ],
      "text/plain": [
       "               mpg  cyl disp  hp  drat wt    qsec  vs am gear carb\n",
       "Toyota Corolla 33.9 4    71.1  65 4.22 1.835 19.90 1  1  4    1   \n",
       "Fiat 128       32.4 4    78.7  66 4.08 2.200 19.47 1  1  4    1   \n",
       "Honda Civic    30.4 4    75.7  52 4.93 1.615 18.52 1  1  4    2   \n",
       "Lotus Europa   30.4 4    95.1 113 3.77 1.513 16.90 1  1  5    2   \n",
       "Fiat X1-9      27.3 4    79.0  66 4.08 1.935 18.90 1  1  4    1   \n",
       "Porsche 914-2  26.0 4   120.3  91 4.43 2.140 16.70 0  1  5    2   \n",
       "               model          econo\n",
       "Toyota Corolla Toyota Corolla econo\n",
       "Fiat 128       Fiat 128       econo\n",
       "Honda Civic    Honda Civic    econo\n",
       "Lotus Europa   Lotus Europa   econo\n",
       "Fiat X1-9      Fiat X1-9      econo\n",
       "Porsche 914-2  Porsche 914-2  econo"
      ]
     },
     "metadata": {},
     "output_type": "display_data"
    }
   ],
   "source": [
    "newcar <- newcar[order(-newcar$mpg),]                       # \"-\" in front of sorting variable gives descending order                     \n",
    "# newcar <- newcar[order(newcar$mpg),]                      # ascending order \n",
    "# newcar[order(newcar$cyl, newcar$mpg),]                    # can also sort by more than one variable\n",
    "\n",
    "head(newcar) # tail(newcar)"
   ]
  },
  {
   "cell_type": "markdown",
   "metadata": {},
   "source": [
    "### e) Sorting factor levels \n",
    "We would like to visualize relationships between MPG and cylinders for individual cars. While ggplot2 is a powerful, we still need to massage the data to get the plot to display the way we might imagine it.  Even though we sorted cars by mpg, ggplot does not arrange them this way. \n",
    "\n",
    "We will need to rearrange the car \"model\" FACTOR levels in order to plot them by MPG.   \n"
   ]
  },
  {
   "cell_type": "code",
   "execution_count": 45,
   "metadata": {},
   "outputs": [
    {
     "data": {},
     "metadata": {},
     "output_type": "display_data"
    },
    {
     "data": {
      "image/png": "[encoded data removed]",
      "text/plain": [
       "plot without title"
      ]
     },
     "metadata": {},
     "output_type": "display_data"
    }
   ],
   "source": [
    "# plot MPG for each car model, grouped by number of cylinders\n",
    "p1 <- ggplot(newcar, aes(x = model, y = mpg, fill = cyl)) +     # ggplot using newcar data, define x,y, color fill\n",
    "        geom_bar(stat = \"identity\") + coord_flip()              # plot type (geom_bar), flip axes\n",
    "       \n",
    "\n",
    "options(repr.plot.width=4, repr.plot.height=4)                  # sets plot size in Jupyter notebook \n",
    "\n",
    "p1                                                              # Display plot defined above "
   ]
  },
  {
   "cell_type": "markdown",
   "metadata": {},
   "source": [
    "### sort factor levels"
   ]
  },
  {
   "cell_type": "code",
   "execution_count": 46,
   "metadata": {
    "collapsed": true
   },
   "outputs": [],
   "source": [
    "# Reorder factor (model) by order of another variable\n",
    "newcar$model <- reorder(newcar$model, newcar$mpg)               # reorder model factor by mpg\n",
    "# levels(newcar$model)\n"
   ]
  },
  {
   "cell_type": "code",
   "execution_count": 47,
   "metadata": {},
   "outputs": [
    {
     "data": {},
     "metadata": {},
     "output_type": "display_data"
    },
    {
     "data": {
      "image/png": "[encoded data removed]",
      "text/plain": [
       "plot without title"
      ]
     },
     "metadata": {},
     "output_type": "display_data"
    }
   ],
   "source": [
    "# Plot again with reordered factor levels\n",
    "p2 <- ggplot(newcar, aes(x = model, y = mpg, fill = cyl)) +     # ggplot using newcar data, define x,y, color fill\n",
    "        geom_bar(stat = \"identity\") + coord_flip()             # plot type (geom_bar), flip axes \n",
    "\n",
    "options(repr.plot.width=4, repr.plot.height=4)                  # sets plot size in Jupyter notebook \n",
    "p2"
   ]
  },
  {
   "cell_type": "markdown",
   "metadata": {},
   "source": [
    "## 4) Other data structures\n",
    "There are other essential data types and functions we will need to manipulate our data.  \n",
    "\n",
    "This example adds the country of origin to our cars data set to illustrate how we can work with text (strings), remove missing data, and merge data across datasets.  Merging is an essential way to combine data, even when rows do not match exactly."
   ]
  },
  {
   "cell_type": "markdown",
   "metadata": {},
   "source": [
    "### a) Working with strings (aka character text)\n",
    "Strings are character data, like that printed on your keyboard.  \n",
    "\n",
    "Strings can contain letters, numbers, or punctuation, but numbers and punctuation are interpreted as text. Here we split strings in a column into pieces that were originally divided by a space (\" \").  Each these split pieces are given their own columns.   "
   ]
  },
  {
   "cell_type": "code",
   "execution_count": 48,
   "metadata": {
    "collapsed": true
   },
   "outputs": [],
   "source": [
    "library(stringr)                                                         # library for manipulating strings"
   ]
  },
  {
   "cell_type": "code",
   "execution_count": 49,
   "metadata": {},
   "outputs": [
    {
     "data": {
      "text/html": [
       "6"
      ],
      "text/latex": [
       "6"
      ],
      "text/markdown": [
       "6"
      ],
      "text/plain": [
       "[1] 6"
      ]
     },
     "metadata": {},
     "output_type": "display_data"
    },
    {
     "data": {
      "text/html": [
       "'6'"
      ],
      "text/latex": [
       "'6'"
      ],
      "text/markdown": [
       "'6'"
      ],
      "text/plain": [
       "[1] \"6\""
      ]
     },
     "metadata": {},
     "output_type": "display_data"
    }
   ],
   "source": [
    "x <-6                                                                    # define x \n",
    "x                                                                        # x is numeric\n",
    "as.character(x)                                                          # display x as a string"
   ]
  },
  {
   "cell_type": "code",
   "execution_count": 50,
   "metadata": {},
   "outputs": [
    {
     "data": {
      "text/html": [
       "<ol class=list-inline>\n",
       "\t<li>Toyota Corolla</li>\n",
       "\t<li>Fiat 128</li>\n",
       "\t<li>Honda Civic</li>\n",
       "\t<li>Lotus Europa</li>\n",
       "\t<li>Fiat X1-9</li>\n",
       "\t<li>Porsche 914-2</li>\n",
       "</ol>\n"
      ],
      "text/latex": [
       "\\begin{enumerate*}\n",
       "\\item Toyota Corolla\n",
       "\\item Fiat 128\n",
       "\\item Honda Civic\n",
       "\\item Lotus Europa\n",
       "\\item Fiat X1-9\n",
       "\\item Porsche 914-2\n",
       "\\end{enumerate*}\n"
      ],
      "text/markdown": [
       "1. Toyota Corolla\n",
       "2. Fiat 128\n",
       "3. Honda Civic\n",
       "4. Lotus Europa\n",
       "5. Fiat X1-9\n",
       "6. Porsche 914-2\n",
       "\n",
       "\n"
      ],
      "text/plain": [
       "[1] Toyota Corolla Fiat 128       Honda Civic    Lotus Europa   Fiat X1-9     \n",
       "[6] Porsche 914-2 \n",
       "32 Levels: Cadillac Fleetwood Lincoln Continental Camaro Z28 ... Toyota Corolla"
      ]
     },
     "metadata": {},
     "output_type": "display_data"
    }
   ],
   "source": [
    "# Look at car model data -- we want to separate the brand from model \n",
    "head(newcar$model)"
   ]
  },
  {
   "cell_type": "code",
   "execution_count": 51,
   "metadata": {},
   "outputs": [
    {
     "data": {
      "text/html": [
       "<ol class=list-inline>\n",
       "\t<li>32</li>\n",
       "\t<li>3</li>\n",
       "</ol>\n"
      ],
      "text/latex": [
       "\\begin{enumerate*}\n",
       "\\item 32\n",
       "\\item 3\n",
       "\\end{enumerate*}\n"
      ],
      "text/markdown": [
       "1. 32\n",
       "2. 3\n",
       "\n",
       "\n"
      ],
      "text/plain": [
       "[1] 32  3"
      ]
     },
     "metadata": {},
     "output_type": "display_data"
    },
    {
     "data": {
      "text/html": [
       "<table>\n",
       "<thead><tr><th scope=col>Make</th><th scope=col>Model</th><th scope=col>model</th></tr></thead>\n",
       "<tbody>\n",
       "\t<tr><td>Toyota        </td><td>Corolla       </td><td>Toyota Corolla</td></tr>\n",
       "\t<tr><td>Fiat          </td><td>128           </td><td>Fiat 128      </td></tr>\n",
       "\t<tr><td>Honda         </td><td>Civic         </td><td>Honda Civic   </td></tr>\n",
       "\t<tr><td>Lotus         </td><td>Europa        </td><td>Lotus Europa  </td></tr>\n",
       "\t<tr><td>Fiat          </td><td>X1-9          </td><td>Fiat X1-9     </td></tr>\n",
       "\t<tr><td>Porsche       </td><td>914-2         </td><td>Porsche 914-2 </td></tr>\n",
       "</tbody>\n",
       "</table>\n"
      ],
      "text/latex": [
       "\\begin{tabular}{r|lll}\n",
       " Make & Model & model\\\\\n",
       "\\hline\n",
       "\t Toyota         & Corolla        & Toyota Corolla\\\\\n",
       "\t Fiat           & 128            & Fiat 128      \\\\\n",
       "\t Honda          & Civic          & Honda Civic   \\\\\n",
       "\t Lotus          & Europa         & Lotus Europa  \\\\\n",
       "\t Fiat           & X1-9           & Fiat X1-9     \\\\\n",
       "\t Porsche        & 914-2          & Porsche 914-2 \\\\\n",
       "\\end{tabular}\n"
      ],
      "text/markdown": [
       "\n",
       "Make | Model | model | \n",
       "|---|---|---|---|---|---|\n",
       "| Toyota         | Corolla        | Toyota Corolla | \n",
       "| Fiat           | 128            | Fiat 128       | \n",
       "| Honda          | Civic          | Honda Civic    | \n",
       "| Lotus          | Europa         | Lotus Europa   | \n",
       "| Fiat           | X1-9           | Fiat X1-9      | \n",
       "| Porsche        | 914-2          | Porsche 914-2  | \n",
       "\n",
       "\n"
      ],
      "text/plain": [
       "  Make    Model   model         \n",
       "1 Toyota  Corolla Toyota Corolla\n",
       "2 Fiat    128     Fiat 128      \n",
       "3 Honda   Civic   Honda Civic   \n",
       "4 Lotus   Europa  Lotus Europa  \n",
       "5 Fiat    X1-9    Fiat X1-9     \n",
       "6 Porsche 914-2   Porsche 914-2 "
      ]
     },
     "metadata": {},
     "output_type": "display_data"
    }
   ],
   "source": [
    "# Split car models into make and model\n",
    "make_model<-str_split(newcar$model, \" \", 2, simplify=TRUE)               # Split strings by \"\", create 2 columns\n",
    "\n",
    "make_model <-data.frame(make_model)                                      # Make data frame from list   \n",
    "colnames(make_model) <-c(\"Make\", \"Model\")                                # rename columns\n",
    "\n",
    "make_model$model <- newcar$model                                         # add back original data\n",
    "dim(make_model); head(make_model)       "
   ]
  },
  {
   "cell_type": "code",
   "execution_count": 52,
   "metadata": {
    "collapsed": true
   },
   "outputs": [],
   "source": [
    "# to combine strings instead, use the paste() function\n",
    "#model2 <-paste(make_model$Make, make_model$Model, sep='_')"
   ]
  },
  {
   "cell_type": "code",
   "execution_count": 53,
   "metadata": {},
   "outputs": [
    {
     "data": {
      "text/html": [
       "<ol class=list-inline>\n",
       "\t<li>Toyota</li>\n",
       "\t<li>Fiat</li>\n",
       "\t<li>Honda</li>\n",
       "\t<li>Lotus</li>\n",
       "\t<li>Porsche</li>\n",
       "\t<li>Merc</li>\n",
       "\t<li>Datsun</li>\n",
       "\t<li>Hornet</li>\n",
       "\t<li>Volvo</li>\n",
       "\t<li>Mazda</li>\n",
       "\t<li>Ferrari</li>\n",
       "\t<li>Pontiac</li>\n",
       "\t<li>Valiant</li>\n",
       "\t<li>Ford</li>\n",
       "\t<li>Dodge</li>\n",
       "\t<li>AMC</li>\n",
       "\t<li>Maserati</li>\n",
       "\t<li>Chrysler</li>\n",
       "\t<li>Duster</li>\n",
       "\t<li>Camaro</li>\n",
       "\t<li>Cadillac</li>\n",
       "\t<li>Lincoln</li>\n",
       "</ol>\n"
      ],
      "text/latex": [
       "\\begin{enumerate*}\n",
       "\\item Toyota\n",
       "\\item Fiat\n",
       "\\item Honda\n",
       "\\item Lotus\n",
       "\\item Porsche\n",
       "\\item Merc\n",
       "\\item Datsun\n",
       "\\item Hornet\n",
       "\\item Volvo\n",
       "\\item Mazda\n",
       "\\item Ferrari\n",
       "\\item Pontiac\n",
       "\\item Valiant\n",
       "\\item Ford\n",
       "\\item Dodge\n",
       "\\item AMC\n",
       "\\item Maserati\n",
       "\\item Chrysler\n",
       "\\item Duster\n",
       "\\item Camaro\n",
       "\\item Cadillac\n",
       "\\item Lincoln\n",
       "\\end{enumerate*}\n"
      ],
      "text/markdown": [
       "1. Toyota\n",
       "2. Fiat\n",
       "3. Honda\n",
       "4. Lotus\n",
       "5. Porsche\n",
       "6. Merc\n",
       "7. Datsun\n",
       "8. Hornet\n",
       "9. Volvo\n",
       "10. Mazda\n",
       "11. Ferrari\n",
       "12. Pontiac\n",
       "13. Valiant\n",
       "14. Ford\n",
       "15. Dodge\n",
       "16. AMC\n",
       "17. Maserati\n",
       "18. Chrysler\n",
       "19. Duster\n",
       "20. Camaro\n",
       "21. Cadillac\n",
       "22. Lincoln\n",
       "\n",
       "\n"
      ],
      "text/plain": [
       " [1] Toyota   Fiat     Honda    Lotus    Porsche  Merc     Datsun   Hornet  \n",
       " [9] Volvo    Mazda    Ferrari  Pontiac  Valiant  Ford     Dodge    AMC     \n",
       "[17] Maserati Chrysler Duster   Camaro   Cadillac Lincoln \n",
       "22 Levels: AMC Cadillac Camaro Chrysler Datsun Dodge Duster Ferrari ... Volvo"
      ]
     },
     "metadata": {},
     "output_type": "display_data"
    },
    {
     "data": {
      "text/html": [
       "22"
      ],
      "text/latex": [
       "22"
      ],
      "text/markdown": [
       "22"
      ],
      "text/plain": [
       "[1] 22"
      ]
     },
     "metadata": {},
     "output_type": "display_data"
    },
    {
     "data": {
      "text/html": [
       "<ol class=list-inline>\n",
       "\t<li>'Toyota'</li>\n",
       "\t<li>'Fiat'</li>\n",
       "\t<li>'Honda'</li>\n",
       "\t<li>'Lotus'</li>\n",
       "\t<li>'Porsche'</li>\n",
       "\t<li>'Merc'</li>\n",
       "\t<li>'Datsun'</li>\n",
       "\t<li>'Hornet'</li>\n",
       "\t<li>'Volvo'</li>\n",
       "\t<li>'Mazda'</li>\n",
       "\t<li>'Ferrari'</li>\n",
       "\t<li>'Pontiac'</li>\n",
       "\t<li>'Valiant'</li>\n",
       "\t<li>'Ford'</li>\n",
       "\t<li>'Dodge'</li>\n",
       "\t<li>'AMC'</li>\n",
       "\t<li>'Maserati'</li>\n",
       "\t<li>'Chrysler'</li>\n",
       "\t<li>'Duster'</li>\n",
       "\t<li>'Camaro'</li>\n",
       "\t<li>'Cadillac'</li>\n",
       "\t<li>'Lincoln'</li>\n",
       "</ol>\n"
      ],
      "text/latex": [
       "\\begin{enumerate*}\n",
       "\\item 'Toyota'\n",
       "\\item 'Fiat'\n",
       "\\item 'Honda'\n",
       "\\item 'Lotus'\n",
       "\\item 'Porsche'\n",
       "\\item 'Merc'\n",
       "\\item 'Datsun'\n",
       "\\item 'Hornet'\n",
       "\\item 'Volvo'\n",
       "\\item 'Mazda'\n",
       "\\item 'Ferrari'\n",
       "\\item 'Pontiac'\n",
       "\\item 'Valiant'\n",
       "\\item 'Ford'\n",
       "\\item 'Dodge'\n",
       "\\item 'AMC'\n",
       "\\item 'Maserati'\n",
       "\\item 'Chrysler'\n",
       "\\item 'Duster'\n",
       "\\item 'Camaro'\n",
       "\\item 'Cadillac'\n",
       "\\item 'Lincoln'\n",
       "\\end{enumerate*}\n"
      ],
      "text/markdown": [
       "1. 'Toyota'\n",
       "2. 'Fiat'\n",
       "3. 'Honda'\n",
       "4. 'Lotus'\n",
       "5. 'Porsche'\n",
       "6. 'Merc'\n",
       "7. 'Datsun'\n",
       "8. 'Hornet'\n",
       "9. 'Volvo'\n",
       "10. 'Mazda'\n",
       "11. 'Ferrari'\n",
       "12. 'Pontiac'\n",
       "13. 'Valiant'\n",
       "14. 'Ford'\n",
       "15. 'Dodge'\n",
       "16. 'AMC'\n",
       "17. 'Maserati'\n",
       "18. 'Chrysler'\n",
       "19. 'Duster'\n",
       "20. 'Camaro'\n",
       "21. 'Cadillac'\n",
       "22. 'Lincoln'\n",
       "\n",
       "\n"
      ],
      "text/plain": [
       " [1] \"Toyota\"   \"Fiat\"     \"Honda\"    \"Lotus\"    \"Porsche\"  \"Merc\"    \n",
       " [7] \"Datsun\"   \"Hornet\"   \"Volvo\"    \"Mazda\"    \"Ferrari\"  \"Pontiac\" \n",
       "[13] \"Valiant\"  \"Ford\"     \"Dodge\"    \"AMC\"      \"Maserati\" \"Chrysler\"\n",
       "[19] \"Duster\"   \"Camaro\"   \"Cadillac\" \"Lincoln\" "
      ]
     },
     "metadata": {},
     "output_type": "display_data"
    }
   ],
   "source": [
    "# show unique Makes of cars\n",
    "unique(make_model$Make)\n",
    "\n",
    "# get unique Makes as strings                                    \n",
    "Make <-as.character(unique(make_model$Make))                                          \n",
    "length(Make); Make"
   ]
  },
  {
   "cell_type": "code",
   "execution_count": 54,
   "metadata": {
    "collapsed": true
   },
   "outputs": [],
   "source": [
    "# Manually add country of origin (with unknowns [NA] that are no longer made)\n",
    "Origin <- c(\"Japan\", \"Italy\", \"Japan\", \"UK\", \"Germany\", \"Germany\", NA, NA, \"Sweden\",\"Japan\", \n",
    "            \"Italy\", \"USA\", NA, \"USA\", \"USA\", NA, \"Italy\", \"USA\", NA, \"USA\", \"USA\", \"USA\")"
   ]
  },
  {
   "cell_type": "code",
   "execution_count": 55,
   "metadata": {},
   "outputs": [
    {
     "data": {
      "text/html": [
       "<ol class=list-inline>\n",
       "\t<li>22</li>\n",
       "\t<li>2</li>\n",
       "</ol>\n"
      ],
      "text/latex": [
       "\\begin{enumerate*}\n",
       "\\item 22\n",
       "\\item 2\n",
       "\\end{enumerate*}\n"
      ],
      "text/markdown": [
       "1. 22\n",
       "2. 2\n",
       "\n",
       "\n"
      ],
      "text/plain": [
       "[1] 22  2"
      ]
     },
     "metadata": {},
     "output_type": "display_data"
    },
    {
     "data": {
      "text/html": [
       "<table>\n",
       "<thead><tr><th scope=col>Origin</th><th scope=col>Make</th></tr></thead>\n",
       "<tbody>\n",
       "\t<tr><td>Japan  </td><td>Toyota </td></tr>\n",
       "\t<tr><td>Italy  </td><td>Fiat   </td></tr>\n",
       "\t<tr><td>Japan  </td><td>Honda  </td></tr>\n",
       "\t<tr><td>UK     </td><td>Lotus  </td></tr>\n",
       "\t<tr><td>Germany</td><td>Porsche</td></tr>\n",
       "\t<tr><td>Germany</td><td>Merc   </td></tr>\n",
       "\t<tr><td>NA     </td><td>Datsun </td></tr>\n",
       "\t<tr><td>NA     </td><td>Hornet </td></tr>\n",
       "\t<tr><td>Sweden </td><td>Volvo  </td></tr>\n",
       "\t<tr><td>Japan  </td><td>Mazda  </td></tr>\n",
       "</tbody>\n",
       "</table>\n"
      ],
      "text/latex": [
       "\\begin{tabular}{r|ll}\n",
       " Origin & Make\\\\\n",
       "\\hline\n",
       "\t Japan   & Toyota \\\\\n",
       "\t Italy   & Fiat   \\\\\n",
       "\t Japan   & Honda  \\\\\n",
       "\t UK      & Lotus  \\\\\n",
       "\t Germany & Porsche\\\\\n",
       "\t Germany & Merc   \\\\\n",
       "\t NA      & Datsun \\\\\n",
       "\t NA      & Hornet \\\\\n",
       "\t Sweden  & Volvo  \\\\\n",
       "\t Japan   & Mazda  \\\\\n",
       "\\end{tabular}\n"
      ],
      "text/markdown": [
       "\n",
       "Origin | Make | \n",
       "|---|---|---|---|---|---|---|---|---|---|\n",
       "| Japan   | Toyota  | \n",
       "| Italy   | Fiat    | \n",
       "| Japan   | Honda   | \n",
       "| UK      | Lotus   | \n",
       "| Germany | Porsche | \n",
       "| Germany | Merc    | \n",
       "| NA      | Datsun  | \n",
       "| NA      | Hornet  | \n",
       "| Sweden  | Volvo   | \n",
       "| Japan   | Mazda   | \n",
       "\n",
       "\n"
      ],
      "text/plain": [
       "   Origin  Make   \n",
       "1  Japan   Toyota \n",
       "2  Italy   Fiat   \n",
       "3  Japan   Honda  \n",
       "4  UK      Lotus  \n",
       "5  Germany Porsche\n",
       "6  Germany Merc   \n",
       "7  NA      Datsun \n",
       "8  NA      Hornet \n",
       "9  Sweden  Volvo  \n",
       "10 Japan   Mazda  "
      ]
     },
     "metadata": {},
     "output_type": "display_data"
    }
   ],
   "source": [
    "Make_Origin <- data.frame(Origin, Make)                              # Make a new data frame with Origin and Make\n",
    "dim(Make_Origin); Make_Origin[1:10, ]                                # Show first 10 rows"
   ]
  },
  {
   "cell_type": "markdown",
   "metadata": {},
   "source": [
    "### b) Dealing with NAs\n",
    "Missing data is indicated by NA.  This missing data can be a pain in downstream analyses.  Here in particular, we want to summarize our data by country of origin, but some data is missing.  We need to get rid of these NAs before we make our summary."
   ]
  },
  {
   "cell_type": "code",
   "execution_count": 56,
   "metadata": {},
   "outputs": [
    {
     "data": {
      "text/html": [
       "<table>\n",
       "<thead><tr><th scope=col>Origin</th><th scope=col>Make</th></tr></thead>\n",
       "<tbody>\n",
       "\t<tr><td>FALSE</td><td>FALSE</td></tr>\n",
       "\t<tr><td>FALSE</td><td>FALSE</td></tr>\n",
       "\t<tr><td>FALSE</td><td>FALSE</td></tr>\n",
       "\t<tr><td>FALSE</td><td>FALSE</td></tr>\n",
       "\t<tr><td>FALSE</td><td>FALSE</td></tr>\n",
       "\t<tr><td>FALSE</td><td>FALSE</td></tr>\n",
       "\t<tr><td> TRUE</td><td>FALSE</td></tr>\n",
       "\t<tr><td> TRUE</td><td>FALSE</td></tr>\n",
       "\t<tr><td>FALSE</td><td>FALSE</td></tr>\n",
       "\t<tr><td>FALSE</td><td>FALSE</td></tr>\n",
       "</tbody>\n",
       "</table>\n"
      ],
      "text/latex": [
       "\\begin{tabular}{ll}\n",
       " Origin & Make\\\\\n",
       "\\hline\n",
       "\t FALSE & FALSE\\\\\n",
       "\t FALSE & FALSE\\\\\n",
       "\t FALSE & FALSE\\\\\n",
       "\t FALSE & FALSE\\\\\n",
       "\t FALSE & FALSE\\\\\n",
       "\t FALSE & FALSE\\\\\n",
       "\t  TRUE & FALSE\\\\\n",
       "\t  TRUE & FALSE\\\\\n",
       "\t FALSE & FALSE\\\\\n",
       "\t FALSE & FALSE\\\\\n",
       "\\end{tabular}\n"
      ],
      "text/markdown": [
       "\n",
       "Origin | Make | \n",
       "|---|---|---|---|---|---|---|---|---|---|\n",
       "| FALSE | FALSE | \n",
       "| FALSE | FALSE | \n",
       "| FALSE | FALSE | \n",
       "| FALSE | FALSE | \n",
       "| FALSE | FALSE | \n",
       "| FALSE | FALSE | \n",
       "|  TRUE | FALSE | \n",
       "|  TRUE | FALSE | \n",
       "| FALSE | FALSE | \n",
       "| FALSE | FALSE | \n",
       "\n",
       "\n"
      ],
      "text/plain": [
       "      Origin Make \n",
       " [1,] FALSE  FALSE\n",
       " [2,] FALSE  FALSE\n",
       " [3,] FALSE  FALSE\n",
       " [4,] FALSE  FALSE\n",
       " [5,] FALSE  FALSE\n",
       " [6,] FALSE  FALSE\n",
       " [7,]  TRUE  FALSE\n",
       " [8,]  TRUE  FALSE\n",
       " [9,] FALSE  FALSE\n",
       "[10,] FALSE  FALSE"
      ]
     },
     "metadata": {},
     "output_type": "display_data"
    }
   ],
   "source": [
    "# Show NA values \n",
    "NA_data <- is.na(Make_Origin)                                          # is.na() is a function to test for NAs                                                 \n",
    "NA_data[1:10,]                                                         # show first 10 rows"
   ]
  },
  {
   "cell_type": "code",
   "execution_count": 57,
   "metadata": {},
   "outputs": [
    {
     "data": {
      "text/html": [
       "<ol class=list-inline>\n",
       "\t<li>'Germany'</li>\n",
       "\t<li>'Italy'</li>\n",
       "\t<li>'Japan'</li>\n",
       "\t<li>'Sweden'</li>\n",
       "\t<li>'UK'</li>\n",
       "\t<li>'USA'</li>\n",
       "</ol>\n"
      ],
      "text/latex": [
       "\\begin{enumerate*}\n",
       "\\item 'Germany'\n",
       "\\item 'Italy'\n",
       "\\item 'Japan'\n",
       "\\item 'Sweden'\n",
       "\\item 'UK'\n",
       "\\item 'USA'\n",
       "\\end{enumerate*}\n"
      ],
      "text/markdown": [
       "1. 'Germany'\n",
       "2. 'Italy'\n",
       "3. 'Japan'\n",
       "4. 'Sweden'\n",
       "5. 'UK'\n",
       "6. 'USA'\n",
       "\n",
       "\n"
      ],
      "text/plain": [
       "[1] \"Germany\" \"Italy\"   \"Japan\"   \"Sweden\"  \"UK\"      \"USA\"    "
      ]
     },
     "metadata": {},
     "output_type": "display_data"
    }
   ],
   "source": [
    "# Note NA data does not appear as factor level, problem downstream\n",
    "levels(Make_Origin$Origin)"
   ]
  },
  {
   "cell_type": "code",
   "execution_count": 58,
   "metadata": {},
   "outputs": [
    {
     "data": {
      "text/html": [
       "<ol class=list-inline>\n",
       "\t<li>22</li>\n",
       "\t<li>2</li>\n",
       "</ol>\n"
      ],
      "text/latex": [
       "\\begin{enumerate*}\n",
       "\\item 22\n",
       "\\item 2\n",
       "\\end{enumerate*}\n"
      ],
      "text/markdown": [
       "1. 22\n",
       "2. 2\n",
       "\n",
       "\n"
      ],
      "text/plain": [
       "[1] 22  2"
      ]
     },
     "metadata": {},
     "output_type": "display_data"
    },
    {
     "data": {
      "text/html": [
       "<ol class=list-inline>\n",
       "\t<li>17</li>\n",
       "\t<li>2</li>\n",
       "</ol>\n"
      ],
      "text/latex": [
       "\\begin{enumerate*}\n",
       "\\item 17\n",
       "\\item 2\n",
       "\\end{enumerate*}\n"
      ],
      "text/markdown": [
       "1. 17\n",
       "2. 2\n",
       "\n",
       "\n"
      ],
      "text/plain": [
       "[1] 17  2"
      ]
     },
     "metadata": {},
     "output_type": "display_data"
    },
    {
     "data": {
      "text/html": [
       "<table>\n",
       "<thead><tr><th scope=col>Origin</th><th scope=col>Make</th></tr></thead>\n",
       "<tbody>\n",
       "\t<tr><td>Japan  </td><td>Toyota </td></tr>\n",
       "\t<tr><td>Italy  </td><td>Fiat   </td></tr>\n",
       "\t<tr><td>Japan  </td><td>Honda  </td></tr>\n",
       "\t<tr><td>UK     </td><td>Lotus  </td></tr>\n",
       "\t<tr><td>Germany</td><td>Porsche</td></tr>\n",
       "\t<tr><td>Germany</td><td>Merc   </td></tr>\n",
       "</tbody>\n",
       "</table>\n"
      ],
      "text/latex": [
       "\\begin{tabular}{r|ll}\n",
       " Origin & Make\\\\\n",
       "\\hline\n",
       "\t Japan   & Toyota \\\\\n",
       "\t Italy   & Fiat   \\\\\n",
       "\t Japan   & Honda  \\\\\n",
       "\t UK      & Lotus  \\\\\n",
       "\t Germany & Porsche\\\\\n",
       "\t Germany & Merc   \\\\\n",
       "\\end{tabular}\n"
      ],
      "text/markdown": [
       "\n",
       "Origin | Make | \n",
       "|---|---|---|---|---|---|\n",
       "| Japan   | Toyota  | \n",
       "| Italy   | Fiat    | \n",
       "| Japan   | Honda   | \n",
       "| UK      | Lotus   | \n",
       "| Germany | Porsche | \n",
       "| Germany | Merc    | \n",
       "\n",
       "\n"
      ],
      "text/plain": [
       "  Origin  Make   \n",
       "1 Japan   Toyota \n",
       "2 Italy   Fiat   \n",
       "3 Japan   Honda  \n",
       "4 UK      Lotus  \n",
       "5 Germany Porsche\n",
       "6 Germany Merc   "
      ]
     },
     "metadata": {},
     "output_type": "display_data"
    }
   ],
   "source": [
    "# drop rows with NAs\n",
    "dim(Make_Origin)                                                       # Dimensions including NAs\n",
    "\n",
    "Make_Origin <-Make_Origin[!is.na(Make_Origin$Origin),]                 # Drop NAs using is.na(), keep opposite (\"!\")\n",
    "dim(Make_Origin)                                                       # Dimensions without NA\n",
    "head(Make_Origin)"
   ]
  },
  {
   "cell_type": "markdown",
   "metadata": {},
   "source": [
    "### b) Merging data sets\n",
    "\n",
    "Now that we have data on the country in which each car make was manufactured, we can join this with our origiinal data.  First, we will use the merge function to add the country of origin to our car make_model data (using Make_Origin). We will join the data by the \"Make\" column in each data set.   \n",
    "\n",
    "Then, having country of origin for each car added to our data, we can merge with the complete set of car data.  From there we are able to summarize our original data by country of origin. "
   ]
  },
  {
   "cell_type": "code",
   "execution_count": 59,
   "metadata": {},
   "outputs": [
    {
     "data": {
      "text/html": [
       "<ol class=list-inline>\n",
       "\t<li>26</li>\n",
       "\t<li>4</li>\n",
       "</ol>\n"
      ],
      "text/latex": [
       "\\begin{enumerate*}\n",
       "\\item 26\n",
       "\\item 4\n",
       "\\end{enumerate*}\n"
      ],
      "text/markdown": [
       "1. 26\n",
       "2. 4\n",
       "\n",
       "\n"
      ],
      "text/plain": [
       "[1] 26  4"
      ]
     },
     "metadata": {},
     "output_type": "display_data"
    },
    {
     "data": {
      "text/html": [
       "<table>\n",
       "<thead><tr><th scope=col>Make</th><th scope=col>Origin</th><th scope=col>Model</th><th scope=col>model</th></tr></thead>\n",
       "<tbody>\n",
       "\t<tr><td>Cadillac          </td><td>USA               </td><td>Fleetwood         </td><td>Cadillac Fleetwood</td></tr>\n",
       "\t<tr><td>Camaro            </td><td>USA               </td><td>Z28               </td><td>Camaro Z28        </td></tr>\n",
       "\t<tr><td>Chrysler          </td><td>USA               </td><td>Imperial          </td><td>Chrysler Imperial </td></tr>\n",
       "\t<tr><td>Dodge             </td><td>USA               </td><td>Challenger        </td><td>Dodge Challenger  </td></tr>\n",
       "\t<tr><td>Ferrari           </td><td>Italy             </td><td>Dino              </td><td>Ferrari Dino      </td></tr>\n",
       "\t<tr><td>Fiat              </td><td>Italy             </td><td>X1-9              </td><td>Fiat X1-9         </td></tr>\n",
       "</tbody>\n",
       "</table>\n"
      ],
      "text/latex": [
       "\\begin{tabular}{r|llll}\n",
       " Make & Origin & Model & model\\\\\n",
       "\\hline\n",
       "\t Cadillac           & USA                & Fleetwood          & Cadillac Fleetwood\\\\\n",
       "\t Camaro             & USA                & Z28                & Camaro Z28        \\\\\n",
       "\t Chrysler           & USA                & Imperial           & Chrysler Imperial \\\\\n",
       "\t Dodge              & USA                & Challenger         & Dodge Challenger  \\\\\n",
       "\t Ferrari            & Italy              & Dino               & Ferrari Dino      \\\\\n",
       "\t Fiat               & Italy              & X1-9               & Fiat X1-9         \\\\\n",
       "\\end{tabular}\n"
      ],
      "text/markdown": [
       "\n",
       "Make | Origin | Model | model | \n",
       "|---|---|---|---|---|---|\n",
       "| Cadillac           | USA                | Fleetwood          | Cadillac Fleetwood | \n",
       "| Camaro             | USA                | Z28                | Camaro Z28         | \n",
       "| Chrysler           | USA                | Imperial           | Chrysler Imperial  | \n",
       "| Dodge              | USA                | Challenger         | Dodge Challenger   | \n",
       "| Ferrari            | Italy              | Dino               | Ferrari Dino       | \n",
       "| Fiat               | Italy              | X1-9               | Fiat X1-9          | \n",
       "\n",
       "\n"
      ],
      "text/plain": [
       "  Make     Origin Model      model             \n",
       "1 Cadillac USA    Fleetwood  Cadillac Fleetwood\n",
       "2 Camaro   USA    Z28        Camaro Z28        \n",
       "3 Chrysler USA    Imperial   Chrysler Imperial \n",
       "4 Dodge    USA    Challenger Dodge Challenger  \n",
       "5 Ferrari  Italy  Dino       Ferrari Dino      \n",
       "6 Fiat     Italy  X1-9       Fiat X1-9         "
      ]
     },
     "metadata": {},
     "output_type": "display_data"
    }
   ],
   "source": [
    "# Merge origin data with make & model\n",
    "Make_model_origin <- merge(Make_Origin, make_model, by=\"Make\")            # merge data by \"Make\"\n",
    "\n",
    "dim(Make_model_origin); head(Make_model_origin)"
   ]
  },
  {
   "cell_type": "code",
   "execution_count": 60,
   "metadata": {},
   "outputs": [
    {
     "data": {
      "text/html": [
       "<ol class=list-inline>\n",
       "\t<li>26</li>\n",
       "\t<li>4</li>\n",
       "</ol>\n"
      ],
      "text/latex": [
       "\\begin{enumerate*}\n",
       "\\item 26\n",
       "\\item 4\n",
       "\\end{enumerate*}\n"
      ],
      "text/markdown": [
       "1. 26\n",
       "2. 4\n",
       "\n",
       "\n"
      ],
      "text/plain": [
       "[1] 26  4"
      ]
     },
     "metadata": {},
     "output_type": "display_data"
    },
    {
     "data": {
      "text/html": [
       "<ol class=list-inline>\n",
       "\t<li>32</li>\n",
       "\t<li>4</li>\n",
       "</ol>\n"
      ],
      "text/latex": [
       "\\begin{enumerate*}\n",
       "\\item 32\n",
       "\\item 4\n",
       "\\end{enumerate*}\n"
      ],
      "text/markdown": [
       "1. 32\n",
       "2. 4\n",
       "\n",
       "\n"
      ],
      "text/plain": [
       "[1] 32  4"
      ]
     },
     "metadata": {},
     "output_type": "display_data"
    },
    {
     "data": {
      "text/html": [
       "<table>\n",
       "<thead><tr><th scope=col>Make</th><th scope=col>Origin</th><th scope=col>Model</th><th scope=col>model</th></tr></thead>\n",
       "<tbody>\n",
       "\t<tr><td>AMC               </td><td>NA                </td><td>Javelin           </td><td>AMC Javelin       </td></tr>\n",
       "\t<tr><td>Cadillac          </td><td>USA               </td><td>Fleetwood         </td><td>Cadillac Fleetwood</td></tr>\n",
       "\t<tr><td>Camaro            </td><td>USA               </td><td>Z28               </td><td>Camaro Z28        </td></tr>\n",
       "\t<tr><td>Chrysler          </td><td>USA               </td><td>Imperial          </td><td>Chrysler Imperial </td></tr>\n",
       "\t<tr><td>Datsun            </td><td>NA                </td><td>710               </td><td>Datsun 710        </td></tr>\n",
       "\t<tr><td>Dodge             </td><td>USA               </td><td>Challenger        </td><td>Dodge Challenger  </td></tr>\n",
       "</tbody>\n",
       "</table>\n"
      ],
      "text/latex": [
       "\\begin{tabular}{r|llll}\n",
       " Make & Origin & Model & model\\\\\n",
       "\\hline\n",
       "\t AMC                & NA                 & Javelin            & AMC Javelin       \\\\\n",
       "\t Cadillac           & USA                & Fleetwood          & Cadillac Fleetwood\\\\\n",
       "\t Camaro             & USA                & Z28                & Camaro Z28        \\\\\n",
       "\t Chrysler           & USA                & Imperial           & Chrysler Imperial \\\\\n",
       "\t Datsun             & NA                 & 710                & Datsun 710        \\\\\n",
       "\t Dodge              & USA                & Challenger         & Dodge Challenger  \\\\\n",
       "\\end{tabular}\n"
      ],
      "text/markdown": [
       "\n",
       "Make | Origin | Model | model | \n",
       "|---|---|---|---|---|---|\n",
       "| AMC                | NA                 | Javelin            | AMC Javelin        | \n",
       "| Cadillac           | USA                | Fleetwood          | Cadillac Fleetwood | \n",
       "| Camaro             | USA                | Z28                | Camaro Z28         | \n",
       "| Chrysler           | USA                | Imperial           | Chrysler Imperial  | \n",
       "| Datsun             | NA                 | 710                | Datsun 710         | \n",
       "| Dodge              | USA                | Challenger         | Dodge Challenger   | \n",
       "\n",
       "\n"
      ],
      "text/plain": [
       "  Make     Origin Model      model             \n",
       "1 AMC      NA     Javelin    AMC Javelin       \n",
       "2 Cadillac USA    Fleetwood  Cadillac Fleetwood\n",
       "3 Camaro   USA    Z28        Camaro Z28        \n",
       "4 Chrysler USA    Imperial   Chrysler Imperial \n",
       "5 Datsun   NA     710        Datsun 710        \n",
       "6 Dodge    USA    Challenger Dodge Challenger  "
      ]
     },
     "metadata": {},
     "output_type": "display_data"
    }
   ],
   "source": [
    "# Exercise: different kinds of merges \n",
    "\n",
    "# Right join: Show each row from 2nd matrix, even if no match in first\n",
    "Make_model_origin_All <- merge(Make_Origin, make_model, by=\"Make\", all.y=TRUE)    # all.y=TRUE gives Right Join\n",
    "dim(Make_model_origin); #head(Make_model_origin)                                  # original merge    \n",
    "dim(Make_model_origin_All); head(Make_model_origin_All)                           # Right join\n",
    "\n",
    "# Our first merge did not specify this, it gives the \"Inner Join\" of rows in both data sets \n",
    "# In addition to a \"Left Join\" (all.x=TRUE), \n",
    "# we can also use an \"Outer Join\" (all=TRUE), keeping all rows in each data set, which produces NAs where not matching. "
   ]
  },
  {
   "cell_type": "code",
   "execution_count": 61,
   "metadata": {},
   "outputs": [
    {
     "data": {
      "text/html": [
       "<table>\n",
       "<thead><tr><th scope=col>model</th><th scope=col>mpg</th><th scope=col>cyl</th><th scope=col>disp</th><th scope=col>hp</th><th scope=col>drat</th><th scope=col>wt</th><th scope=col>qsec</th><th scope=col>vs</th><th scope=col>am</th><th scope=col>gear</th><th scope=col>carb</th><th scope=col>econo</th><th scope=col>Make</th><th scope=col>Origin</th><th scope=col>Model</th></tr></thead>\n",
       "<tbody>\n",
       "\t<tr><td>Cadillac Fleetwood</td><td>10.4              </td><td>8                 </td><td>472.0             </td><td>205               </td><td>2.93              </td><td>5.250             </td><td>17.98             </td><td>0                 </td><td>0                 </td><td>3                 </td><td>4                 </td><td>low mpg           </td><td>Cadillac          </td><td>USA               </td><td>Fleetwood         </td></tr>\n",
       "\t<tr><td>Camaro Z28        </td><td>13.3              </td><td>8                 </td><td>350.0             </td><td>245               </td><td>3.73              </td><td>3.840             </td><td>15.41             </td><td>0                 </td><td>0                 </td><td>3                 </td><td>4                 </td><td>low mpg           </td><td>Camaro            </td><td>USA               </td><td>Z28               </td></tr>\n",
       "\t<tr><td>Chrysler Imperial </td><td>14.7              </td><td>8                 </td><td>440.0             </td><td>230               </td><td>3.23              </td><td>5.345             </td><td>17.42             </td><td>0                 </td><td>0                 </td><td>3                 </td><td>4                 </td><td>low mpg           </td><td>Chrysler          </td><td>USA               </td><td>Imperial          </td></tr>\n",
       "\t<tr><td>Dodge Challenger  </td><td>15.5              </td><td>8                 </td><td>318.0             </td><td>150               </td><td>2.76              </td><td>3.520             </td><td>16.87             </td><td>0                 </td><td>0                 </td><td>3                 </td><td>2                 </td><td>low mpg           </td><td>Dodge             </td><td>USA               </td><td>Challenger        </td></tr>\n",
       "\t<tr><td>Ferrari Dino      </td><td>19.7              </td><td>6                 </td><td>145.0             </td><td>175               </td><td>3.62              </td><td>2.770             </td><td>15.50             </td><td>0                 </td><td>1                 </td><td>5                 </td><td>6                 </td><td>low mpg           </td><td>Ferrari           </td><td>Italy             </td><td>Dino              </td></tr>\n",
       "\t<tr><td>Fiat 128          </td><td>32.4              </td><td>4                 </td><td> 78.7             </td><td> 66               </td><td>4.08              </td><td>2.200             </td><td>19.47             </td><td>1                 </td><td>1                 </td><td>4                 </td><td>1                 </td><td>econo             </td><td>Fiat              </td><td>Italy             </td><td>128               </td></tr>\n",
       "</tbody>\n",
       "</table>\n"
      ],
      "text/latex": [
       "\\begin{tabular}{r|llllllllllllllll}\n",
       " model & mpg & cyl & disp & hp & drat & wt & qsec & vs & am & gear & carb & econo & Make & Origin & Model\\\\\n",
       "\\hline\n",
       "\t Cadillac Fleetwood & 10.4               & 8                  & 472.0              & 205                & 2.93               & 5.250              & 17.98              & 0                  & 0                  & 3                  & 4                  & low mpg            & Cadillac           & USA                & Fleetwood         \\\\\n",
       "\t Camaro Z28         & 13.3               & 8                  & 350.0              & 245                & 3.73               & 3.840              & 15.41              & 0                  & 0                  & 3                  & 4                  & low mpg            & Camaro             & USA                & Z28               \\\\\n",
       "\t Chrysler Imperial  & 14.7               & 8                  & 440.0              & 230                & 3.23               & 5.345              & 17.42              & 0                  & 0                  & 3                  & 4                  & low mpg            & Chrysler           & USA                & Imperial          \\\\\n",
       "\t Dodge Challenger   & 15.5               & 8                  & 318.0              & 150                & 2.76               & 3.520              & 16.87              & 0                  & 0                  & 3                  & 2                  & low mpg            & Dodge              & USA                & Challenger        \\\\\n",
       "\t Ferrari Dino       & 19.7               & 6                  & 145.0              & 175                & 3.62               & 2.770              & 15.50              & 0                  & 1                  & 5                  & 6                  & low mpg            & Ferrari            & Italy              & Dino              \\\\\n",
       "\t Fiat 128           & 32.4               & 4                  &  78.7              &  66                & 4.08               & 2.200              & 19.47              & 1                  & 1                  & 4                  & 1                  & econo              & Fiat               & Italy              & 128               \\\\\n",
       "\\end{tabular}\n"
      ],
      "text/markdown": [
       "\n",
       "model | mpg | cyl | disp | hp | drat | wt | qsec | vs | am | gear | carb | econo | Make | Origin | Model | \n",
       "|---|---|---|---|---|---|\n",
       "| Cadillac Fleetwood | 10.4               | 8                  | 472.0              | 205                | 2.93               | 5.250              | 17.98              | 0                  | 0                  | 3                  | 4                  | low mpg            | Cadillac           | USA                | Fleetwood          | \n",
       "| Camaro Z28         | 13.3               | 8                  | 350.0              | 245                | 3.73               | 3.840              | 15.41              | 0                  | 0                  | 3                  | 4                  | low mpg            | Camaro             | USA                | Z28                | \n",
       "| Chrysler Imperial  | 14.7               | 8                  | 440.0              | 230                | 3.23               | 5.345              | 17.42              | 0                  | 0                  | 3                  | 4                  | low mpg            | Chrysler           | USA                | Imperial           | \n",
       "| Dodge Challenger   | 15.5               | 8                  | 318.0              | 150                | 2.76               | 3.520              | 16.87              | 0                  | 0                  | 3                  | 2                  | low mpg            | Dodge              | USA                | Challenger         | \n",
       "| Ferrari Dino       | 19.7               | 6                  | 145.0              | 175                | 3.62               | 2.770              | 15.50              | 0                  | 1                  | 5                  | 6                  | low mpg            | Ferrari            | Italy              | Dino               | \n",
       "| Fiat 128           | 32.4               | 4                  |  78.7              |  66                | 4.08               | 2.200              | 19.47              | 1                  | 1                  | 4                  | 1                  | econo              | Fiat               | Italy              | 128                | \n",
       "\n",
       "\n"
      ],
      "text/plain": [
       "  model              mpg  cyl disp  hp  drat wt    qsec  vs am gear carb\n",
       "1 Cadillac Fleetwood 10.4 8   472.0 205 2.93 5.250 17.98 0  0  3    4   \n",
       "2 Camaro Z28         13.3 8   350.0 245 3.73 3.840 15.41 0  0  3    4   \n",
       "3 Chrysler Imperial  14.7 8   440.0 230 3.23 5.345 17.42 0  0  3    4   \n",
       "4 Dodge Challenger   15.5 8   318.0 150 2.76 3.520 16.87 0  0  3    2   \n",
       "5 Ferrari Dino       19.7 6   145.0 175 3.62 2.770 15.50 0  1  5    6   \n",
       "6 Fiat 128           32.4 4    78.7  66 4.08 2.200 19.47 1  1  4    1   \n",
       "  econo   Make     Origin Model     \n",
       "1 low mpg Cadillac USA    Fleetwood \n",
       "2 low mpg Camaro   USA    Z28       \n",
       "3 low mpg Chrysler USA    Imperial  \n",
       "4 low mpg Dodge    USA    Challenger\n",
       "5 low mpg Ferrari  Italy  Dino      \n",
       "6 econo   Fiat     Italy  128       "
      ]
     },
     "metadata": {},
     "output_type": "display_data"
    }
   ],
   "source": [
    "# Merge car Origin with the original cars data set\n",
    "newcar_origin <- merge(newcar, Make_model_origin)                                    \n",
    "head(newcar_origin)                                                             \n",
    "\n",
    "# here no by= is specified, merge automatically uses common column \"Model\"   "
   ]
  },
  {
   "cell_type": "markdown",
   "metadata": {},
   "source": [
    "### Were Japanese cars more fuel efficient (in 1974)?\n",
    "\n",
    "Now that we have merged the new data, we can look at how our car data varies by country of origin.  Comparing MPG of cars by country is particularly interesting as the \"mtcars\" data set is actually quite old.  This data comes from Motor Trend's review of cars in 1974.  A global oil embargo during 1973-1974 helped more fuel efficient Japanese cars become more popular in the US Market.   "
   ]
  },
  {
   "cell_type": "code",
   "execution_count": 62,
   "metadata": {},
   "outputs": [
    {
     "data": {
      "image/png": "[encoded data removed]",
      "text/plain": [
       "plot without title"
      ]
     },
     "metadata": {},
     "output_type": "display_data"
    }
   ],
   "source": [
    "options(repr.plot.width=6, repr.plot.height=4)                                    # plot size for Jupyter notebook\n",
    "\n",
    "plot(x = newcar_origin$Origin, y = newcar_origin$mpg, ylab=\"MPG\")                 # plot using base R graphics"
   ]
  },
  {
   "cell_type": "code",
   "execution_count": 63,
   "metadata": {},
   "outputs": [
    {
     "data": {},
     "metadata": {},
     "output_type": "display_data"
    },
    {
     "data": {
      "image/png": "[encoded data removed]",
      "text/plain": [
       "plot without title"
      ]
     },
     "metadata": {},
     "output_type": "display_data"
    }
   ],
   "source": [
    "# Extra: Make ggplot2 boxplot\n",
    "options(repr.plot.width=5, repr.plot.height=3)                        # sets plot size in Jupyter notebook \n",
    "\n",
    "# ggplot2 box plot\n",
    "plot <- ggplot(newcar_origin, aes(x=Origin, y=mpg, color=Origin)) + geom_boxplot() # make simple boxplots\n",
    "plot + geom_jitter(position=position_jitter(0.1)) + theme_bw()          # add underlying data with jitter "
   ]
  },
  {
   "cell_type": "markdown",
   "metadata": {
    "collapsed": true
   },
   "source": [
    "## 5) Reshaping data \n",
    "\n",
    "Reshaping data from \"wide\" to \"long\" formats can be an important task.\n",
    "Like aggregating, we may wish to see data cross tabulated in different ways.  For a visual representation and deeper tutorial, see https://www.r-statistics.com/2012/01/aggregation-and-restructuring-data-from-r-in-action/\n",
    "\n",
    "We will use simple functions from the reshape2 pacakge to massage our data (included in above tutorial).\n",
    "\n",
    "Workflows for data wrangling in R can be very powerful using the dplyr and tidyr libraries.  But these deserve their own workshop.  See the cheatsheet https://www.rstudio.com/wp-content/uploads/2015/02/data-wrangling-cheatsheet.pdf.  Also, see this fast tutorial to get started with tidyr: http://www.sthda.com/english/wiki/preparing-and-reshaping-data-in-r-for-easier-analyses."
   ]
  },
  {
   "cell_type": "code",
   "execution_count": null,
   "metadata": {
    "collapsed": true
   },
   "outputs": [],
   "source": []
  },
  {
   "cell_type": "markdown",
   "metadata": {},
   "source": [
    "### a) Transposing data "
   ]
  },
  {
   "cell_type": "code",
   "execution_count": 64,
   "metadata": {},
   "outputs": [
    {
     "data": {
      "text/html": [
       "<table>\n",
       "<thead><tr><th></th><th scope=col>Mazda RX4</th><th scope=col>Mazda RX4 Wag</th><th scope=col>Datsun 710</th><th scope=col>Hornet 4 Drive</th><th scope=col>Hornet Sportabout</th><th scope=col>Valiant</th><th scope=col>Duster 360</th><th scope=col>Merc 240D</th><th scope=col>Merc 230</th><th scope=col>Merc 280</th><th scope=col>⋯</th><th scope=col>AMC Javelin</th><th scope=col>Camaro Z28</th><th scope=col>Pontiac Firebird</th><th scope=col>Fiat X1-9</th><th scope=col>Porsche 914-2</th><th scope=col>Lotus Europa</th><th scope=col>Ford Pantera L</th><th scope=col>Ferrari Dino</th><th scope=col>Maserati Bora</th><th scope=col>Volvo 142E</th></tr></thead>\n",
       "<tbody>\n",
       "\t<tr><th scope=row>mpg</th><td> 21.00 </td><td> 21.000</td><td> 22.80 </td><td> 21.400</td><td> 18.70 </td><td> 18.10 </td><td> 14.30 </td><td> 24.40 </td><td> 22.80 </td><td> 19.20 </td><td>⋯      </td><td> 15.200</td><td> 13.30 </td><td> 19.200</td><td>27.300 </td><td> 26.00 </td><td> 30.400</td><td> 15.80 </td><td> 19.70 </td><td> 15.00 </td><td> 21.40 </td></tr>\n",
       "\t<tr><th scope=row>cyl</th><td>  6.00 </td><td>  6.000</td><td>  4.00 </td><td>  6.000</td><td>  8.00 </td><td>  6.00 </td><td>  8.00 </td><td>  4.00 </td><td>  4.00 </td><td>  6.00 </td><td>⋯      </td><td>  8.000</td><td>  8.00 </td><td>  8.000</td><td> 4.000 </td><td>  4.00 </td><td>  4.000</td><td>  8.00 </td><td>  6.00 </td><td>  8.00 </td><td>  4.00 </td></tr>\n",
       "\t<tr><th scope=row>disp</th><td>160.00 </td><td>160.000</td><td>108.00 </td><td>258.000</td><td>360.00 </td><td>225.00 </td><td>360.00 </td><td>146.70 </td><td>140.80 </td><td>167.60 </td><td>⋯      </td><td>304.000</td><td>350.00 </td><td>400.000</td><td>79.000 </td><td>120.30 </td><td> 95.100</td><td>351.00 </td><td>145.00 </td><td>301.00 </td><td>121.00 </td></tr>\n",
       "\t<tr><th scope=row>hp</th><td>110.00 </td><td>110.000</td><td> 93.00 </td><td>110.000</td><td>175.00 </td><td>105.00 </td><td>245.00 </td><td> 62.00 </td><td> 95.00 </td><td>123.00 </td><td>⋯      </td><td>150.000</td><td>245.00 </td><td>175.000</td><td>66.000 </td><td> 91.00 </td><td>113.000</td><td>264.00 </td><td>175.00 </td><td>335.00 </td><td>109.00 </td></tr>\n",
       "\t<tr><th scope=row>drat</th><td>  3.90 </td><td>  3.900</td><td>  3.85 </td><td>  3.080</td><td>  3.15 </td><td>  2.76 </td><td>  3.21 </td><td>  3.69 </td><td>  3.92 </td><td>  3.92 </td><td>⋯      </td><td>  3.150</td><td>  3.73 </td><td>  3.080</td><td> 4.080 </td><td>  4.43 </td><td>  3.770</td><td>  4.22 </td><td>  3.62 </td><td>  3.54 </td><td>  4.11 </td></tr>\n",
       "\t<tr><th scope=row>wt</th><td>  2.62 </td><td>  2.875</td><td>  2.32 </td><td>  3.215</td><td>  3.44 </td><td>  3.46 </td><td>  3.57 </td><td>  3.19 </td><td>  3.15 </td><td>  3.44 </td><td>⋯      </td><td>  3.435</td><td>  3.84 </td><td>  3.845</td><td> 1.935 </td><td>  2.14 </td><td>  1.513</td><td>  3.17 </td><td>  2.77 </td><td>  3.57 </td><td>  2.78 </td></tr>\n",
       "</tbody>\n",
       "</table>\n"
      ],
      "text/latex": [
       "\\begin{tabular}{r|llllllllllllllllllllllllllllllll}\n",
       "  & Mazda RX4 & Mazda RX4 Wag & Datsun 710 & Hornet 4 Drive & Hornet Sportabout & Valiant & Duster 360 & Merc 240D & Merc 230 & Merc 280 & ⋯ & AMC Javelin & Camaro Z28 & Pontiac Firebird & Fiat X1-9 & Porsche 914-2 & Lotus Europa & Ford Pantera L & Ferrari Dino & Maserati Bora & Volvo 142E\\\\\n",
       "\\hline\n",
       "\tmpg &  21.00  &  21.000 &  22.80  &  21.400 &  18.70  &  18.10  &  14.30  &  24.40  &  22.80  &  19.20  & ⋯       &  15.200 &  13.30  &  19.200 & 27.300  &  26.00  &  30.400 &  15.80  &  19.70  &  15.00  &  21.40 \\\\\n",
       "\tcyl &   6.00  &   6.000 &   4.00  &   6.000 &   8.00  &   6.00  &   8.00  &   4.00  &   4.00  &   6.00  & ⋯       &   8.000 &   8.00  &   8.000 &  4.000  &   4.00  &   4.000 &   8.00  &   6.00  &   8.00  &   4.00 \\\\\n",
       "\tdisp & 160.00  & 160.000 & 108.00  & 258.000 & 360.00  & 225.00  & 360.00  & 146.70  & 140.80  & 167.60  & ⋯       & 304.000 & 350.00  & 400.000 & 79.000  & 120.30  &  95.100 & 351.00  & 145.00  & 301.00  & 121.00 \\\\\n",
       "\thp & 110.00  & 110.000 &  93.00  & 110.000 & 175.00  & 105.00  & 245.00  &  62.00  &  95.00  & 123.00  & ⋯       & 150.000 & 245.00  & 175.000 & 66.000  &  91.00  & 113.000 & 264.00  & 175.00  & 335.00  & 109.00 \\\\\n",
       "\tdrat &   3.90  &   3.900 &   3.85  &   3.080 &   3.15  &   2.76  &   3.21  &   3.69  &   3.92  &   3.92  & ⋯       &   3.150 &   3.73  &   3.080 &  4.080  &   4.43  &   3.770 &   4.22  &   3.62  &   3.54  &   4.11 \\\\\n",
       "\twt &   2.62  &   2.875 &   2.32  &   3.215 &   3.44  &   3.46  &   3.57  &   3.19  &   3.15  &   3.44  & ⋯       &   3.435 &   3.84  &   3.845 &  1.935  &   2.14  &   1.513 &   3.17  &   2.77  &   3.57  &   2.78 \\\\\n",
       "\\end{tabular}\n"
      ],
      "text/markdown": [
       "\n",
       "| <!--/--> | Mazda RX4 | Mazda RX4 Wag | Datsun 710 | Hornet 4 Drive | Hornet Sportabout | Valiant | Duster 360 | Merc 240D | Merc 230 | Merc 280 | ⋯ | AMC Javelin | Camaro Z28 | Pontiac Firebird | Fiat X1-9 | Porsche 914-2 | Lotus Europa | Ford Pantera L | Ferrari Dino | Maserati Bora | Volvo 142E | \n",
       "|---|---|---|---|---|---|\n",
       "| mpg |  21.00  |  21.000 |  22.80  |  21.400 |  18.70  |  18.10  |  14.30  |  24.40  |  22.80  |  19.20  | ⋯       |  15.200 |  13.30  |  19.200 | 27.300  |  26.00  |  30.400 |  15.80  |  19.70  |  15.00  |  21.40  | \n",
       "| cyl |   6.00  |   6.000 |   4.00  |   6.000 |   8.00  |   6.00  |   8.00  |   4.00  |   4.00  |   6.00  | ⋯       |   8.000 |   8.00  |   8.000 |  4.000  |   4.00  |   4.000 |   8.00  |   6.00  |   8.00  |   4.00  | \n",
       "| disp | 160.00  | 160.000 | 108.00  | 258.000 | 360.00  | 225.00  | 360.00  | 146.70  | 140.80  | 167.60  | ⋯       | 304.000 | 350.00  | 400.000 | 79.000  | 120.30  |  95.100 | 351.00  | 145.00  | 301.00  | 121.00  | \n",
       "| hp | 110.00  | 110.000 |  93.00  | 110.000 | 175.00  | 105.00  | 245.00  |  62.00  |  95.00  | 123.00  | ⋯       | 150.000 | 245.00  | 175.000 | 66.000  |  91.00  | 113.000 | 264.00  | 175.00  | 335.00  | 109.00  | \n",
       "| drat |   3.90  |   3.900 |   3.85  |   3.080 |   3.15  |   2.76  |   3.21  |   3.69  |   3.92  |   3.92  | ⋯       |   3.150 |   3.73  |   3.080 |  4.080  |   4.43  |   3.770 |   4.22  |   3.62  |   3.54  |   4.11  | \n",
       "| wt |   2.62  |   2.875 |   2.32  |   3.215 |   3.44  |   3.46  |   3.57  |   3.19  |   3.15  |   3.44  | ⋯       |   3.435 |   3.84  |   3.845 |  1.935  |   2.14  |   1.513 |   3.17  |   2.77  |   3.57  |   2.78  | \n",
       "\n",
       "\n"
      ],
      "text/plain": [
       "     Mazda RX4 Mazda RX4 Wag Datsun 710 Hornet 4 Drive Hornet Sportabout\n",
       "mpg   21.00     21.000        22.80      21.400         18.70           \n",
       "cyl    6.00      6.000         4.00       6.000          8.00           \n",
       "disp 160.00    160.000       108.00     258.000        360.00           \n",
       "hp   110.00    110.000        93.00     110.000        175.00           \n",
       "drat   3.90      3.900         3.85       3.080          3.15           \n",
       "wt     2.62      2.875         2.32       3.215          3.44           \n",
       "     Valiant Duster 360 Merc 240D Merc 230 Merc 280 ⋯ AMC Javelin Camaro Z28\n",
       "mpg   18.10   14.30      24.40     22.80    19.20   ⋯  15.200      13.30    \n",
       "cyl    6.00    8.00       4.00      4.00     6.00   ⋯   8.000       8.00    \n",
       "disp 225.00  360.00     146.70    140.80   167.60   ⋯ 304.000     350.00    \n",
       "hp   105.00  245.00      62.00     95.00   123.00   ⋯ 150.000     245.00    \n",
       "drat   2.76    3.21       3.69      3.92     3.92   ⋯   3.150       3.73    \n",
       "wt     3.46    3.57       3.19      3.15     3.44   ⋯   3.435       3.84    \n",
       "     Pontiac Firebird Fiat X1-9 Porsche 914-2 Lotus Europa Ford Pantera L\n",
       "mpg   19.200          27.300     26.00         30.400       15.80        \n",
       "cyl    8.000           4.000      4.00          4.000        8.00        \n",
       "disp 400.000          79.000    120.30         95.100      351.00        \n",
       "hp   175.000          66.000     91.00        113.000      264.00        \n",
       "drat   3.080           4.080      4.43          3.770        4.22        \n",
       "wt     3.845           1.935      2.14          1.513        3.17        \n",
       "     Ferrari Dino Maserati Bora Volvo 142E\n",
       "mpg   19.70        15.00         21.40    \n",
       "cyl    6.00         8.00          4.00    \n",
       "disp 145.00       301.00        121.00    \n",
       "hp   175.00       335.00        109.00    \n",
       "drat   3.62         3.54          4.11    \n",
       "wt     2.77         3.57          2.78    "
      ]
     },
     "metadata": {},
     "output_type": "display_data"
    }
   ],
   "source": [
    "# transposing data (flip axes)\n",
    "mtcars_t <- t(mtcars)\n",
    "head(mtcars_t)"
   ]
  },
  {
   "cell_type": "markdown",
   "metadata": {},
   "source": [
    "### b) Re-casting data shape"
   ]
  },
  {
   "cell_type": "code",
   "execution_count": 65,
   "metadata": {
    "collapsed": true
   },
   "outputs": [],
   "source": [
    "library(reshape2)"
   ]
  },
  {
   "cell_type": "code",
   "execution_count": 66,
   "metadata": {},
   "outputs": [
    {
     "data": {
      "text/html": [
       "<table>\n",
       "<thead><tr><th scope=col>model</th><th scope=col>mpg</th><th scope=col>cyl</th><th scope=col>disp</th><th scope=col>hp</th><th scope=col>drat</th><th scope=col>wt</th><th scope=col>qsec</th><th scope=col>vs</th><th scope=col>am</th><th scope=col>gear</th><th scope=col>carb</th><th scope=col>econo</th><th scope=col>Make</th><th scope=col>Origin</th><th scope=col>Model</th></tr></thead>\n",
       "<tbody>\n",
       "\t<tr><td>Cadillac Fleetwood</td><td>10.4              </td><td>8                 </td><td>472.0             </td><td>205               </td><td>2.93              </td><td>5.250             </td><td>17.98             </td><td>0                 </td><td>0                 </td><td>3                 </td><td>4                 </td><td>low mpg           </td><td>Cadillac          </td><td>USA               </td><td>Fleetwood         </td></tr>\n",
       "\t<tr><td>Camaro Z28        </td><td>13.3              </td><td>8                 </td><td>350.0             </td><td>245               </td><td>3.73              </td><td>3.840             </td><td>15.41             </td><td>0                 </td><td>0                 </td><td>3                 </td><td>4                 </td><td>low mpg           </td><td>Camaro            </td><td>USA               </td><td>Z28               </td></tr>\n",
       "\t<tr><td>Chrysler Imperial </td><td>14.7              </td><td>8                 </td><td>440.0             </td><td>230               </td><td>3.23              </td><td>5.345             </td><td>17.42             </td><td>0                 </td><td>0                 </td><td>3                 </td><td>4                 </td><td>low mpg           </td><td>Chrysler          </td><td>USA               </td><td>Imperial          </td></tr>\n",
       "\t<tr><td>Dodge Challenger  </td><td>15.5              </td><td>8                 </td><td>318.0             </td><td>150               </td><td>2.76              </td><td>3.520             </td><td>16.87             </td><td>0                 </td><td>0                 </td><td>3                 </td><td>2                 </td><td>low mpg           </td><td>Dodge             </td><td>USA               </td><td>Challenger        </td></tr>\n",
       "\t<tr><td>Ferrari Dino      </td><td>19.7              </td><td>6                 </td><td>145.0             </td><td>175               </td><td>3.62              </td><td>2.770             </td><td>15.50             </td><td>0                 </td><td>1                 </td><td>5                 </td><td>6                 </td><td>low mpg           </td><td>Ferrari           </td><td>Italy             </td><td>Dino              </td></tr>\n",
       "\t<tr><td>Fiat 128          </td><td>32.4              </td><td>4                 </td><td> 78.7             </td><td> 66               </td><td>4.08              </td><td>2.200             </td><td>19.47             </td><td>1                 </td><td>1                 </td><td>4                 </td><td>1                 </td><td>econo             </td><td>Fiat              </td><td>Italy             </td><td>128               </td></tr>\n",
       "</tbody>\n",
       "</table>\n"
      ],
      "text/latex": [
       "\\begin{tabular}{r|llllllllllllllll}\n",
       " model & mpg & cyl & disp & hp & drat & wt & qsec & vs & am & gear & carb & econo & Make & Origin & Model\\\\\n",
       "\\hline\n",
       "\t Cadillac Fleetwood & 10.4               & 8                  & 472.0              & 205                & 2.93               & 5.250              & 17.98              & 0                  & 0                  & 3                  & 4                  & low mpg            & Cadillac           & USA                & Fleetwood         \\\\\n",
       "\t Camaro Z28         & 13.3               & 8                  & 350.0              & 245                & 3.73               & 3.840              & 15.41              & 0                  & 0                  & 3                  & 4                  & low mpg            & Camaro             & USA                & Z28               \\\\\n",
       "\t Chrysler Imperial  & 14.7               & 8                  & 440.0              & 230                & 3.23               & 5.345              & 17.42              & 0                  & 0                  & 3                  & 4                  & low mpg            & Chrysler           & USA                & Imperial          \\\\\n",
       "\t Dodge Challenger   & 15.5               & 8                  & 318.0              & 150                & 2.76               & 3.520              & 16.87              & 0                  & 0                  & 3                  & 2                  & low mpg            & Dodge              & USA                & Challenger        \\\\\n",
       "\t Ferrari Dino       & 19.7               & 6                  & 145.0              & 175                & 3.62               & 2.770              & 15.50              & 0                  & 1                  & 5                  & 6                  & low mpg            & Ferrari            & Italy              & Dino              \\\\\n",
       "\t Fiat 128           & 32.4               & 4                  &  78.7              &  66                & 4.08               & 2.200              & 19.47              & 1                  & 1                  & 4                  & 1                  & econo              & Fiat               & Italy              & 128               \\\\\n",
       "\\end{tabular}\n"
      ],
      "text/markdown": [
       "\n",
       "model | mpg | cyl | disp | hp | drat | wt | qsec | vs | am | gear | carb | econo | Make | Origin | Model | \n",
       "|---|---|---|---|---|---|\n",
       "| Cadillac Fleetwood | 10.4               | 8                  | 472.0              | 205                | 2.93               | 5.250              | 17.98              | 0                  | 0                  | 3                  | 4                  | low mpg            | Cadillac           | USA                | Fleetwood          | \n",
       "| Camaro Z28         | 13.3               | 8                  | 350.0              | 245                | 3.73               | 3.840              | 15.41              | 0                  | 0                  | 3                  | 4                  | low mpg            | Camaro             | USA                | Z28                | \n",
       "| Chrysler Imperial  | 14.7               | 8                  | 440.0              | 230                | 3.23               | 5.345              | 17.42              | 0                  | 0                  | 3                  | 4                  | low mpg            | Chrysler           | USA                | Imperial           | \n",
       "| Dodge Challenger   | 15.5               | 8                  | 318.0              | 150                | 2.76               | 3.520              | 16.87              | 0                  | 0                  | 3                  | 2                  | low mpg            | Dodge              | USA                | Challenger         | \n",
       "| Ferrari Dino       | 19.7               | 6                  | 145.0              | 175                | 3.62               | 2.770              | 15.50              | 0                  | 1                  | 5                  | 6                  | low mpg            | Ferrari            | Italy              | Dino               | \n",
       "| Fiat 128           | 32.4               | 4                  |  78.7              |  66                | 4.08               | 2.200              | 19.47              | 1                  | 1                  | 4                  | 1                  | econo              | Fiat               | Italy              | 128                | \n",
       "\n",
       "\n"
      ],
      "text/plain": [
       "  model              mpg  cyl disp  hp  drat wt    qsec  vs am gear carb\n",
       "1 Cadillac Fleetwood 10.4 8   472.0 205 2.93 5.250 17.98 0  0  3    4   \n",
       "2 Camaro Z28         13.3 8   350.0 245 3.73 3.840 15.41 0  0  3    4   \n",
       "3 Chrysler Imperial  14.7 8   440.0 230 3.23 5.345 17.42 0  0  3    4   \n",
       "4 Dodge Challenger   15.5 8   318.0 150 2.76 3.520 16.87 0  0  3    2   \n",
       "5 Ferrari Dino       19.7 6   145.0 175 3.62 2.770 15.50 0  1  5    6   \n",
       "6 Fiat 128           32.4 4    78.7  66 4.08 2.200 19.47 1  1  4    1   \n",
       "  econo   Make     Origin Model     \n",
       "1 low mpg Cadillac USA    Fleetwood \n",
       "2 low mpg Camaro   USA    Z28       \n",
       "3 low mpg Chrysler USA    Imperial  \n",
       "4 low mpg Dodge    USA    Challenger\n",
       "5 low mpg Ferrari  Italy  Dino      \n",
       "6 econo   Fiat     Italy  128       "
      ]
     },
     "metadata": {},
     "output_type": "display_data"
    }
   ],
   "source": [
    "# refresher -- what does newcar_origin data look like\n",
    "head(newcar_origin)"
   ]
  },
  {
   "cell_type": "code",
   "execution_count": 67,
   "metadata": {},
   "outputs": [
    {
     "name": "stderr",
     "output_type": "stream",
     "text": [
      "Using Model as value column: use value.var to override.\n",
      "Aggregation function missing: defaulting to length\n"
     ]
    },
    {
     "data": {
      "text/html": [
       "<table>\n",
       "<thead><tr><th scope=col>Origin</th><th scope=col>4</th><th scope=col>6</th><th scope=col>8</th></tr></thead>\n",
       "<tbody>\n",
       "\t<tr><td>Germany</td><td>3      </td><td>2      </td><td>3      </td></tr>\n",
       "\t<tr><td>Italy  </td><td>2      </td><td>1      </td><td>1      </td></tr>\n",
       "\t<tr><td>Japan  </td><td>3      </td><td>2      </td><td>0      </td></tr>\n",
       "\t<tr><td>Sweden </td><td>1      </td><td>0      </td><td>0      </td></tr>\n",
       "\t<tr><td>UK     </td><td>1      </td><td>0      </td><td>0      </td></tr>\n",
       "\t<tr><td>USA    </td><td>0      </td><td>0      </td><td>7      </td></tr>\n",
       "</tbody>\n",
       "</table>\n"
      ],
      "text/latex": [
       "\\begin{tabular}{r|llll}\n",
       " Origin & 4 & 6 & 8\\\\\n",
       "\\hline\n",
       "\t Germany & 3       & 2       & 3      \\\\\n",
       "\t Italy   & 2       & 1       & 1      \\\\\n",
       "\t Japan   & 3       & 2       & 0      \\\\\n",
       "\t Sweden  & 1       & 0       & 0      \\\\\n",
       "\t UK      & 1       & 0       & 0      \\\\\n",
       "\t USA     & 0       & 0       & 7      \\\\\n",
       "\\end{tabular}\n"
      ],
      "text/markdown": [
       "\n",
       "Origin | 4 | 6 | 8 | \n",
       "|---|---|---|---|---|---|\n",
       "| Germany | 3       | 2       | 3       | \n",
       "| Italy   | 2       | 1       | 1       | \n",
       "| Japan   | 3       | 2       | 0       | \n",
       "| Sweden  | 1       | 0       | 0       | \n",
       "| UK      | 1       | 0       | 0       | \n",
       "| USA     | 0       | 0       | 7       | \n",
       "\n",
       "\n"
      ],
      "text/plain": [
       "  Origin  4 6 8\n",
       "1 Germany 3 2 3\n",
       "2 Italy   2 1 1\n",
       "3 Japan   3 2 0\n",
       "4 Sweden  1 0 0\n",
       "5 UK      1 0 0\n",
       "6 USA     0 0 7"
      ]
     },
     "metadata": {},
     "output_type": "display_data"
    }
   ],
   "source": [
    "# cast new data shape with dcast\n",
    "mpg_by_country <- dcast(newcar_origin, Origin ~ cyl)    # dcast function makes new columns out of a factor\n",
    "mpg_by_country                                          # defaults to counting, can use means as well\n",
    "\n",
    "# you can specify a function for aggregation as well.."
   ]
  },
  {
   "cell_type": "markdown",
   "metadata": {},
   "source": [
    "### c) Melting data\n",
    "\n",
    "Melting data takes the new columns \"cyl\" and stacks them back up into a single column.\n",
    "This is how we make \"long\" data.  \n",
    "\n",
    "This data format is needed to make stacked bar charts in gglot2.\n",
    "The equivalent function to melt in tidyr is gather."
   ]
  },
  {
   "cell_type": "code",
   "execution_count": 68,
   "metadata": {},
   "outputs": [
    {
     "name": "stderr",
     "output_type": "stream",
     "text": [
      "Using Origin as id variables\n"
     ]
    },
    {
     "data": {
      "text/html": [
       "<table>\n",
       "<thead><tr><th scope=col>Origin</th><th scope=col>cyl</th><th scope=col>n_models</th></tr></thead>\n",
       "<tbody>\n",
       "\t<tr><td>Germany</td><td>4      </td><td>3      </td></tr>\n",
       "\t<tr><td>Italy  </td><td>4      </td><td>2      </td></tr>\n",
       "\t<tr><td>Japan  </td><td>4      </td><td>3      </td></tr>\n",
       "\t<tr><td>Sweden </td><td>4      </td><td>1      </td></tr>\n",
       "\t<tr><td>UK     </td><td>4      </td><td>1      </td></tr>\n",
       "\t<tr><td>USA    </td><td>4      </td><td>0      </td></tr>\n",
       "\t<tr><td>Germany</td><td>6      </td><td>2      </td></tr>\n",
       "\t<tr><td>Italy  </td><td>6      </td><td>1      </td></tr>\n",
       "\t<tr><td>Japan  </td><td>6      </td><td>2      </td></tr>\n",
       "\t<tr><td>Sweden </td><td>6      </td><td>0      </td></tr>\n",
       "\t<tr><td>UK     </td><td>6      </td><td>0      </td></tr>\n",
       "\t<tr><td>USA    </td><td>6      </td><td>0      </td></tr>\n",
       "\t<tr><td>Germany</td><td>8      </td><td>3      </td></tr>\n",
       "\t<tr><td>Italy  </td><td>8      </td><td>1      </td></tr>\n",
       "\t<tr><td>Japan  </td><td>8      </td><td>0      </td></tr>\n",
       "\t<tr><td>Sweden </td><td>8      </td><td>0      </td></tr>\n",
       "\t<tr><td>UK     </td><td>8      </td><td>0      </td></tr>\n",
       "\t<tr><td>USA    </td><td>8      </td><td>7      </td></tr>\n",
       "</tbody>\n",
       "</table>\n"
      ],
      "text/latex": [
       "\\begin{tabular}{r|lll}\n",
       " Origin & cyl & n\\_models\\\\\n",
       "\\hline\n",
       "\t Germany & 4       & 3      \\\\\n",
       "\t Italy   & 4       & 2      \\\\\n",
       "\t Japan   & 4       & 3      \\\\\n",
       "\t Sweden  & 4       & 1      \\\\\n",
       "\t UK      & 4       & 1      \\\\\n",
       "\t USA     & 4       & 0      \\\\\n",
       "\t Germany & 6       & 2      \\\\\n",
       "\t Italy   & 6       & 1      \\\\\n",
       "\t Japan   & 6       & 2      \\\\\n",
       "\t Sweden  & 6       & 0      \\\\\n",
       "\t UK      & 6       & 0      \\\\\n",
       "\t USA     & 6       & 0      \\\\\n",
       "\t Germany & 8       & 3      \\\\\n",
       "\t Italy   & 8       & 1      \\\\\n",
       "\t Japan   & 8       & 0      \\\\\n",
       "\t Sweden  & 8       & 0      \\\\\n",
       "\t UK      & 8       & 0      \\\\\n",
       "\t USA     & 8       & 7      \\\\\n",
       "\\end{tabular}\n"
      ],
      "text/markdown": [
       "\n",
       "Origin | cyl | n_models | \n",
       "|---|---|---|---|---|---|---|---|---|---|---|---|---|---|---|---|---|---|\n",
       "| Germany | 4       | 3       | \n",
       "| Italy   | 4       | 2       | \n",
       "| Japan   | 4       | 3       | \n",
       "| Sweden  | 4       | 1       | \n",
       "| UK      | 4       | 1       | \n",
       "| USA     | 4       | 0       | \n",
       "| Germany | 6       | 2       | \n",
       "| Italy   | 6       | 1       | \n",
       "| Japan   | 6       | 2       | \n",
       "| Sweden  | 6       | 0       | \n",
       "| UK      | 6       | 0       | \n",
       "| USA     | 6       | 0       | \n",
       "| Germany | 8       | 3       | \n",
       "| Italy   | 8       | 1       | \n",
       "| Japan   | 8       | 0       | \n",
       "| Sweden  | 8       | 0       | \n",
       "| UK      | 8       | 0       | \n",
       "| USA     | 8       | 7       | \n",
       "\n",
       "\n"
      ],
      "text/plain": [
       "   Origin  cyl n_models\n",
       "1  Germany 4   3       \n",
       "2  Italy   4   2       \n",
       "3  Japan   4   3       \n",
       "4  Sweden  4   1       \n",
       "5  UK      4   1       \n",
       "6  USA     4   0       \n",
       "7  Germany 6   2       \n",
       "8  Italy   6   1       \n",
       "9  Japan   6   2       \n",
       "10 Sweden  6   0       \n",
       "11 UK      6   0       \n",
       "12 USA     6   0       \n",
       "13 Germany 8   3       \n",
       "14 Italy   8   1       \n",
       "15 Japan   8   0       \n",
       "16 Sweden  8   0       \n",
       "17 UK      8   0       \n",
       "18 USA     8   7       "
      ]
     },
     "metadata": {},
     "output_type": "display_data"
    }
   ],
   "source": [
    "# melt data ito long format -- restacks factor\n",
    "# mpg_by_c_melt <-melt(mpg_by_country)                                                   # simple call \n",
    "mpg_by_c_melt <-melt(mpg_by_country, variable.name = c(\"cyl\"), value.name = \"n_models\")  # add variable names  \n",
    "mpg_by_c_melt"
   ]
  },
  {
   "cell_type": "markdown",
   "metadata": {},
   "source": [
    "### d) Why do US cars have such poor MPG ? "
   ]
  },
  {
   "cell_type": "code",
   "execution_count": 69,
   "metadata": {},
   "outputs": [
    {
     "data": {},
     "metadata": {},
     "output_type": "display_data"
    },
    {
     "data": {
      "image/png": "[encoded data removed]",
      "text/plain": [
       "plot without title"
      ]
     },
     "metadata": {},
     "output_type": "display_data"
    }
   ],
   "source": [
    "# plot number of models from each country by number of cylinders\n",
    "\n",
    "options(repr.plot.width=5, repr.plot.height=3)  \n",
    "\n",
    "ggplot(mpg_by_c_melt, aes(x=cyl, y = n_models, fill = Origin)) + # scale_fill_brewer(palette=\"Paired\") +\n",
    "    geom_bar(stat=\"identity\")"
   ]
  },
  {
   "cell_type": "markdown",
   "metadata": {},
   "source": [
    "## 6) Basic data structures: Getting data from matrices, vectors, and lists\n",
    "\n",
    "This appendix shows how to manipulate basic data structures to get the data you want.  Unlike the earlier sections, this is laid out more as quick reference material rather than case studies with illustrated examples. \n",
    "These data structures are also described in the following tutorial, which may help fill in any missing gaps:\n",
    "http://www.sthda.com/english/wiki/easy-r-programming-basics."
   ]
  },
  {
   "cell_type": "markdown",
   "metadata": {},
   "source": [
    "### a) Getting data from a matrix\n",
    "\n",
    "Matrices hold only numeric data.  While more rudimentary than the data frames, matrices are required for some plots types, like heatmaps.\n",
    "\n",
    "There are also some differences in syntax needed to slice data from a matrix vs. a data frame:"
   ]
  },
  {
   "cell_type": "code",
   "execution_count": 70,
   "metadata": {},
   "outputs": [
    {
     "data": {
      "text/html": [
       "<table>\n",
       "<thead><tr><th></th><th scope=col>mpg</th><th scope=col>cyl</th><th scope=col>disp</th><th scope=col>hp</th><th scope=col>drat</th><th scope=col>wt</th><th scope=col>qsec</th><th scope=col>vs</th><th scope=col>am</th><th scope=col>gear</th><th scope=col>carb</th><th scope=col>model</th><th scope=col>econo</th></tr></thead>\n",
       "<tbody>\n",
       "\t<tr><th scope=row>Maserati Bora</th><td>15.0 </td><td>3    </td><td>301  </td><td>335  </td><td>3.54 </td><td>3.570</td><td>14.60</td><td>0    </td><td>1    </td><td>5    </td><td>8    </td><td>6    </td><td>2    </td></tr>\n",
       "\t<tr><th scope=row>Chrysler Imperial</th><td>14.7 </td><td>3    </td><td>440  </td><td>230  </td><td>3.23 </td><td>5.345</td><td>17.42</td><td>0    </td><td>0    </td><td>3    </td><td>4    </td><td>5    </td><td>2    </td></tr>\n",
       "\t<tr><th scope=row>Duster 360</th><td>14.3 </td><td>3    </td><td>360  </td><td>245  </td><td>3.21 </td><td>3.570</td><td>15.84</td><td>0    </td><td>0    </td><td>3    </td><td>4    </td><td>4    </td><td>2    </td></tr>\n",
       "\t<tr><th scope=row>Camaro Z28</th><td>13.3 </td><td>3    </td><td>350  </td><td>245  </td><td>3.73 </td><td>3.840</td><td>15.41</td><td>0    </td><td>0    </td><td>3    </td><td>4    </td><td>3    </td><td>2    </td></tr>\n",
       "\t<tr><th scope=row>Cadillac Fleetwood</th><td>10.4 </td><td>3    </td><td>472  </td><td>205  </td><td>2.93 </td><td>5.250</td><td>17.98</td><td>0    </td><td>0    </td><td>3    </td><td>4    </td><td>1    </td><td>2    </td></tr>\n",
       "\t<tr><th scope=row>Lincoln Continental</th><td>10.4 </td><td>3    </td><td>460  </td><td>215  </td><td>3.00 </td><td>5.424</td><td>17.82</td><td>0    </td><td>0    </td><td>3    </td><td>4    </td><td>2    </td><td>2    </td></tr>\n",
       "</tbody>\n",
       "</table>\n"
      ],
      "text/latex": [
       "\\begin{tabular}{r|lllllllllllll}\n",
       "  & mpg & cyl & disp & hp & drat & wt & qsec & vs & am & gear & carb & model & econo\\\\\n",
       "\\hline\n",
       "\tMaserati Bora & 15.0  & 3     & 301   & 335   & 3.54  & 3.570 & 14.60 & 0     & 1     & 5     & 8     & 6     & 2    \\\\\n",
       "\tChrysler Imperial & 14.7  & 3     & 440   & 230   & 3.23  & 5.345 & 17.42 & 0     & 0     & 3     & 4     & 5     & 2    \\\\\n",
       "\tDuster 360 & 14.3  & 3     & 360   & 245   & 3.21  & 3.570 & 15.84 & 0     & 0     & 3     & 4     & 4     & 2    \\\\\n",
       "\tCamaro Z28 & 13.3  & 3     & 350   & 245   & 3.73  & 3.840 & 15.41 & 0     & 0     & 3     & 4     & 3     & 2    \\\\\n",
       "\tCadillac Fleetwood & 10.4  & 3     & 472   & 205   & 2.93  & 5.250 & 17.98 & 0     & 0     & 3     & 4     & 1     & 2    \\\\\n",
       "\tLincoln Continental & 10.4  & 3     & 460   & 215   & 3.00  & 5.424 & 17.82 & 0     & 0     & 3     & 4     & 2     & 2    \\\\\n",
       "\\end{tabular}\n"
      ],
      "text/markdown": [
       "\n",
       "| <!--/--> | mpg | cyl | disp | hp | drat | wt | qsec | vs | am | gear | carb | model | econo | \n",
       "|---|---|---|---|---|---|\n",
       "| Maserati Bora | 15.0  | 3     | 301   | 335   | 3.54  | 3.570 | 14.60 | 0     | 1     | 5     | 8     | 6     | 2     | \n",
       "| Chrysler Imperial | 14.7  | 3     | 440   | 230   | 3.23  | 5.345 | 17.42 | 0     | 0     | 3     | 4     | 5     | 2     | \n",
       "| Duster 360 | 14.3  | 3     | 360   | 245   | 3.21  | 3.570 | 15.84 | 0     | 0     | 3     | 4     | 4     | 2     | \n",
       "| Camaro Z28 | 13.3  | 3     | 350   | 245   | 3.73  | 3.840 | 15.41 | 0     | 0     | 3     | 4     | 3     | 2     | \n",
       "| Cadillac Fleetwood | 10.4  | 3     | 472   | 205   | 2.93  | 5.250 | 17.98 | 0     | 0     | 3     | 4     | 1     | 2     | \n",
       "| Lincoln Continental | 10.4  | 3     | 460   | 215   | 3.00  | 5.424 | 17.82 | 0     | 0     | 3     | 4     | 2     | 2     | \n",
       "\n",
       "\n"
      ],
      "text/plain": [
       "                    mpg  cyl disp hp  drat wt    qsec  vs am gear carb model\n",
       "Maserati Bora       15.0 3   301  335 3.54 3.570 14.60 0  1  5    8    6    \n",
       "Chrysler Imperial   14.7 3   440  230 3.23 5.345 17.42 0  0  3    4    5    \n",
       "Duster 360          14.3 3   360  245 3.21 3.570 15.84 0  0  3    4    4    \n",
       "Camaro Z28          13.3 3   350  245 3.73 3.840 15.41 0  0  3    4    3    \n",
       "Cadillac Fleetwood  10.4 3   472  205 2.93 5.250 17.98 0  0  3    4    1    \n",
       "Lincoln Continental 10.4 3   460  215 3.00 5.424 17.82 0  0  3    4    2    \n",
       "                    econo\n",
       "Maserati Bora       2    \n",
       "Chrysler Imperial   2    \n",
       "Duster 360          2    \n",
       "Camaro Z28          2    \n",
       "Cadillac Fleetwood  2    \n",
       "Lincoln Continental 2    "
      ]
     },
     "metadata": {},
     "output_type": "display_data"
    }
   ],
   "source": [
    "# a data matrix holds numbers, but not text\n",
    "newcar_M <- data.matrix(newcar)                      # make data matrix   \n",
    "tail(newcar_M)                                       # show last few rows"
   ]
  },
  {
   "cell_type": "code",
   "execution_count": 71,
   "metadata": {},
   "outputs": [
    {
     "data": {
      "text/html": [
       "<table>\n",
       "<thead><tr><th></th><th scope=col>mpg</th><th scope=col>cyl</th><th scope=col>disp</th><th scope=col>hp</th><th scope=col>drat</th><th scope=col>wt</th><th scope=col>qsec</th><th scope=col>vs</th><th scope=col>am</th><th scope=col>gear</th><th scope=col>carb</th><th scope=col>model</th></tr></thead>\n",
       "<tbody>\n",
       "\t<tr><th scope=row>Maserati Bora</th><td>15.0 </td><td>3    </td><td>301  </td><td>335  </td><td>3.54 </td><td>3.570</td><td>14.60</td><td>0    </td><td>1    </td><td>5    </td><td>8    </td><td>6    </td></tr>\n",
       "\t<tr><th scope=row>Chrysler Imperial</th><td>14.7 </td><td>3    </td><td>440  </td><td>230  </td><td>3.23 </td><td>5.345</td><td>17.42</td><td>0    </td><td>0    </td><td>3    </td><td>4    </td><td>5    </td></tr>\n",
       "\t<tr><th scope=row>Duster 360</th><td>14.3 </td><td>3    </td><td>360  </td><td>245  </td><td>3.21 </td><td>3.570</td><td>15.84</td><td>0    </td><td>0    </td><td>3    </td><td>4    </td><td>4    </td></tr>\n",
       "\t<tr><th scope=row>Camaro Z28</th><td>13.3 </td><td>3    </td><td>350  </td><td>245  </td><td>3.73 </td><td>3.840</td><td>15.41</td><td>0    </td><td>0    </td><td>3    </td><td>4    </td><td>3    </td></tr>\n",
       "\t<tr><th scope=row>Cadillac Fleetwood</th><td>10.4 </td><td>3    </td><td>472  </td><td>205  </td><td>2.93 </td><td>5.250</td><td>17.98</td><td>0    </td><td>0    </td><td>3    </td><td>4    </td><td>1    </td></tr>\n",
       "\t<tr><th scope=row>Lincoln Continental</th><td>10.4 </td><td>3    </td><td>460  </td><td>215  </td><td>3.00 </td><td>5.424</td><td>17.82</td><td>0    </td><td>0    </td><td>3    </td><td>4    </td><td>2    </td></tr>\n",
       "</tbody>\n",
       "</table>\n"
      ],
      "text/latex": [
       "\\begin{tabular}{r|llllllllllll}\n",
       "  & mpg & cyl & disp & hp & drat & wt & qsec & vs & am & gear & carb & model\\\\\n",
       "\\hline\n",
       "\tMaserati Bora & 15.0  & 3     & 301   & 335   & 3.54  & 3.570 & 14.60 & 0     & 1     & 5     & 8     & 6    \\\\\n",
       "\tChrysler Imperial & 14.7  & 3     & 440   & 230   & 3.23  & 5.345 & 17.42 & 0     & 0     & 3     & 4     & 5    \\\\\n",
       "\tDuster 360 & 14.3  & 3     & 360   & 245   & 3.21  & 3.570 & 15.84 & 0     & 0     & 3     & 4     & 4    \\\\\n",
       "\tCamaro Z28 & 13.3  & 3     & 350   & 245   & 3.73  & 3.840 & 15.41 & 0     & 0     & 3     & 4     & 3    \\\\\n",
       "\tCadillac Fleetwood & 10.4  & 3     & 472   & 205   & 2.93  & 5.250 & 17.98 & 0     & 0     & 3     & 4     & 1    \\\\\n",
       "\tLincoln Continental & 10.4  & 3     & 460   & 215   & 3.00  & 5.424 & 17.82 & 0     & 0     & 3     & 4     & 2    \\\\\n",
       "\\end{tabular}\n"
      ],
      "text/markdown": [
       "\n",
       "| <!--/--> | mpg | cyl | disp | hp | drat | wt | qsec | vs | am | gear | carb | model | \n",
       "|---|---|---|---|---|---|\n",
       "| Maserati Bora | 15.0  | 3     | 301   | 335   | 3.54  | 3.570 | 14.60 | 0     | 1     | 5     | 8     | 6     | \n",
       "| Chrysler Imperial | 14.7  | 3     | 440   | 230   | 3.23  | 5.345 | 17.42 | 0     | 0     | 3     | 4     | 5     | \n",
       "| Duster 360 | 14.3  | 3     | 360   | 245   | 3.21  | 3.570 | 15.84 | 0     | 0     | 3     | 4     | 4     | \n",
       "| Camaro Z28 | 13.3  | 3     | 350   | 245   | 3.73  | 3.840 | 15.41 | 0     | 0     | 3     | 4     | 3     | \n",
       "| Cadillac Fleetwood | 10.4  | 3     | 472   | 205   | 2.93  | 5.250 | 17.98 | 0     | 0     | 3     | 4     | 1     | \n",
       "| Lincoln Continental | 10.4  | 3     | 460   | 215   | 3.00  | 5.424 | 17.82 | 0     | 0     | 3     | 4     | 2     | \n",
       "\n",
       "\n"
      ],
      "text/plain": [
       "                    mpg  cyl disp hp  drat wt    qsec  vs am gear carb model\n",
       "Maserati Bora       15.0 3   301  335 3.54 3.570 14.60 0  1  5    8    6    \n",
       "Chrysler Imperial   14.7 3   440  230 3.23 5.345 17.42 0  0  3    4    5    \n",
       "Duster 360          14.3 3   360  245 3.21 3.570 15.84 0  0  3    4    4    \n",
       "Camaro Z28          13.3 3   350  245 3.73 3.840 15.41 0  0  3    4    3    \n",
       "Cadillac Fleetwood  10.4 3   472  205 2.93 5.250 17.98 0  0  3    4    1    \n",
       "Lincoln Continental 10.4 3   460  215 3.00 5.424 17.82 0  0  3    4    2    "
      ]
     },
     "metadata": {},
     "output_type": "display_data"
    }
   ],
   "source": [
    "# Drop string column, make data matrix\n",
    "newcar_d <- newcar[,1:ncol(newcar)-1]                  # drop last column using [,1:ncol(x)-1]\n",
    "newcar_M <- data.matrix(newcar_d)                      # make data matrix   \n",
    "tail(newcar_M)                                         # show last few rows"
   ]
  },
  {
   "cell_type": "code",
   "execution_count": 72,
   "metadata": {},
   "outputs": [
    {
     "data": {
      "text/html": [
       "<ol class=list-inline>\n",
       "\t<li>'mpg'</li>\n",
       "\t<li>'cyl'</li>\n",
       "\t<li>'disp'</li>\n",
       "\t<li>'hp'</li>\n",
       "\t<li>'drat'</li>\n",
       "\t<li>'wt'</li>\n",
       "\t<li>'qsec'</li>\n",
       "\t<li>'vs'</li>\n",
       "\t<li>'am'</li>\n",
       "\t<li>'gear'</li>\n",
       "\t<li>'carb'</li>\n",
       "\t<li>'model'</li>\n",
       "</ol>\n"
      ],
      "text/latex": [
       "\\begin{enumerate*}\n",
       "\\item 'mpg'\n",
       "\\item 'cyl'\n",
       "\\item 'disp'\n",
       "\\item 'hp'\n",
       "\\item 'drat'\n",
       "\\item 'wt'\n",
       "\\item 'qsec'\n",
       "\\item 'vs'\n",
       "\\item 'am'\n",
       "\\item 'gear'\n",
       "\\item 'carb'\n",
       "\\item 'model'\n",
       "\\end{enumerate*}\n"
      ],
      "text/markdown": [
       "1. 'mpg'\n",
       "2. 'cyl'\n",
       "3. 'disp'\n",
       "4. 'hp'\n",
       "5. 'drat'\n",
       "6. 'wt'\n",
       "7. 'qsec'\n",
       "8. 'vs'\n",
       "9. 'am'\n",
       "10. 'gear'\n",
       "11. 'carb'\n",
       "12. 'model'\n",
       "\n",
       "\n"
      ],
      "text/plain": [
       " [1] \"mpg\"   \"cyl\"   \"disp\"  \"hp\"    \"drat\"  \"wt\"    \"qsec\"  \"vs\"    \"am\"   \n",
       "[10] \"gear\"  \"carb\"  \"model\""
      ]
     },
     "metadata": {},
     "output_type": "display_data"
    },
    {
     "data": {
      "text/html": [
       "<table>\n",
       "<thead><tr><th></th><th scope=col>mpg</th><th scope=col>cyl</th><th scope=col>disp</th><th scope=col>hp</th></tr></thead>\n",
       "<tbody>\n",
       "\t<tr><th scope=row>Toyota Corolla</th><td>33.9</td><td>1   </td><td>71.1</td><td>65  </td></tr>\n",
       "\t<tr><th scope=row>Fiat 128</th><td>32.4</td><td>1   </td><td>78.7</td><td>66  </td></tr>\n",
       "\t<tr><th scope=row>Honda Civic</th><td>30.4</td><td>1   </td><td>75.7</td><td>52  </td></tr>\n",
       "</tbody>\n",
       "</table>\n"
      ],
      "text/latex": [
       "\\begin{tabular}{r|llll}\n",
       "  & mpg & cyl & disp & hp\\\\\n",
       "\\hline\n",
       "\tToyota Corolla & 33.9 & 1    & 71.1 & 65  \\\\\n",
       "\tFiat 128 & 32.4 & 1    & 78.7 & 66  \\\\\n",
       "\tHonda Civic & 30.4 & 1    & 75.7 & 52  \\\\\n",
       "\\end{tabular}\n"
      ],
      "text/markdown": [
       "\n",
       "| <!--/--> | mpg | cyl | disp | hp | \n",
       "|---|---|---|\n",
       "| Toyota Corolla | 33.9 | 1    | 71.1 | 65   | \n",
       "| Fiat 128 | 32.4 | 1    | 78.7 | 66   | \n",
       "| Honda Civic | 30.4 | 1    | 75.7 | 52   | \n",
       "\n",
       "\n"
      ],
      "text/plain": [
       "               mpg  cyl disp hp\n",
       "Toyota Corolla 33.9 1   71.1 65\n",
       "Fiat 128       32.4 1   78.7 66\n",
       "Honda Civic    30.4 1   75.7 52"
      ]
     },
     "metadata": {},
     "output_type": "display_data"
    },
    {
     "data": {
      "text/html": [
       "<dl class=dl-horizontal>\n",
       "\t<dt>mpg</dt>\n",
       "\t\t<dd>21</dd>\n",
       "\t<dt>cyl</dt>\n",
       "\t\t<dd>2</dd>\n",
       "\t<dt>disp</dt>\n",
       "\t\t<dd>160</dd>\n",
       "\t<dt>hp</dt>\n",
       "\t\t<dd>110</dd>\n",
       "\t<dt>drat</dt>\n",
       "\t\t<dd>3.9</dd>\n",
       "\t<dt>wt</dt>\n",
       "\t\t<dd>2.62</dd>\n",
       "</dl>\n"
      ],
      "text/latex": [
       "\\begin{description*}\n",
       "\\item[mpg] 21\n",
       "\\item[cyl] 2\n",
       "\\item[disp] 160\n",
       "\\item[hp] 110\n",
       "\\item[drat] 3.9\n",
       "\\item[wt] 2.62\n",
       "\\end{description*}\n"
      ],
      "text/markdown": [
       "mpg\n",
       ":   21cyl\n",
       ":   2disp\n",
       ":   160hp\n",
       ":   110drat\n",
       ":   3.9wt\n",
       ":   2.62\n",
       "\n"
      ],
      "text/plain": [
       "   mpg    cyl   disp     hp   drat     wt \n",
       " 21.00   2.00 160.00 110.00   3.90   2.62 "
      ]
     },
     "metadata": {},
     "output_type": "display_data"
    },
    {
     "data": {
      "text/html": [
       "<dl class=dl-horizontal>\n",
       "\t<dt>Toyota Corolla</dt>\n",
       "\t\t<dd>33.9</dd>\n",
       "\t<dt>Fiat 128</dt>\n",
       "\t\t<dd>32.4</dd>\n",
       "\t<dt>Honda Civic</dt>\n",
       "\t\t<dd>30.4</dd>\n",
       "\t<dt>Lotus Europa</dt>\n",
       "\t\t<dd>30.4</dd>\n",
       "\t<dt>Fiat X1-9</dt>\n",
       "\t\t<dd>27.3</dd>\n",
       "\t<dt>Porsche 914-2</dt>\n",
       "\t\t<dd>26</dd>\n",
       "</dl>\n"
      ],
      "text/latex": [
       "\\begin{description*}\n",
       "\\item[Toyota Corolla] 33.9\n",
       "\\item[Fiat 128] 32.4\n",
       "\\item[Honda Civic] 30.4\n",
       "\\item[Lotus Europa] 30.4\n",
       "\\item[Fiat X1-9] 27.3\n",
       "\\item[Porsche 914-2] 26\n",
       "\\end{description*}\n"
      ],
      "text/markdown": [
       "Toyota Corolla\n",
       ":   33.9Fiat 128\n",
       ":   32.4Honda Civic\n",
       ":   30.4Lotus Europa\n",
       ":   30.4Fiat X1-9\n",
       ":   27.3Porsche 914-2\n",
       ":   26\n",
       "\n"
      ],
      "text/plain": [
       "Toyota Corolla       Fiat 128    Honda Civic   Lotus Europa      Fiat X1-9 \n",
       "          33.9           32.4           30.4           30.4           27.3 \n",
       " Porsche 914-2 \n",
       "          26.0 "
      ]
     },
     "metadata": {},
     "output_type": "display_data"
    }
   ],
   "source": [
    "# Ways to get data from data matrix\n",
    "colnames(newcar_M)                                     # get column names of matrix; see also row.names(M)\n",
    "newcar_M[1:3, 1:4]                                     # slice by location still works as in DF \n",
    "head(newcar_M['Mazda RX4',])                           # get matrix row, differs from DF \n",
    "head(newcar_M[,'mpg'])                                 # get column from matrix, differs from DF\n",
    "# newcar_M$mpg                                           # DF method DOESN'T WORK on MATRIX  "
   ]
  },
  {
   "cell_type": "markdown",
   "metadata": {},
   "source": [
    "### b) Adding new data to a matrix\n",
    "\n",
    "To add new data vectors to a matrix, use the cbind and rbind functions.\n",
    "\n",
    "cbind binds a new column, rbind joins a new row.  If you use cbind or rbind, the output is a data matrix, not data frame."
   ]
  },
  {
   "cell_type": "code",
   "execution_count": 73,
   "metadata": {},
   "outputs": [
    {
     "data": {
      "text/html": [
       "<table>\n",
       "<thead><tr><th></th><th scope=col>mpg</th><th scope=col>cyl</th><th scope=col>disp</th><th scope=col>hp</th><th scope=col>drat</th><th scope=col>wt</th><th scope=col>qsec</th><th scope=col>vs</th><th scope=col>am</th><th scope=col>gear</th><th scope=col>carb</th><th scope=col>model</th><th scope=col>power2weight</th></tr></thead>\n",
       "<tbody>\n",
       "\t<tr><th scope=row>Toyota Corolla</th><td>33.9    </td><td>1       </td><td> 71.1   </td><td> 65     </td><td>4.22    </td><td>1.835   </td><td>19.90   </td><td>1       </td><td>1       </td><td>4       </td><td>1       </td><td>32      </td><td>35.42234</td></tr>\n",
       "\t<tr><th scope=row>Fiat 128</th><td>32.4    </td><td>1       </td><td> 78.7   </td><td> 66     </td><td>4.08    </td><td>2.200   </td><td>19.47   </td><td>1       </td><td>1       </td><td>4       </td><td>1       </td><td>31      </td><td>30.00000</td></tr>\n",
       "\t<tr><th scope=row>Honda Civic</th><td>30.4    </td><td>1       </td><td> 75.7   </td><td> 52     </td><td>4.93    </td><td>1.615   </td><td>18.52   </td><td>1       </td><td>1       </td><td>4       </td><td>2       </td><td>29      </td><td>32.19814</td></tr>\n",
       "\t<tr><th scope=row>Lotus Europa</th><td>30.4    </td><td>1       </td><td> 95.1   </td><td>113     </td><td>3.77    </td><td>1.513   </td><td>16.90   </td><td>1       </td><td>1       </td><td>5       </td><td>2       </td><td>30      </td><td>74.68605</td></tr>\n",
       "\t<tr><th scope=row>Fiat X1-9</th><td>27.3    </td><td>1       </td><td> 79.0   </td><td> 66     </td><td>4.08    </td><td>1.935   </td><td>18.90   </td><td>1       </td><td>1       </td><td>4       </td><td>1       </td><td>28      </td><td>34.10853</td></tr>\n",
       "\t<tr><th scope=row>Porsche 914-2</th><td>26.0    </td><td>1       </td><td>120.3   </td><td> 91     </td><td>4.43    </td><td>2.140   </td><td>16.70   </td><td>0       </td><td>1       </td><td>5       </td><td>2       </td><td>27      </td><td>42.52336</td></tr>\n",
       "</tbody>\n",
       "</table>\n"
      ],
      "text/latex": [
       "\\begin{tabular}{r|lllllllllllll}\n",
       "  & mpg & cyl & disp & hp & drat & wt & qsec & vs & am & gear & carb & model & power2weight\\\\\n",
       "\\hline\n",
       "\tToyota Corolla & 33.9     & 1        &  71.1    &  65      & 4.22     & 1.835    & 19.90    & 1        & 1        & 4        & 1        & 32       & 35.42234\\\\\n",
       "\tFiat 128 & 32.4     & 1        &  78.7    &  66      & 4.08     & 2.200    & 19.47    & 1        & 1        & 4        & 1        & 31       & 30.00000\\\\\n",
       "\tHonda Civic & 30.4     & 1        &  75.7    &  52      & 4.93     & 1.615    & 18.52    & 1        & 1        & 4        & 2        & 29       & 32.19814\\\\\n",
       "\tLotus Europa & 30.4     & 1        &  95.1    & 113      & 3.77     & 1.513    & 16.90    & 1        & 1        & 5        & 2        & 30       & 74.68605\\\\\n",
       "\tFiat X1-9 & 27.3     & 1        &  79.0    &  66      & 4.08     & 1.935    & 18.90    & 1        & 1        & 4        & 1        & 28       & 34.10853\\\\\n",
       "\tPorsche 914-2 & 26.0     & 1        & 120.3    &  91      & 4.43     & 2.140    & 16.70    & 0        & 1        & 5        & 2        & 27       & 42.52336\\\\\n",
       "\\end{tabular}\n"
      ],
      "text/markdown": [
       "\n",
       "| <!--/--> | mpg | cyl | disp | hp | drat | wt | qsec | vs | am | gear | carb | model | power2weight | \n",
       "|---|---|---|---|---|---|\n",
       "| Toyota Corolla | 33.9     | 1        |  71.1    |  65      | 4.22     | 1.835    | 19.90    | 1        | 1        | 4        | 1        | 32       | 35.42234 | \n",
       "| Fiat 128 | 32.4     | 1        |  78.7    |  66      | 4.08     | 2.200    | 19.47    | 1        | 1        | 4        | 1        | 31       | 30.00000 | \n",
       "| Honda Civic | 30.4     | 1        |  75.7    |  52      | 4.93     | 1.615    | 18.52    | 1        | 1        | 4        | 2        | 29       | 32.19814 | \n",
       "| Lotus Europa | 30.4     | 1        |  95.1    | 113      | 3.77     | 1.513    | 16.90    | 1        | 1        | 5        | 2        | 30       | 74.68605 | \n",
       "| Fiat X1-9 | 27.3     | 1        |  79.0    |  66      | 4.08     | 1.935    | 18.90    | 1        | 1        | 4        | 1        | 28       | 34.10853 | \n",
       "| Porsche 914-2 | 26.0     | 1        | 120.3    |  91      | 4.43     | 2.140    | 16.70    | 0        | 1        | 5        | 2        | 27       | 42.52336 | \n",
       "\n",
       "\n"
      ],
      "text/plain": [
       "               mpg  cyl disp  hp  drat wt    qsec  vs am gear carb model\n",
       "Toyota Corolla 33.9 1    71.1  65 4.22 1.835 19.90 1  1  4    1    32   \n",
       "Fiat 128       32.4 1    78.7  66 4.08 2.200 19.47 1  1  4    1    31   \n",
       "Honda Civic    30.4 1    75.7  52 4.93 1.615 18.52 1  1  4    2    29   \n",
       "Lotus Europa   30.4 1    95.1 113 3.77 1.513 16.90 1  1  5    2    30   \n",
       "Fiat X1-9      27.3 1    79.0  66 4.08 1.935 18.90 1  1  4    1    28   \n",
       "Porsche 914-2  26.0 1   120.3  91 4.43 2.140 16.70 0  1  5    2    27   \n",
       "               power2weight\n",
       "Toyota Corolla 35.42234    \n",
       "Fiat 128       30.00000    \n",
       "Honda Civic    32.19814    \n",
       "Lotus Europa   74.68605    \n",
       "Fiat X1-9      34.10853    \n",
       "Porsche 914-2  42.52336    "
      ]
     },
     "metadata": {},
     "output_type": "display_data"
    }
   ],
   "source": [
    "# adding data to a matrix\n",
    "power2weight <- newcar_M[,\"hp\"]/ newcar_M[,\"wt\"]          # make new variable\n",
    "\n",
    "newcar_M2 <-cbind(newcar_M, power2weight)                 # cbind -> bind columns, dims must match\n",
    "head(newcar_M2)                                           # related: rbind -> bind rows"
   ]
  },
  {
   "cell_type": "code",
   "execution_count": 74,
   "metadata": {},
   "outputs": [
    {
     "data": {
      "image/png": "[encoded data removed]",
      "text/plain": [
       "plot without title"
      ]
     },
     "metadata": {},
     "output_type": "display_data"
    }
   ],
   "source": [
    "# plot the new variable vs. quarter mile time (qsec)\n",
    "options(repr.plot.width=3, repr.plot.height=3)                                  # sets plot size in Jupyter notebook \n",
    "plot(x=newcar_M2[,\"power2weight\"], y=newcar_M2[,\"qsec\"])"
   ]
  },
  {
   "cell_type": "code",
   "execution_count": 75,
   "metadata": {},
   "outputs": [
    {
     "data": {},
     "metadata": {},
     "output_type": "display_data"
    },
    {
     "data": {
      "image/png": "[encoded data removed]",
      "text/plain": [
       "plot without title"
      ]
     },
     "metadata": {},
     "output_type": "display_data"
    }
   ],
   "source": [
    "# ggplot doesn't like matrix, make data frame\n",
    "newcar_M3 <-data.frame(newcar_M2)                                              # make matrix into data frame\n",
    "\n",
    "plot <- ggplot(newcar_M3, aes(x= power2weight, y = qsec)) + geom_point()       # ggplot on data frame \n",
    "plot\n",
    "\n",
    "# plot + stat_smooth(method = \"lm\", formula = y ~ x + I(x^2))                  # add quadratic fit\n",
    "#ggplot(newcar_M2, aes(x= power2weight, y = qsec)) + geom_point()              # plot with matrix data doesn't work"
   ]
  },
  {
   "cell_type": "markdown",
   "metadata": {},
   "source": [
    "### c) Make a new matrix "
   ]
  },
  {
   "cell_type": "code",
   "execution_count": 76,
   "metadata": {},
   "outputs": [
    {
     "data": {
      "text/html": [
       "<table>\n",
       "<thead><tr><th></th><th scope=col>US</th><th scope=col>non-US</th></tr></thead>\n",
       "<tbody>\n",
       "\t<tr><th scope=row>A New Hope</th><td>460.998</td><td>314.4  </td></tr>\n",
       "\t<tr><th scope=row>The Empire Strikes Back</th><td>290.475</td><td>247.9  </td></tr>\n",
       "\t<tr><th scope=row>Return of the Jedi</th><td>309.306</td><td>165.8  </td></tr>\n",
       "</tbody>\n",
       "</table>\n"
      ],
      "text/latex": [
       "\\begin{tabular}{r|ll}\n",
       "  & US & non-US\\\\\n",
       "\\hline\n",
       "\tA New Hope & 460.998 & 314.4  \\\\\n",
       "\tThe Empire Strikes Back & 290.475 & 247.9  \\\\\n",
       "\tReturn of the Jedi & 309.306 & 165.8  \\\\\n",
       "\\end{tabular}\n"
      ],
      "text/markdown": [
       "\n",
       "| <!--/--> | US | non-US | \n",
       "|---|---|---|\n",
       "| A New Hope | 460.998 | 314.4   | \n",
       "| The Empire Strikes Back | 290.475 | 247.9   | \n",
       "| Return of the Jedi | 309.306 | 165.8   | \n",
       "\n",
       "\n"
      ],
      "text/plain": [
       "                        US      non-US\n",
       "A New Hope              460.998 314.4 \n",
       "The Empire Strikes Back 290.475 247.9 \n",
       "Return of the Jedi      309.306 165.8 "
      ]
     },
     "metadata": {},
     "output_type": "display_data"
    }
   ],
   "source": [
    "# make new matrix of StarWars ticket sales\n",
    "box_office <- c(460.998, 314.4, 290.475, 247.900, 309.306, 165.8)\n",
    "star_wars_matrix <- matrix(box_office, nrow = 3, byrow = TRUE,\n",
    "                           dimnames = list(c(\"A New Hope\", \"The Empire Strikes Back\", \"Return of the Jedi\"), \n",
    "                                           c(\"US\", \"non-US\")))\n",
    "star_wars_matrix"
   ]
  },
  {
   "cell_type": "code",
   "execution_count": 77,
   "metadata": {},
   "outputs": [
    {
     "data": {
      "text/html": [
       "<table>\n",
       "<thead><tr><th></th><th scope=col>US</th><th scope=col>non-US</th><th scope=col>worldwide</th></tr></thead>\n",
       "<tbody>\n",
       "\t<tr><th scope=row>A New Hope</th><td>460.998</td><td>314.4  </td><td>775.398</td></tr>\n",
       "\t<tr><th scope=row>The Empire Strikes Back</th><td>290.475</td><td>247.9  </td><td>538.375</td></tr>\n",
       "\t<tr><th scope=row>Return of the Jedi</th><td>309.306</td><td>165.8  </td><td>475.106</td></tr>\n",
       "</tbody>\n",
       "</table>\n"
      ],
      "text/latex": [
       "\\begin{tabular}{r|lll}\n",
       "  & US & non-US & worldwide\\\\\n",
       "\\hline\n",
       "\tA New Hope & 460.998 & 314.4   & 775.398\\\\\n",
       "\tThe Empire Strikes Back & 290.475 & 247.9   & 538.375\\\\\n",
       "\tReturn of the Jedi & 309.306 & 165.8   & 475.106\\\\\n",
       "\\end{tabular}\n"
      ],
      "text/markdown": [
       "\n",
       "| <!--/--> | US | non-US | worldwide | \n",
       "|---|---|---|\n",
       "| A New Hope | 460.998 | 314.4   | 775.398 | \n",
       "| The Empire Strikes Back | 290.475 | 247.9   | 538.375 | \n",
       "| Return of the Jedi | 309.306 | 165.8   | 475.106 | \n",
       "\n",
       "\n"
      ],
      "text/plain": [
       "                        US      non-US worldwide\n",
       "A New Hope              460.998 314.4  775.398  \n",
       "The Empire Strikes Back 290.475 247.9  538.375  \n",
       "Return of the Jedi      309.306 165.8  475.106  "
      ]
     },
     "metadata": {},
     "output_type": "display_data"
    }
   ],
   "source": [
    "# Worldwide box office figures\n",
    "worldwide <- rowSums(star_wars_matrix)                              # rowSums is counterpart to colSums  \n",
    "\n",
    "# Bind the new worldwide column to star_wars_matrix\n",
    "all_wars_matrix <- cbind(star_wars_matrix, worldwide)        # cbind is column bind, rbind for rows\n",
    "all_wars_matrix\n",
    "\n",
    "# previously we used data.frame to add data, now use cbind for matrix"
   ]
  },
  {
   "cell_type": "markdown",
   "metadata": {},
   "source": [
    "### d) Sweep a function across a matrix \n",
    "\n",
    "The sweep function allows you to quickly make summaries by %, using rowSums or colSums functions. See also a simple application to gene expresion data:   \n",
    "https://bioinfomagician.wordpress.com/2014/08/12/my-favorite-commands-part3-sweep-function-in-r/"
   ]
  },
  {
   "cell_type": "code",
   "execution_count": 78,
   "metadata": {},
   "outputs": [
    {
     "data": {
      "text/html": [
       "<table>\n",
       "<thead><tr><th></th><th scope=col>US</th><th scope=col>non-US</th></tr></thead>\n",
       "<tbody>\n",
       "\t<tr><th scope=row>A New Hope</th><td>59.45</td><td>40.55</td></tr>\n",
       "\t<tr><th scope=row>The Empire Strikes Back</th><td>53.95</td><td>46.05</td></tr>\n",
       "\t<tr><th scope=row>Return of the Jedi</th><td>65.10</td><td>34.90</td></tr>\n",
       "</tbody>\n",
       "</table>\n"
      ],
      "text/latex": [
       "\\begin{tabular}{r|ll}\n",
       "  & US & non-US\\\\\n",
       "\\hline\n",
       "\tA New Hope & 59.45 & 40.55\\\\\n",
       "\tThe Empire Strikes Back & 53.95 & 46.05\\\\\n",
       "\tReturn of the Jedi & 65.10 & 34.90\\\\\n",
       "\\end{tabular}\n"
      ],
      "text/markdown": [
       "\n",
       "| <!--/--> | US | non-US | \n",
       "|---|---|---|\n",
       "| A New Hope | 59.45 | 40.55 | \n",
       "| The Empire Strikes Back | 53.95 | 46.05 | \n",
       "| Return of the Jedi | 65.10 | 34.90 | \n",
       "\n",
       "\n"
      ],
      "text/plain": [
       "                        US    non-US\n",
       "A New Hope              59.45 40.55 \n",
       "The Empire Strikes Back 53.95 46.05 \n",
       "Return of the Jedi      65.10 34.90 "
      ]
     },
     "metadata": {},
     "output_type": "display_data"
    }
   ],
   "source": [
    "# Sweep % total data by market from star wars box office data\n",
    "percent_totals_by_market <-sweep(star_wars_matrix, 1, rowSums(star_wars_matrix)/100, \"/\")\n",
    "\n",
    "# sweep star wars: for each row (1), divide (\"/\") by row total (rowSums). Dividing rowSums by 100 yields % data. \n",
    "\n",
    "percent_totals_by_market <- round(percent_totals_by_market, 2)\n",
    "percent_totals_by_market"
   ]
  },
  {
   "cell_type": "markdown",
   "metadata": {},
   "source": [
    "### e) Getting data from vectors"
   ]
  },
  {
   "cell_type": "code",
   "execution_count": 79,
   "metadata": {},
   "outputs": [
    {
     "data": {
      "text/html": [
       "<dl class=dl-horizontal>\n",
       "\t<dt>Toyota Corolla</dt>\n",
       "\t\t<dd>33.9</dd>\n",
       "\t<dt>Fiat 128</dt>\n",
       "\t\t<dd>32.4</dd>\n",
       "\t<dt>Honda Civic</dt>\n",
       "\t\t<dd>30.4</dd>\n",
       "\t<dt>Lotus Europa</dt>\n",
       "\t\t<dd>30.4</dd>\n",
       "\t<dt>Fiat X1-9</dt>\n",
       "\t\t<dd>27.3</dd>\n",
       "\t<dt>Porsche 914-2</dt>\n",
       "\t\t<dd>26</dd>\n",
       "\t<dt>Merc 240D</dt>\n",
       "\t\t<dd>24.4</dd>\n",
       "\t<dt>Datsun 710</dt>\n",
       "\t\t<dd>22.8</dd>\n",
       "\t<dt>Merc 230</dt>\n",
       "\t\t<dd>22.8</dd>\n",
       "\t<dt>Toyota Corona</dt>\n",
       "\t\t<dd>21.5</dd>\n",
       "\t<dt>Hornet 4 Drive</dt>\n",
       "\t\t<dd>21.4</dd>\n",
       "\t<dt>Volvo 142E</dt>\n",
       "\t\t<dd>21.4</dd>\n",
       "\t<dt>Mazda RX4</dt>\n",
       "\t\t<dd>21</dd>\n",
       "\t<dt>Mazda RX4 Wag</dt>\n",
       "\t\t<dd>21</dd>\n",
       "</dl>\n"
      ],
      "text/latex": [
       "\\begin{description*}\n",
       "\\item[Toyota Corolla] 33.9\n",
       "\\item[Fiat 128] 32.4\n",
       "\\item[Honda Civic] 30.4\n",
       "\\item[Lotus Europa] 30.4\n",
       "\\item[Fiat X1-9] 27.3\n",
       "\\item[Porsche 914-2] 26\n",
       "\\item[Merc 240D] 24.4\n",
       "\\item[Datsun 710] 22.8\n",
       "\\item[Merc 230] 22.8\n",
       "\\item[Toyota Corona] 21.5\n",
       "\\item[Hornet 4 Drive] 21.4\n",
       "\\item[Volvo 142E] 21.4\n",
       "\\item[Mazda RX4] 21\n",
       "\\item[Mazda RX4 Wag] 21\n",
       "\\end{description*}\n"
      ],
      "text/markdown": [
       "Toyota Corolla\n",
       ":   33.9Fiat 128\n",
       ":   32.4Honda Civic\n",
       ":   30.4Lotus Europa\n",
       ":   30.4Fiat X1-9\n",
       ":   27.3Porsche 914-2\n",
       ":   26Merc 240D\n",
       ":   24.4Datsun 710\n",
       ":   22.8Merc 230\n",
       ":   22.8Toyota Corona\n",
       ":   21.5Hornet 4 Drive\n",
       ":   21.4Volvo 142E\n",
       ":   21.4Mazda RX4\n",
       ":   21Mazda RX4 Wag\n",
       ":   21\n",
       "\n"
      ],
      "text/plain": [
       "Toyota Corolla       Fiat 128    Honda Civic   Lotus Europa      Fiat X1-9 \n",
       "          33.9           32.4           30.4           30.4           27.3 \n",
       " Porsche 914-2      Merc 240D     Datsun 710       Merc 230  Toyota Corona \n",
       "          26.0           24.4           22.8           22.8           21.5 \n",
       "Hornet 4 Drive     Volvo 142E      Mazda RX4  Mazda RX4 Wag \n",
       "          21.4           21.4           21.0           21.0 "
      ]
     },
     "metadata": {},
     "output_type": "display_data"
    },
    {
     "data": {
      "text/html": [
       "<strong>Fiat 128:</strong> 32.4"
      ],
      "text/latex": [
       "\\textbf{Fiat 128:} 32.4"
      ],
      "text/markdown": [
       "**Fiat 128:** 32.4"
      ],
      "text/plain": [
       "Fiat 128 \n",
       "    32.4 "
      ]
     },
     "metadata": {},
     "output_type": "display_data"
    },
    {
     "data": {
      "text/html": [
       "<strong>Toyota Corolla:</strong> 33.9"
      ],
      "text/latex": [
       "\\textbf{Toyota Corolla:} 33.9"
      ],
      "text/markdown": [
       "**Toyota Corolla:** 33.9"
      ],
      "text/plain": [
       "Toyota Corolla \n",
       "          33.9 "
      ]
     },
     "metadata": {},
     "output_type": "display_data"
    },
    {
     "data": {
      "text/html": [
       "<ol class=list-inline>\n",
       "\t<li>'Toyota Corolla'</li>\n",
       "\t<li>'Fiat 128'</li>\n",
       "\t<li>'Honda Civic'</li>\n",
       "\t<li>'Lotus Europa'</li>\n",
       "\t<li>'Fiat X1-9'</li>\n",
       "\t<li>'Porsche 914-2'</li>\n",
       "\t<li>'Merc 240D'</li>\n",
       "\t<li>'Datsun 710'</li>\n",
       "\t<li>'Merc 230'</li>\n",
       "\t<li>'Toyota Corona'</li>\n",
       "\t<li>'Hornet 4 Drive'</li>\n",
       "\t<li>'Volvo 142E'</li>\n",
       "\t<li>'Mazda RX4'</li>\n",
       "\t<li>'Mazda RX4 Wag'</li>\n",
       "</ol>\n"
      ],
      "text/latex": [
       "\\begin{enumerate*}\n",
       "\\item 'Toyota Corolla'\n",
       "\\item 'Fiat 128'\n",
       "\\item 'Honda Civic'\n",
       "\\item 'Lotus Europa'\n",
       "\\item 'Fiat X1-9'\n",
       "\\item 'Porsche 914-2'\n",
       "\\item 'Merc 240D'\n",
       "\\item 'Datsun 710'\n",
       "\\item 'Merc 230'\n",
       "\\item 'Toyota Corona'\n",
       "\\item 'Hornet 4 Drive'\n",
       "\\item 'Volvo 142E'\n",
       "\\item 'Mazda RX4'\n",
       "\\item 'Mazda RX4 Wag'\n",
       "\\end{enumerate*}\n"
      ],
      "text/markdown": [
       "1. 'Toyota Corolla'\n",
       "2. 'Fiat 128'\n",
       "3. 'Honda Civic'\n",
       "4. 'Lotus Europa'\n",
       "5. 'Fiat X1-9'\n",
       "6. 'Porsche 914-2'\n",
       "7. 'Merc 240D'\n",
       "8. 'Datsun 710'\n",
       "9. 'Merc 230'\n",
       "10. 'Toyota Corona'\n",
       "11. 'Hornet 4 Drive'\n",
       "12. 'Volvo 142E'\n",
       "13. 'Mazda RX4'\n",
       "14. 'Mazda RX4 Wag'\n",
       "\n",
       "\n"
      ],
      "text/plain": [
       " [1] \"Toyota Corolla\" \"Fiat 128\"       \"Honda Civic\"    \"Lotus Europa\"  \n",
       " [5] \"Fiat X1-9\"      \"Porsche 914-2\"  \"Merc 240D\"      \"Datsun 710\"    \n",
       " [9] \"Merc 230\"       \"Toyota Corona\"  \"Hornet 4 Drive\" \"Volvo 142E\"    \n",
       "[13] \"Mazda RX4\"      \"Mazda RX4 Wag\" "
      ]
     },
     "metadata": {},
     "output_type": "display_data"
    }
   ],
   "source": [
    "# Slicing vector data \n",
    "mpg_vect <-newcar_M2[,'mpg']                                 # get vector from matrix column, differs from DF\n",
    "econo <- mpg_vect[mpg_vect > 20]                             #  get subset from vector, similar to DF (no \",\")\n",
    "econo\n",
    "\n",
    "# Get vector item by index name, number\n",
    "econo[\"Fiat 128\"]                                            # by index name\n",
    "econo[1]                                                     # by index number \n",
    "names(econo)                                                 # equivalent to row.names, colnames\n",
    "                                                             # can be assigned similarly: names(x) <- c(\"nam1\", \"nam2\")"
   ]
  },
  {
   "cell_type": "markdown",
   "metadata": {},
   "source": [
    "### f) Getting data from lists"
   ]
  },
  {
   "cell_type": "code",
   "execution_count": 80,
   "metadata": {},
   "outputs": [
    {
     "data": {
      "text/html": [
       "<dl>\n",
       "\t<dt>$`Toyota Corolla`</dt>\n",
       "\t\t<dd>33.9</dd>\n",
       "\t<dt>$`Fiat 128`</dt>\n",
       "\t\t<dd>32.4</dd>\n",
       "\t<dt>$`Honda Civic`</dt>\n",
       "\t\t<dd>30.4</dd>\n",
       "</dl>\n"
      ],
      "text/latex": [
       "\\begin{description}\n",
       "\\item[\\$`Toyota Corolla`] 33.9\n",
       "\\item[\\$`Fiat 128`] 32.4\n",
       "\\item[\\$`Honda Civic`] 30.4\n",
       "\\end{description}\n"
      ],
      "text/markdown": [
       "$`Toyota Corolla`\n",
       ":   33.9\n",
       "$`Fiat 128`\n",
       ":   32.4\n",
       "$`Honda Civic`\n",
       ":   30.4\n",
       "\n",
       "\n"
      ],
      "text/plain": [
       "$`Toyota Corolla`\n",
       "[1] 33.9\n",
       "\n",
       "$`Fiat 128`\n",
       "[1] 32.4\n",
       "\n",
       "$`Honda Civic`\n",
       "[1] 30.4\n"
      ]
     },
     "metadata": {},
     "output_type": "display_data"
    }
   ],
   "source": [
    "# Make a list \n",
    "econo_l <-as.list(econo)                # make list\n",
    "#head(econo_l)                          # head list\n",
    "econo_l[1:3]                            # chunk of list "
   ]
  },
  {
   "cell_type": "code",
   "execution_count": 81,
   "metadata": {},
   "outputs": [
    {
     "data": {
      "text/html": [
       "14"
      ],
      "text/latex": [
       "14"
      ],
      "text/markdown": [
       "14"
      ],
      "text/plain": [
       "[1] 14"
      ]
     },
     "metadata": {},
     "output_type": "display_data"
    },
    {
     "data": {
      "text/plain": [
       "NULL"
      ]
     },
     "metadata": {},
     "output_type": "display_data"
    }
   ],
   "source": [
    "# Get list info\n",
    "length(econo_l)                                           # how long is list?\n",
    "dim(econo_l)                                              # dim doesn't work on 1-d objects (lists, vectors)"
   ]
  },
  {
   "cell_type": "code",
   "execution_count": 82,
   "metadata": {},
   "outputs": [
    {
     "data": {
      "text/html": [
       "33.9"
      ],
      "text/latex": [
       "33.9"
      ],
      "text/markdown": [
       "33.9"
      ],
      "text/plain": [
       "[1] 33.9"
      ]
     },
     "metadata": {},
     "output_type": "display_data"
    },
    {
     "data": {
      "text/html": [
       "<strong>$`Mazda RX4`</strong> = 21"
      ],
      "text/latex": [
       "\\textbf{\\$`Mazda RX4`} = 21"
      ],
      "text/markdown": [
       "**$`Mazda RX4`** = 21"
      ],
      "text/plain": [
       "$`Mazda RX4`\n",
       "[1] 21\n"
      ]
     },
     "metadata": {},
     "output_type": "display_data"
    },
    {
     "data": {
      "text/html": [
       "<ol class=list-inline>\n",
       "\t<li>'Toyota Corolla'</li>\n",
       "\t<li>'Fiat 128'</li>\n",
       "\t<li>'Honda Civic'</li>\n",
       "\t<li>'Lotus Europa'</li>\n",
       "\t<li>'Fiat X1-9'</li>\n",
       "\t<li>'Porsche 914-2'</li>\n",
       "\t<li>'Merc 240D'</li>\n",
       "\t<li>'Datsun 710'</li>\n",
       "\t<li>'Merc 230'</li>\n",
       "\t<li>'Toyota Corona'</li>\n",
       "\t<li>'Hornet 4 Drive'</li>\n",
       "\t<li>'Volvo 142E'</li>\n",
       "\t<li>'Mazda RX4'</li>\n",
       "\t<li>'Mazda RX4 Wag'</li>\n",
       "</ol>\n"
      ],
      "text/latex": [
       "\\begin{enumerate*}\n",
       "\\item 'Toyota Corolla'\n",
       "\\item 'Fiat 128'\n",
       "\\item 'Honda Civic'\n",
       "\\item 'Lotus Europa'\n",
       "\\item 'Fiat X1-9'\n",
       "\\item 'Porsche 914-2'\n",
       "\\item 'Merc 240D'\n",
       "\\item 'Datsun 710'\n",
       "\\item 'Merc 230'\n",
       "\\item 'Toyota Corona'\n",
       "\\item 'Hornet 4 Drive'\n",
       "\\item 'Volvo 142E'\n",
       "\\item 'Mazda RX4'\n",
       "\\item 'Mazda RX4 Wag'\n",
       "\\end{enumerate*}\n"
      ],
      "text/markdown": [
       "1. 'Toyota Corolla'\n",
       "2. 'Fiat 128'\n",
       "3. 'Honda Civic'\n",
       "4. 'Lotus Europa'\n",
       "5. 'Fiat X1-9'\n",
       "6. 'Porsche 914-2'\n",
       "7. 'Merc 240D'\n",
       "8. 'Datsun 710'\n",
       "9. 'Merc 230'\n",
       "10. 'Toyota Corona'\n",
       "11. 'Hornet 4 Drive'\n",
       "12. 'Volvo 142E'\n",
       "13. 'Mazda RX4'\n",
       "14. 'Mazda RX4 Wag'\n",
       "\n",
       "\n"
      ],
      "text/plain": [
       " [1] \"Toyota Corolla\" \"Fiat 128\"       \"Honda Civic\"    \"Lotus Europa\"  \n",
       " [5] \"Fiat X1-9\"      \"Porsche 914-2\"  \"Merc 240D\"      \"Datsun 710\"    \n",
       " [9] \"Merc 230\"       \"Toyota Corona\"  \"Hornet 4 Drive\" \"Volvo 142E\"    \n",
       "[13] \"Mazda RX4\"      \"Mazda RX4 Wag\" "
      ]
     },
     "metadata": {},
     "output_type": "display_data"
    }
   ],
   "source": [
    "# several ways to get data from list:\n",
    "econo_l[[1]]                                              # by position in list, unlike other data structures\n",
    "econo_l[\"Mazda RX4\"]                                      # by name\n",
    "names(econo_l)                                            # get names of list\n",
    "# names(econo_l) <-c(\"MPG\", \"cyl\"....)                    # assign names to list (length must match)"
   ]
  },
  {
   "cell_type": "code",
   "execution_count": null,
   "metadata": {
    "collapsed": true
   },
   "outputs": [],
   "source": []
  },
  {
   "cell_type": "markdown",
   "metadata": {},
   "source": [
    "## 7) Basic programming in R\n",
    "\n",
    "Here we look at some basic programming techniques in R -- for loops, defining functions, and the apply family of functions. These tools can help to automate your workflows and reduce the amount of code you write.  If you are copying and pasting blocks of code, learn these tecnhiques and automate those coding tasks!\n",
    "\n",
    "For loops are the most elemental examples of programming, but are slow and basic.  We can accomplish the same thing by making a function and applying it over our data.  Simple examples are shown for writing functions, and using the apply family of functions to apply these functions to dataframes, matrices, vectors and lists.\n",
    "\n",
    "The apply family of functions are explained in this tutorial: http://uc-r.github.io/apply_family\n",
    "For deeper instruction on programming check out http://adv-r.had.co.nz/Functional-programming.html"
   ]
  },
  {
   "cell_type": "markdown",
   "metadata": {},
   "source": [
    "### a) For loops\n",
    "\n",
    "For loops are the beginning of making simple iterative functions.  \n",
    "\n",
    "However, for loops are generally frowned upon as their results are compiled at each step, slowing down the process.  Later we will show preferred alternatives using the apply family of functions"
   ]
  },
  {
   "cell_type": "code",
   "execution_count": 83,
   "metadata": {},
   "outputs": [
    {
     "name": "stdout",
     "output_type": "stream",
     "text": [
      "[1] \"red\"\n",
      "[1] \"orange\"\n",
      "[1] \"yellow\"\n",
      "[1] \"green\"\n",
      "[1] \"blue\"\n",
      "[1] \"purple\"\n"
     ]
    }
   ],
   "source": [
    "# Make a vector \n",
    "froot_loops <- c(\"red\", \"orange\", \"yellow\", \"green\", \"blue\", \"purple\")\n",
    "\n",
    "# make a for loop\n",
    "for(i in froot_loops){                         # structure: for(x in data){evaluate something}\n",
    "    print(i)\n",
    "    }"
   ]
  },
  {
   "cell_type": "code",
   "execution_count": 84,
   "metadata": {
    "collapsed": true
   },
   "outputs": [],
   "source": [
    "# Generate numbers using built in seq function \n",
    "ten_nums <- seq(1:10)                                         # Sequence of numbers (1:10)\n",
    "ten_evens<- seq(1,20, by=2)                                   # Seq, skipping odds"
   ]
  },
  {
   "cell_type": "code",
   "execution_count": 85,
   "metadata": {},
   "outputs": [
    {
     "name": "stdout",
     "output_type": "stream",
     "text": [
      "[1] 1\n",
      "[1] 3\n",
      "[1] 5\n",
      "[1] 7\n",
      "[1] 9\n",
      "[1] 11\n",
      "[1] 13\n",
      "[1] 15\n",
      "[1] 17\n",
      "[1] 19\n"
     ]
    }
   ],
   "source": [
    "# for loop using numbers\n",
    "for(x in ten_evens){\n",
    "    print(x)\n",
    "}"
   ]
  },
  {
   "cell_type": "markdown",
   "metadata": {},
   "source": [
    "### b) Defining functions"
   ]
  },
  {
   "cell_type": "code",
   "execution_count": 86,
   "metadata": {
    "collapsed": true
   },
   "outputs": [],
   "source": [
    "# make a simple function\n",
    "squared = function(x){                                         # function of x\n",
    "    x2 <- x*x\n",
    "    return(x2)\n",
    "}"
   ]
  },
  {
   "cell_type": "code",
   "execution_count": 87,
   "metadata": {},
   "outputs": [
    {
     "data": {
      "text/html": [
       "100"
      ],
      "text/latex": [
       "100"
      ],
      "text/markdown": [
       "100"
      ],
      "text/plain": [
       "[1] 100"
      ]
     },
     "metadata": {},
     "output_type": "display_data"
    }
   ],
   "source": [
    "# test function\n",
    "squared(10)"
   ]
  },
  {
   "cell_type": "code",
   "execution_count": 88,
   "metadata": {},
   "outputs": [
    {
     "name": "stdout",
     "output_type": "stream",
     "text": [
      "[1] 1\n",
      "[1] 4\n",
      "[1] 9\n",
      "[1] 16\n",
      "[1] 25\n",
      "[1] 36\n",
      "[1] 49\n",
      "[1] 64\n",
      "[1] 81\n",
      "[1] 100\n"
     ]
    }
   ],
   "source": [
    "# could use for loop to print using own function\n",
    "for(x in ten_nums){\n",
    "    print(squared(x))\n",
    "}"
   ]
  },
  {
   "cell_type": "code",
   "execution_count": 89,
   "metadata": {},
   "outputs": [
    {
     "data": {
      "text/html": [
       "<ol class=list-inline>\n",
       "\t<li>1</li>\n",
       "\t<li>4</li>\n",
       "\t<li>9</li>\n",
       "\t<li>16</li>\n",
       "\t<li>25</li>\n",
       "\t<li>36</li>\n",
       "\t<li>49</li>\n",
       "\t<li>64</li>\n",
       "\t<li>81</li>\n",
       "\t<li>100</li>\n",
       "</ol>\n"
      ],
      "text/latex": [
       "\\begin{enumerate*}\n",
       "\\item 1\n",
       "\\item 4\n",
       "\\item 9\n",
       "\\item 16\n",
       "\\item 25\n",
       "\\item 36\n",
       "\\item 49\n",
       "\\item 64\n",
       "\\item 81\n",
       "\\item 100\n",
       "\\end{enumerate*}\n"
      ],
      "text/markdown": [
       "1. 1\n",
       "2. 4\n",
       "3. 9\n",
       "4. 16\n",
       "5. 25\n",
       "6. 36\n",
       "7. 49\n",
       "8. 64\n",
       "9. 81\n",
       "10. 100\n",
       "\n",
       "\n"
      ],
      "text/plain": [
       " [1]   1   4   9  16  25  36  49  64  81 100"
      ]
     },
     "metadata": {},
     "output_type": "display_data"
    }
   ],
   "source": [
    "# Make this into a vector, then a DF using for loop.         \n",
    "ten_nums_sq <- numeric(length = length(ten_nums))            # make an empty numeric vector (to hold numbers)\n",
    "\n",
    "for(x in seq_along(ten_nums)) {                              # seq_along iterates of numbers\n",
    "   ten_nums_sq[x] <-squared(x)                               # at each iteration, yield squared(x)\n",
    "}\n",
    "ten_nums_sq                                                  # return \"filled\" numeric vector"
   ]
  },
  {
   "cell_type": "code",
   "execution_count": 90,
   "metadata": {
    "collapsed": true
   },
   "outputs": [],
   "source": [
    "# That is ugly and inefficient code!"
   ]
  },
  {
   "cell_type": "code",
   "execution_count": 91,
   "metadata": {},
   "outputs": [
    {
     "data": {
      "text/html": [
       "<ol class=list-inline>\n",
       "\t<li>1</li>\n",
       "\t<li>4</li>\n",
       "\t<li>9</li>\n",
       "\t<li>16</li>\n",
       "\t<li>25</li>\n",
       "\t<li>36</li>\n",
       "\t<li>49</li>\n",
       "\t<li>64</li>\n",
       "\t<li>81</li>\n",
       "\t<li>100</li>\n",
       "</ol>\n"
      ],
      "text/latex": [
       "\\begin{enumerate*}\n",
       "\\item 1\n",
       "\\item 4\n",
       "\\item 9\n",
       "\\item 16\n",
       "\\item 25\n",
       "\\item 36\n",
       "\\item 49\n",
       "\\item 64\n",
       "\\item 81\n",
       "\\item 100\n",
       "\\end{enumerate*}\n"
      ],
      "text/markdown": [
       "1. 1\n",
       "2. 4\n",
       "3. 9\n",
       "4. 16\n",
       "5. 25\n",
       "6. 36\n",
       "7. 49\n",
       "8. 64\n",
       "9. 81\n",
       "10. 100\n",
       "\n",
       "\n"
      ],
      "text/plain": [
       " [1]   1   4   9  16  25  36  49  64  81 100"
      ]
     },
     "metadata": {},
     "output_type": "display_data"
    }
   ],
   "source": [
    "# instead, just use function on vector\n",
    "squared(ten_nums)"
   ]
  },
  {
   "cell_type": "code",
   "execution_count": 92,
   "metadata": {},
   "outputs": [
    {
     "data": {
      "text/html": [
       "<table>\n",
       "<thead><tr><th scope=col>num</th><th scope=col>num_sq</th></tr></thead>\n",
       "<tbody>\n",
       "\t<tr><td> 1 </td><td>  1</td></tr>\n",
       "\t<tr><td> 2 </td><td>  4</td></tr>\n",
       "\t<tr><td> 3 </td><td>  9</td></tr>\n",
       "\t<tr><td> 4 </td><td> 16</td></tr>\n",
       "\t<tr><td> 5 </td><td> 25</td></tr>\n",
       "\t<tr><td> 6 </td><td> 36</td></tr>\n",
       "\t<tr><td> 7 </td><td> 49</td></tr>\n",
       "\t<tr><td> 8 </td><td> 64</td></tr>\n",
       "\t<tr><td> 9 </td><td> 81</td></tr>\n",
       "\t<tr><td>10 </td><td>100</td></tr>\n",
       "</tbody>\n",
       "</table>\n"
      ],
      "text/latex": [
       "\\begin{tabular}{r|ll}\n",
       " num & num\\_sq\\\\\n",
       "\\hline\n",
       "\t  1  &   1\\\\\n",
       "\t  2  &   4\\\\\n",
       "\t  3  &   9\\\\\n",
       "\t  4  &  16\\\\\n",
       "\t  5  &  25\\\\\n",
       "\t  6  &  36\\\\\n",
       "\t  7  &  49\\\\\n",
       "\t  8  &  64\\\\\n",
       "\t  9  &  81\\\\\n",
       "\t 10  & 100\\\\\n",
       "\\end{tabular}\n"
      ],
      "text/markdown": [
       "\n",
       "num | num_sq | \n",
       "|---|---|---|---|---|---|---|---|---|---|\n",
       "|  1  |   1 | \n",
       "|  2  |   4 | \n",
       "|  3  |   9 | \n",
       "|  4  |  16 | \n",
       "|  5  |  25 | \n",
       "|  6  |  36 | \n",
       "|  7  |  49 | \n",
       "|  8  |  64 | \n",
       "|  9  |  81 | \n",
       "| 10  | 100 | \n",
       "\n",
       "\n"
      ],
      "text/plain": [
       "   num num_sq\n",
       "1   1    1   \n",
       "2   2    4   \n",
       "3   3    9   \n",
       "4   4   16   \n",
       "5   5   25   \n",
       "6   6   36   \n",
       "7   7   49   \n",
       "8   8   64   \n",
       "9   9   81   \n",
       "10 10  100   "
      ]
     },
     "metadata": {},
     "output_type": "display_data"
    }
   ],
   "source": [
    "# use this to define a new variable\n",
    "squared_nums <-data.frame(num = ten_nums)\n",
    "squared_nums$num_sq <- squared(ten_nums)\n",
    "squared_nums"
   ]
  },
  {
   "cell_type": "markdown",
   "metadata": {},
   "source": [
    "### c) Apply family of functions\n",
    "\n",
    "The apply family of functions help to apply a function over matrices, vectors, and lists.  \n",
    "This is much more graceful than using for loops.  Again, check out this nice tutorial from the UC Business Analytics R Programming guide: http://uc-r.github.io/apply_family\n",
    "\n",
    "##### Apply family of functions:\n",
    "    - apply: vector or matrix, specify dimension (margin)\n",
    "    - lapply: returns a list\n",
    "    - sapply: simplifies output (with varying success)\n",
    "    - mapply: apply function to matrix\n",
    "    - tapply: apply by group"
   ]
  },
  {
   "cell_type": "code",
   "execution_count": 93,
   "metadata": {},
   "outputs": [
    {
     "data": {
      "text/html": [
       "<dl class=dl-horizontal>\n",
       "\t<dt>mpg</dt>\n",
       "\t\t<dd>20.090625</dd>\n",
       "\t<dt>cyl</dt>\n",
       "\t\t<dd>6.1875</dd>\n",
       "\t<dt>disp</dt>\n",
       "\t\t<dd>230.721875</dd>\n",
       "\t<dt>hp</dt>\n",
       "\t\t<dd>146.6875</dd>\n",
       "\t<dt>drat</dt>\n",
       "\t\t<dd>3.5965625</dd>\n",
       "\t<dt>wt</dt>\n",
       "\t\t<dd>3.21725</dd>\n",
       "\t<dt>qsec</dt>\n",
       "\t\t<dd>17.84875</dd>\n",
       "\t<dt>vs</dt>\n",
       "\t\t<dd>0.4375</dd>\n",
       "\t<dt>am</dt>\n",
       "\t\t<dd>0.40625</dd>\n",
       "\t<dt>gear</dt>\n",
       "\t\t<dd>3.6875</dd>\n",
       "\t<dt>carb</dt>\n",
       "\t\t<dd>2.8125</dd>\n",
       "</dl>\n"
      ],
      "text/latex": [
       "\\begin{description*}\n",
       "\\item[mpg] 20.090625\n",
       "\\item[cyl] 6.1875\n",
       "\\item[disp] 230.721875\n",
       "\\item[hp] 146.6875\n",
       "\\item[drat] 3.5965625\n",
       "\\item[wt] 3.21725\n",
       "\\item[qsec] 17.84875\n",
       "\\item[vs] 0.4375\n",
       "\\item[am] 0.40625\n",
       "\\item[gear] 3.6875\n",
       "\\item[carb] 2.8125\n",
       "\\end{description*}\n"
      ],
      "text/markdown": [
       "mpg\n",
       ":   20.090625cyl\n",
       ":   6.1875disp\n",
       ":   230.721875hp\n",
       ":   146.6875drat\n",
       ":   3.5965625wt\n",
       ":   3.21725qsec\n",
       ":   17.84875vs\n",
       ":   0.4375am\n",
       ":   0.40625gear\n",
       ":   3.6875carb\n",
       ":   2.8125\n",
       "\n"
      ],
      "text/plain": [
       "       mpg        cyl       disp         hp       drat         wt       qsec \n",
       " 20.090625   6.187500 230.721875 146.687500   3.596563   3.217250  17.848750 \n",
       "        vs         am       gear       carb \n",
       "  0.437500   0.406250   3.687500   2.812500 "
      ]
     },
     "metadata": {},
     "output_type": "display_data"
    }
   ],
   "source": [
    "# remember our cars data set?  we summarized the data like this\n",
    "colMeans(mtcars)"
   ]
  },
  {
   "cell_type": "code",
   "execution_count": 94,
   "metadata": {},
   "outputs": [
    {
     "data": {
      "text/html": [
       "<dl class=dl-horizontal>\n",
       "\t<dt>mpg</dt>\n",
       "\t\t<dd>20.090625</dd>\n",
       "\t<dt>cyl</dt>\n",
       "\t\t<dd>6.1875</dd>\n",
       "\t<dt>disp</dt>\n",
       "\t\t<dd>230.721875</dd>\n",
       "\t<dt>hp</dt>\n",
       "\t\t<dd>146.6875</dd>\n",
       "\t<dt>drat</dt>\n",
       "\t\t<dd>3.5965625</dd>\n",
       "\t<dt>wt</dt>\n",
       "\t\t<dd>3.21725</dd>\n",
       "\t<dt>qsec</dt>\n",
       "\t\t<dd>17.84875</dd>\n",
       "\t<dt>vs</dt>\n",
       "\t\t<dd>0.4375</dd>\n",
       "\t<dt>am</dt>\n",
       "\t\t<dd>0.40625</dd>\n",
       "\t<dt>gear</dt>\n",
       "\t\t<dd>3.6875</dd>\n",
       "\t<dt>carb</dt>\n",
       "\t\t<dd>2.8125</dd>\n",
       "</dl>\n"
      ],
      "text/latex": [
       "\\begin{description*}\n",
       "\\item[mpg] 20.090625\n",
       "\\item[cyl] 6.1875\n",
       "\\item[disp] 230.721875\n",
       "\\item[hp] 146.6875\n",
       "\\item[drat] 3.5965625\n",
       "\\item[wt] 3.21725\n",
       "\\item[qsec] 17.84875\n",
       "\\item[vs] 0.4375\n",
       "\\item[am] 0.40625\n",
       "\\item[gear] 3.6875\n",
       "\\item[carb] 2.8125\n",
       "\\end{description*}\n"
      ],
      "text/markdown": [
       "mpg\n",
       ":   20.090625cyl\n",
       ":   6.1875disp\n",
       ":   230.721875hp\n",
       ":   146.6875drat\n",
       ":   3.5965625wt\n",
       ":   3.21725qsec\n",
       ":   17.84875vs\n",
       ":   0.4375am\n",
       ":   0.40625gear\n",
       ":   3.6875carb\n",
       ":   2.8125\n",
       "\n"
      ],
      "text/plain": [
       "       mpg        cyl       disp         hp       drat         wt       qsec \n",
       " 20.090625   6.187500 230.721875 146.687500   3.596563   3.217250  17.848750 \n",
       "        vs         am       gear       carb \n",
       "  0.437500   0.406250   3.687500   2.812500 "
      ]
     },
     "metadata": {},
     "output_type": "display_data"
    }
   ],
   "source": [
    "# The above is just a convenience function for apply, used on means, across columns \n",
    "apply(mtcars, 2, mean)                                           # here 2 is to apply across columns (2nd dim)\n",
    "#apply(mtcars, 1, mean)                                          # 1 is applied across rows, same as rowSums()"
   ]
  },
  {
   "cell_type": "code",
   "execution_count": 95,
   "metadata": {
    "collapsed": true
   },
   "outputs": [],
   "source": [
    "# note we can't apply mean to newcars, which has non-numeric data\n",
    "# head(newcar)\n",
    "# apply(newcar, 2, mean)                                               # doesn't work"
   ]
  },
  {
   "cell_type": "code",
   "execution_count": 96,
   "metadata": {},
   "outputs": [
    {
     "data": {
      "image/png": "[encoded data removed]",
      "text/plain": [
       "plot without title"
      ]
     },
     "metadata": {},
     "output_type": "display_data"
    },
    {
     "data": {
      "image/png": "[encoded data removed]",
      "text/plain": [
       "plot without title"
      ]
     },
     "metadata": {},
     "output_type": "display_data"
    },
    {
     "data": {
      "text/html": [
       "<dl>\n",
       "\t<dt>$mpg</dt>\n",
       "\t\t<dd><dl>\n",
       "\t<dt>$stats</dt>\n",
       "\t\t<dd><table>\n",
       "<tbody>\n",
       "\t<tr><td>10.40</td></tr>\n",
       "\t<tr><td>15.35</td></tr>\n",
       "\t<tr><td>19.20</td></tr>\n",
       "\t<tr><td>22.80</td></tr>\n",
       "\t<tr><td>33.90</td></tr>\n",
       "</tbody>\n",
       "</table>\n",
       "</dd>\n",
       "\t<dt>$n</dt>\n",
       "\t\t<dd>32</dd>\n",
       "\t<dt>$conf</dt>\n",
       "\t\t<dd><table>\n",
       "<tbody>\n",
       "\t<tr><td>17.11916</td></tr>\n",
       "\t<tr><td>21.28084</td></tr>\n",
       "</tbody>\n",
       "</table>\n",
       "</dd>\n",
       "\t<dt>$out</dt>\n",
       "\t\t<dd></dd>\n",
       "\t<dt>$group</dt>\n",
       "\t\t<dd></dd>\n",
       "\t<dt>$names</dt>\n",
       "\t\t<dd>'1'</dd>\n",
       "</dl>\n",
       "</dd>\n",
       "\t<dt>$cyl</dt>\n",
       "\t\t<dd><dl>\n",
       "\t<dt>$stats</dt>\n",
       "\t\t<dd><table>\n",
       "<tbody>\n",
       "\t<tr><td>4</td></tr>\n",
       "\t<tr><td>4</td></tr>\n",
       "\t<tr><td>6</td></tr>\n",
       "\t<tr><td>8</td></tr>\n",
       "\t<tr><td>8</td></tr>\n",
       "</tbody>\n",
       "</table>\n",
       "</dd>\n",
       "\t<dt>$n</dt>\n",
       "\t\t<dd>32</dd>\n",
       "\t<dt>$conf</dt>\n",
       "\t\t<dd><table>\n",
       "<tbody>\n",
       "\t<tr><td>4.882771</td></tr>\n",
       "\t<tr><td>7.117229</td></tr>\n",
       "</tbody>\n",
       "</table>\n",
       "</dd>\n",
       "\t<dt>$out</dt>\n",
       "\t\t<dd></dd>\n",
       "\t<dt>$group</dt>\n",
       "\t\t<dd></dd>\n",
       "\t<dt>$names</dt>\n",
       "\t\t<dd>'1'</dd>\n",
       "</dl>\n",
       "</dd>\n",
       "\t<dt>$disp</dt>\n",
       "\t\t<dd><dl>\n",
       "\t<dt>$stats</dt>\n",
       "\t\t<dd><table>\n",
       "<tbody>\n",
       "\t<tr><td> 71.10</td></tr>\n",
       "\t<tr><td>120.65</td></tr>\n",
       "\t<tr><td>196.30</td></tr>\n",
       "\t<tr><td>334.00</td></tr>\n",
       "\t<tr><td>472.00</td></tr>\n",
       "</tbody>\n",
       "</table>\n",
       "</dd>\n",
       "\t<dt>$n</dt>\n",
       "\t\t<dd>32</dd>\n",
       "\t<dt>$conf</dt>\n",
       "\t\t<dd><table>\n",
       "<tbody>\n",
       "\t<tr><td>136.7098</td></tr>\n",
       "\t<tr><td>255.8902</td></tr>\n",
       "</tbody>\n",
       "</table>\n",
       "</dd>\n",
       "\t<dt>$out</dt>\n",
       "\t\t<dd></dd>\n",
       "\t<dt>$group</dt>\n",
       "\t\t<dd></dd>\n",
       "\t<dt>$names</dt>\n",
       "\t\t<dd>'1'</dd>\n",
       "</dl>\n",
       "</dd>\n",
       "</dl>\n"
      ],
      "text/latex": [
       "\\begin{description}\n",
       "\\item[\\$mpg] \\begin{description}\n",
       "\\item[\\$stats] \\begin{tabular}{l}\n",
       "\t 10.40\\\\\n",
       "\t 15.35\\\\\n",
       "\t 19.20\\\\\n",
       "\t 22.80\\\\\n",
       "\t 33.90\\\\\n",
       "\\end{tabular}\n",
       "\n",
       "\\item[\\$n] 32\n",
       "\\item[\\$conf] \\begin{tabular}{l}\n",
       "\t 17.11916\\\\\n",
       "\t 21.28084\\\\\n",
       "\\end{tabular}\n",
       "\n",
       "\\item[\\$out] \n",
       "\\item[\\$group] \n",
       "\\item[\\$names] '1'\n",
       "\\end{description}\n",
       "\n",
       "\\item[\\$cyl] \\begin{description}\n",
       "\\item[\\$stats] \\begin{tabular}{l}\n",
       "\t 4\\\\\n",
       "\t 4\\\\\n",
       "\t 6\\\\\n",
       "\t 8\\\\\n",
       "\t 8\\\\\n",
       "\\end{tabular}\n",
       "\n",
       "\\item[\\$n] 32\n",
       "\\item[\\$conf] \\begin{tabular}{l}\n",
       "\t 4.882771\\\\\n",
       "\t 7.117229\\\\\n",
       "\\end{tabular}\n",
       "\n",
       "\\item[\\$out] \n",
       "\\item[\\$group] \n",
       "\\item[\\$names] '1'\n",
       "\\end{description}\n",
       "\n",
       "\\item[\\$disp] \\begin{description}\n",
       "\\item[\\$stats] \\begin{tabular}{l}\n",
       "\t  71.10\\\\\n",
       "\t 120.65\\\\\n",
       "\t 196.30\\\\\n",
       "\t 334.00\\\\\n",
       "\t 472.00\\\\\n",
       "\\end{tabular}\n",
       "\n",
       "\\item[\\$n] 32\n",
       "\\item[\\$conf] \\begin{tabular}{l}\n",
       "\t 136.7098\\\\\n",
       "\t 255.8902\\\\\n",
       "\\end{tabular}\n",
       "\n",
       "\\item[\\$out] \n",
       "\\item[\\$group] \n",
       "\\item[\\$names] '1'\n",
       "\\end{description}\n",
       "\n",
       "\\end{description}\n"
      ],
      "text/markdown": [
       "$mpg\n",
       ":   $stats\n",
       ":   \n",
       "| 10.40 | \n",
       "| 15.35 | \n",
       "| 19.20 | \n",
       "| 22.80 | \n",
       "| 33.90 | \n",
       "\n",
       "\n",
       "\n",
       "$n\n",
       ":   32\n",
       "$conf\n",
       ":   \n",
       "| 17.11916 | \n",
       "| 21.28084 | \n",
       "\n",
       "\n",
       "\n",
       "$out\n",
       ":   \n",
       "$group\n",
       ":   \n",
       "$names\n",
       ":   '1'\n",
       "\n",
       "\n",
       "\n",
       "$cyl\n",
       ":   $stats\n",
       ":   \n",
       "| 4 | \n",
       "| 4 | \n",
       "| 6 | \n",
       "| 8 | \n",
       "| 8 | \n",
       "\n",
       "\n",
       "\n",
       "$n\n",
       ":   32\n",
       "$conf\n",
       ":   \n",
       "| 4.882771 | \n",
       "| 7.117229 | \n",
       "\n",
       "\n",
       "\n",
       "$out\n",
       ":   \n",
       "$group\n",
       ":   \n",
       "$names\n",
       ":   '1'\n",
       "\n",
       "\n",
       "\n",
       "$disp\n",
       ":   $stats\n",
       ":   \n",
       "|  71.10 | \n",
       "| 120.65 | \n",
       "| 196.30 | \n",
       "| 334.00 | \n",
       "| 472.00 | \n",
       "\n",
       "\n",
       "\n",
       "$n\n",
       ":   32\n",
       "$conf\n",
       ":   \n",
       "| 136.7098 | \n",
       "| 255.8902 | \n",
       "\n",
       "\n",
       "\n",
       "$out\n",
       ":   \n",
       "$group\n",
       ":   \n",
       "$names\n",
       ":   '1'\n",
       "\n",
       "\n",
       "\n",
       "\n",
       "\n"
      ],
      "text/plain": [
       "$mpg\n",
       "$mpg$stats\n",
       "      [,1]\n",
       "[1,] 10.40\n",
       "[2,] 15.35\n",
       "[3,] 19.20\n",
       "[4,] 22.80\n",
       "[5,] 33.90\n",
       "\n",
       "$mpg$n\n",
       "[1] 32\n",
       "\n",
       "$mpg$conf\n",
       "         [,1]\n",
       "[1,] 17.11916\n",
       "[2,] 21.28084\n",
       "\n",
       "$mpg$out\n",
       "numeric(0)\n",
       "\n",
       "$mpg$group\n",
       "numeric(0)\n",
       "\n",
       "$mpg$names\n",
       "[1] \"1\"\n",
       "\n",
       "\n",
       "$cyl\n",
       "$cyl$stats\n",
       "     [,1]\n",
       "[1,]    4\n",
       "[2,]    4\n",
       "[3,]    6\n",
       "[4,]    8\n",
       "[5,]    8\n",
       "\n",
       "$cyl$n\n",
       "[1] 32\n",
       "\n",
       "$cyl$conf\n",
       "         [,1]\n",
       "[1,] 4.882771\n",
       "[2,] 7.117229\n",
       "\n",
       "$cyl$out\n",
       "numeric(0)\n",
       "\n",
       "$cyl$group\n",
       "numeric(0)\n",
       "\n",
       "$cyl$names\n",
       "[1] \"1\"\n",
       "\n",
       "\n",
       "$disp\n",
       "$disp$stats\n",
       "       [,1]\n",
       "[1,]  71.10\n",
       "[2,] 120.65\n",
       "[3,] 196.30\n",
       "[4,] 334.00\n",
       "[5,] 472.00\n",
       "\n",
       "$disp$n\n",
       "[1] 32\n",
       "\n",
       "$disp$conf\n",
       "         [,1]\n",
       "[1,] 136.7098\n",
       "[2,] 255.8902\n",
       "\n",
       "$disp$out\n",
       "numeric(0)\n",
       "\n",
       "$disp$group\n",
       "numeric(0)\n",
       "\n",
       "$disp$names\n",
       "[1] \"1\"\n",
       "\n"
      ]
     },
     "metadata": {},
     "output_type": "display_data"
    },
    {
     "data": {
      "image/png": "[encoded data removed]",
      "text/plain": [
       "plot without title"
      ]
     },
     "metadata": {},
     "output_type": "display_data"
    }
   ],
   "source": [
    "# use apply to make plots\n",
    "apply(mtcars[,1:3], 2, boxplot)"
   ]
  },
  {
   "cell_type": "markdown",
   "metadata": {},
   "source": [
    "Other apply functions: lapply, sapply, tapply, mapply"
   ]
  },
  {
   "cell_type": "code",
   "execution_count": 97,
   "metadata": {},
   "outputs": [
    {
     "data": {
      "text/html": [
       "<dl>\n",
       "\t<dt>$mpg</dt>\n",
       "\t\t<dd>20.090625</dd>\n",
       "\t<dt>$cyl</dt>\n",
       "\t\t<dd>6.1875</dd>\n",
       "\t<dt>$disp</dt>\n",
       "\t\t<dd>230.721875</dd>\n",
       "\t<dt>$hp</dt>\n",
       "\t\t<dd>146.6875</dd>\n",
       "\t<dt>$drat</dt>\n",
       "\t\t<dd>3.5965625</dd>\n",
       "\t<dt>$wt</dt>\n",
       "\t\t<dd>3.21725</dd>\n",
       "</dl>\n"
      ],
      "text/latex": [
       "\\begin{description}\n",
       "\\item[\\$mpg] 20.090625\n",
       "\\item[\\$cyl] 6.1875\n",
       "\\item[\\$disp] 230.721875\n",
       "\\item[\\$hp] 146.6875\n",
       "\\item[\\$drat] 3.5965625\n",
       "\\item[\\$wt] 3.21725\n",
       "\\end{description}\n"
      ],
      "text/markdown": [
       "$mpg\n",
       ":   20.090625\n",
       "$cyl\n",
       ":   6.1875\n",
       "$disp\n",
       ":   230.721875\n",
       "$hp\n",
       ":   146.6875\n",
       "$drat\n",
       ":   3.5965625\n",
       "$wt\n",
       ":   3.21725\n",
       "\n",
       "\n"
      ],
      "text/plain": [
       "$mpg\n",
       "[1] 20.09062\n",
       "\n",
       "$cyl\n",
       "[1] 6.1875\n",
       "\n",
       "$disp\n",
       "[1] 230.7219\n",
       "\n",
       "$hp\n",
       "[1] 146.6875\n",
       "\n",
       "$drat\n",
       "[1] 3.596563\n",
       "\n",
       "$wt\n",
       "[1] 3.21725\n"
      ]
     },
     "metadata": {},
     "output_type": "display_data"
    }
   ],
   "source": [
    "# lapply gives output as list\n",
    "mean_list <- lapply(mtcars, mean)\n",
    "head(mean_list)"
   ]
  },
  {
   "cell_type": "code",
   "execution_count": 98,
   "metadata": {},
   "outputs": [
    {
     "data": {
      "text/html": [
       "20.090625"
      ],
      "text/latex": [
       "20.090625"
      ],
      "text/markdown": [
       "20.090625"
      ],
      "text/plain": [
       "[1] 20.09062"
      ]
     },
     "metadata": {},
     "output_type": "display_data"
    },
    {
     "data": {
      "text/html": [
       "<strong>$cyl</strong> = 6.1875"
      ],
      "text/latex": [
       "\\textbf{\\$cyl} = 6.1875"
      ],
      "text/markdown": [
       "**$cyl** = 6.1875"
      ],
      "text/plain": [
       "$cyl\n",
       "[1] 6.1875\n"
      ]
     },
     "metadata": {},
     "output_type": "display_data"
    },
    {
     "data": {
      "text/html": [
       "<ol class=list-inline>\n",
       "\t<li>'mpg'</li>\n",
       "\t<li>'cyl'</li>\n",
       "\t<li>'disp'</li>\n",
       "\t<li>'hp'</li>\n",
       "\t<li>'drat'</li>\n",
       "\t<li>'wt'</li>\n",
       "\t<li>'qsec'</li>\n",
       "\t<li>'vs'</li>\n",
       "\t<li>'am'</li>\n",
       "\t<li>'gear'</li>\n",
       "\t<li>'carb'</li>\n",
       "</ol>\n"
      ],
      "text/latex": [
       "\\begin{enumerate*}\n",
       "\\item 'mpg'\n",
       "\\item 'cyl'\n",
       "\\item 'disp'\n",
       "\\item 'hp'\n",
       "\\item 'drat'\n",
       "\\item 'wt'\n",
       "\\item 'qsec'\n",
       "\\item 'vs'\n",
       "\\item 'am'\n",
       "\\item 'gear'\n",
       "\\item 'carb'\n",
       "\\end{enumerate*}\n"
      ],
      "text/markdown": [
       "1. 'mpg'\n",
       "2. 'cyl'\n",
       "3. 'disp'\n",
       "4. 'hp'\n",
       "5. 'drat'\n",
       "6. 'wt'\n",
       "7. 'qsec'\n",
       "8. 'vs'\n",
       "9. 'am'\n",
       "10. 'gear'\n",
       "11. 'carb'\n",
       "\n",
       "\n"
      ],
      "text/plain": [
       " [1] \"mpg\"  \"cyl\"  \"disp\" \"hp\"   \"drat\" \"wt\"   \"qsec\" \"vs\"   \"am\"   \"gear\"\n",
       "[11] \"carb\""
      ]
     },
     "metadata": {},
     "output_type": "display_data"
    }
   ],
   "source": [
    "# several ways to get data from list:\n",
    "mean_list[[1]]                                              # by position in list, unlike other data structures\n",
    "mean_list[\"cyl\"]                                            # by name\n",
    "names(mean_list)                                            # get names of list\n",
    "# names(mean_list) <-c(\"MPG\", \"cyl\"....)                    # assign names to list (length must match)"
   ]
  },
  {
   "cell_type": "code",
   "execution_count": 99,
   "metadata": {},
   "outputs": [
    {
     "data": {
      "text/html": [
       "<dl class=dl-horizontal>\n",
       "\t<dt>mpg</dt>\n",
       "\t\t<dd>20.090625</dd>\n",
       "\t<dt>cyl</dt>\n",
       "\t\t<dd>6.1875</dd>\n",
       "\t<dt>disp</dt>\n",
       "\t\t<dd>230.721875</dd>\n",
       "\t<dt>hp</dt>\n",
       "\t\t<dd>146.6875</dd>\n",
       "\t<dt>drat</dt>\n",
       "\t\t<dd>3.5965625</dd>\n",
       "\t<dt>wt</dt>\n",
       "\t\t<dd>3.21725</dd>\n",
       "\t<dt>qsec</dt>\n",
       "\t\t<dd>17.84875</dd>\n",
       "\t<dt>vs</dt>\n",
       "\t\t<dd>0.4375</dd>\n",
       "\t<dt>am</dt>\n",
       "\t\t<dd>0.40625</dd>\n",
       "\t<dt>gear</dt>\n",
       "\t\t<dd>3.6875</dd>\n",
       "\t<dt>carb</dt>\n",
       "\t\t<dd>2.8125</dd>\n",
       "</dl>\n"
      ],
      "text/latex": [
       "\\begin{description*}\n",
       "\\item[mpg] 20.090625\n",
       "\\item[cyl] 6.1875\n",
       "\\item[disp] 230.721875\n",
       "\\item[hp] 146.6875\n",
       "\\item[drat] 3.5965625\n",
       "\\item[wt] 3.21725\n",
       "\\item[qsec] 17.84875\n",
       "\\item[vs] 0.4375\n",
       "\\item[am] 0.40625\n",
       "\\item[gear] 3.6875\n",
       "\\item[carb] 2.8125\n",
       "\\end{description*}\n"
      ],
      "text/markdown": [
       "mpg\n",
       ":   20.090625cyl\n",
       ":   6.1875disp\n",
       ":   230.721875hp\n",
       ":   146.6875drat\n",
       ":   3.5965625wt\n",
       ":   3.21725qsec\n",
       ":   17.84875vs\n",
       ":   0.4375am\n",
       ":   0.40625gear\n",
       ":   3.6875carb\n",
       ":   2.8125\n",
       "\n"
      ],
      "text/plain": [
       "       mpg        cyl       disp         hp       drat         wt       qsec \n",
       " 20.090625   6.187500 230.721875 146.687500   3.596563   3.217250  17.848750 \n",
       "        vs         am       gear       carb \n",
       "  0.437500   0.406250   3.687500   2.812500 "
      ]
     },
     "metadata": {},
     "output_type": "display_data"
    }
   ],
   "source": [
    "# unlist a list\n",
    "unlist(mean_list)                                            # unlist makes a list into a vector"
   ]
  },
  {
   "cell_type": "code",
   "execution_count": 100,
   "metadata": {
    "collapsed": true
   },
   "outputs": [],
   "source": [
    "# Many times when we need to unlist an object from lapply, we are better off using sapply instead (simplifies): "
   ]
  },
  {
   "cell_type": "code",
   "execution_count": 101,
   "metadata": {},
   "outputs": [
    {
     "data": {
      "text/html": [
       "<dl class=dl-horizontal>\n",
       "\t<dt>mpg</dt>\n",
       "\t\t<dd>20.090625</dd>\n",
       "\t<dt>cyl</dt>\n",
       "\t\t<dd>6.1875</dd>\n",
       "\t<dt>disp</dt>\n",
       "\t\t<dd>230.721875</dd>\n",
       "\t<dt>hp</dt>\n",
       "\t\t<dd>146.6875</dd>\n",
       "\t<dt>drat</dt>\n",
       "\t\t<dd>3.5965625</dd>\n",
       "\t<dt>wt</dt>\n",
       "\t\t<dd>3.21725</dd>\n",
       "\t<dt>qsec</dt>\n",
       "\t\t<dd>17.84875</dd>\n",
       "\t<dt>vs</dt>\n",
       "\t\t<dd>0.4375</dd>\n",
       "\t<dt>am</dt>\n",
       "\t\t<dd>0.40625</dd>\n",
       "\t<dt>gear</dt>\n",
       "\t\t<dd>3.6875</dd>\n",
       "\t<dt>carb</dt>\n",
       "\t\t<dd>2.8125</dd>\n",
       "</dl>\n"
      ],
      "text/latex": [
       "\\begin{description*}\n",
       "\\item[mpg] 20.090625\n",
       "\\item[cyl] 6.1875\n",
       "\\item[disp] 230.721875\n",
       "\\item[hp] 146.6875\n",
       "\\item[drat] 3.5965625\n",
       "\\item[wt] 3.21725\n",
       "\\item[qsec] 17.84875\n",
       "\\item[vs] 0.4375\n",
       "\\item[am] 0.40625\n",
       "\\item[gear] 3.6875\n",
       "\\item[carb] 2.8125\n",
       "\\end{description*}\n"
      ],
      "text/markdown": [
       "mpg\n",
       ":   20.090625cyl\n",
       ":   6.1875disp\n",
       ":   230.721875hp\n",
       ":   146.6875drat\n",
       ":   3.5965625wt\n",
       ":   3.21725qsec\n",
       ":   17.84875vs\n",
       ":   0.4375am\n",
       ":   0.40625gear\n",
       ":   3.6875carb\n",
       ":   2.8125\n",
       "\n"
      ],
      "text/plain": [
       "       mpg        cyl       disp         hp       drat         wt       qsec \n",
       " 20.090625   6.187500 230.721875 146.687500   3.596563   3.217250  17.848750 \n",
       "        vs         am       gear       carb \n",
       "  0.437500   0.406250   3.687500   2.812500 "
      ]
     },
     "metadata": {},
     "output_type": "display_data"
    }
   ],
   "source": [
    "# sapply simplifies output from apply, as best as it can\n",
    "sapply(mtcars, mean)                                         # use sapply\n",
    "\n",
    "# yes, this is exactly the same as colMeans we used in part 3 -- colMeans is a convenience function from sapply"
   ]
  },
  {
   "cell_type": "code",
   "execution_count": 102,
   "metadata": {
    "collapsed": true
   },
   "outputs": [],
   "source": [
    "# apply function to whole matrix with mapply"
   ]
  },
  {
   "cell_type": "code",
   "execution_count": 103,
   "metadata": {},
   "outputs": [
    {
     "data": {
      "text/html": [
       "<table>\n",
       "<thead><tr><th scope=col>mpg</th><th scope=col>cyl</th><th scope=col>disp</th><th scope=col>hp</th><th scope=col>drat</th><th scope=col>wt</th><th scope=col>qsec</th><th scope=col>vs</th><th scope=col>am</th><th scope=col>gear</th><th scope=col>carb</th></tr></thead>\n",
       "<tbody>\n",
       "\t<tr><td>441.00   </td><td>36       </td><td> 25600   </td><td>12100    </td><td>15.2100  </td><td> 6.864400</td><td>270.9316 </td><td>0        </td><td>1        </td><td>16       </td><td>16       </td></tr>\n",
       "\t<tr><td>441.00   </td><td>36       </td><td> 25600   </td><td>12100    </td><td>15.2100  </td><td> 8.265625</td><td>289.6804 </td><td>0        </td><td>1        </td><td>16       </td><td>16       </td></tr>\n",
       "\t<tr><td>519.84   </td><td>16       </td><td> 11664   </td><td> 8649    </td><td>14.8225  </td><td> 5.382400</td><td>346.3321 </td><td>1        </td><td>1        </td><td>16       </td><td> 1       </td></tr>\n",
       "\t<tr><td>457.96   </td><td>36       </td><td> 66564   </td><td>12100    </td><td> 9.4864  </td><td>10.336225</td><td>377.9136 </td><td>1        </td><td>0        </td><td> 9       </td><td> 1       </td></tr>\n",
       "\t<tr><td>349.69   </td><td>64       </td><td>129600   </td><td>30625    </td><td> 9.9225  </td><td>11.833600</td><td>289.6804 </td><td>0        </td><td>0        </td><td> 9       </td><td> 4       </td></tr>\n",
       "\t<tr><td>327.61   </td><td>36       </td><td> 50625   </td><td>11025    </td><td> 7.6176  </td><td>11.971600</td><td>408.8484 </td><td>1        </td><td>0        </td><td> 9       </td><td> 1       </td></tr>\n",
       "</tbody>\n",
       "</table>\n"
      ],
      "text/latex": [
       "\\begin{tabular}{lllllllllll}\n",
       " mpg & cyl & disp & hp & drat & wt & qsec & vs & am & gear & carb\\\\\n",
       "\\hline\n",
       "\t 441.00    & 36        &  25600    & 12100     & 15.2100   &  6.864400 & 270.9316  & 0         & 1         & 16        & 16       \\\\\n",
       "\t 441.00    & 36        &  25600    & 12100     & 15.2100   &  8.265625 & 289.6804  & 0         & 1         & 16        & 16       \\\\\n",
       "\t 519.84    & 16        &  11664    &  8649     & 14.8225   &  5.382400 & 346.3321  & 1         & 1         & 16        &  1       \\\\\n",
       "\t 457.96    & 36        &  66564    & 12100     &  9.4864   & 10.336225 & 377.9136  & 1         & 0         &  9        &  1       \\\\\n",
       "\t 349.69    & 64        & 129600    & 30625     &  9.9225   & 11.833600 & 289.6804  & 0         & 0         &  9        &  4       \\\\\n",
       "\t 327.61    & 36        &  50625    & 11025     &  7.6176   & 11.971600 & 408.8484  & 1         & 0         &  9        &  1       \\\\\n",
       "\\end{tabular}\n"
      ],
      "text/markdown": [
       "\n",
       "mpg | cyl | disp | hp | drat | wt | qsec | vs | am | gear | carb | \n",
       "|---|---|---|---|---|---|\n",
       "| 441.00    | 36        |  25600    | 12100     | 15.2100   |  6.864400 | 270.9316  | 0         | 1         | 16        | 16        | \n",
       "| 441.00    | 36        |  25600    | 12100     | 15.2100   |  8.265625 | 289.6804  | 0         | 1         | 16        | 16        | \n",
       "| 519.84    | 16        |  11664    |  8649     | 14.8225   |  5.382400 | 346.3321  | 1         | 1         | 16        |  1        | \n",
       "| 457.96    | 36        |  66564    | 12100     |  9.4864   | 10.336225 | 377.9136  | 1         | 0         |  9        |  1        | \n",
       "| 349.69    | 64        | 129600    | 30625     |  9.9225   | 11.833600 | 289.6804  | 0         | 0         |  9        |  4        | \n",
       "| 327.61    | 36        |  50625    | 11025     |  7.6176   | 11.971600 | 408.8484  | 1         | 0         |  9        |  1        | \n",
       "\n",
       "\n"
      ],
      "text/plain": [
       "     mpg    cyl disp   hp    drat    wt        qsec     vs am gear carb\n",
       "[1,] 441.00 36   25600 12100 15.2100  6.864400 270.9316 0  1  16   16  \n",
       "[2,] 441.00 36   25600 12100 15.2100  8.265625 289.6804 0  1  16   16  \n",
       "[3,] 519.84 16   11664  8649 14.8225  5.382400 346.3321 1  1  16    1  \n",
       "[4,] 457.96 36   66564 12100  9.4864 10.336225 377.9136 1  0   9    1  \n",
       "[5,] 349.69 64  129600 30625  9.9225 11.833600 289.6804 0  0   9    4  \n",
       "[6,] 327.61 36   50625 11025  7.6176 11.971600 408.8484 1  0   9    1  "
      ]
     },
     "metadata": {},
     "output_type": "display_data"
    }
   ],
   "source": [
    "# mapply applies to matrices-- \n",
    "cars_squared <- mapply(mtcars, FUN = squared)          # use mapply, with the \"squared\" function we defined earlier\n",
    "head(cars_squared)"
   ]
  },
  {
   "cell_type": "code",
   "execution_count": 104,
   "metadata": {
    "collapsed": true
   },
   "outputs": [],
   "source": [
    "# also of related interest here is the SWEEP function"
   ]
  },
  {
   "cell_type": "code",
   "execution_count": 105,
   "metadata": {},
   "outputs": [
    {
     "data": {
      "text/html": [
       "<dl class=dl-horizontal>\n",
       "\t<dt>4</dt>\n",
       "\t\t<dd>26.6636363636364</dd>\n",
       "\t<dt>6</dt>\n",
       "\t\t<dd>19.7428571428571</dd>\n",
       "\t<dt>8</dt>\n",
       "\t\t<dd>15.1</dd>\n",
       "</dl>\n"
      ],
      "text/plain": [
       "       4        6        8 \n",
       "26.66364 19.74286 15.10000 "
      ]
     },
     "metadata": {},
     "output_type": "display_data"
    }
   ],
   "source": [
    "# tapply is used to apply by groups\n",
    "tapply(mtcars$mpg, mtcars$cyl, mean)                       # get mean of mpg by cylinder                                  "
   ]
  },
  {
   "cell_type": "code",
   "execution_count": 106,
   "metadata": {},
   "outputs": [
    {
     "data": {
      "text/html": [
       "<table>\n",
       "<thead><tr><th></th><th scope=col>mpg</th><th scope=col>cyl</th><th scope=col>disp</th><th scope=col>hp</th><th scope=col>drat</th><th scope=col>wt</th><th scope=col>qsec</th><th scope=col>vs</th><th scope=col>am</th><th scope=col>gear</th><th scope=col>carb</th></tr></thead>\n",
       "<tbody>\n",
       "\t<tr><th scope=row>4</th><td>26.66364 </td><td>4        </td><td>105.1364 </td><td> 82.63636</td><td>4.070909 </td><td>2.285727 </td><td>19.13727 </td><td>0.9090909</td><td>0.7272727</td><td>4.090909 </td><td>1.545455 </td></tr>\n",
       "\t<tr><th scope=row>6</th><td>19.74286 </td><td>6        </td><td>183.3143 </td><td>122.28571</td><td>3.585714 </td><td>3.117143 </td><td>17.97714 </td><td>0.5714286</td><td>0.4285714</td><td>3.857143 </td><td>3.428571 </td></tr>\n",
       "\t<tr><th scope=row>8</th><td>15.10000 </td><td>8        </td><td>353.1000 </td><td>209.21429</td><td>3.229286 </td><td>3.999214 </td><td>16.77214 </td><td>0.0000000</td><td>0.1428571</td><td>3.285714 </td><td>3.500000 </td></tr>\n",
       "</tbody>\n",
       "</table>\n"
      ],
      "text/latex": [
       "\\begin{tabular}{r|lllllllllll}\n",
       "  & mpg & cyl & disp & hp & drat & wt & qsec & vs & am & gear & carb\\\\\n",
       "\\hline\n",
       "\t4 & 26.66364  & 4         & 105.1364  &  82.63636 & 4.070909  & 2.285727  & 19.13727  & 0.9090909 & 0.7272727 & 4.090909  & 1.545455 \\\\\n",
       "\t6 & 19.74286  & 6         & 183.3143  & 122.28571 & 3.585714  & 3.117143  & 17.97714  & 0.5714286 & 0.4285714 & 3.857143  & 3.428571 \\\\\n",
       "\t8 & 15.10000  & 8         & 353.1000  & 209.21429 & 3.229286  & 3.999214  & 16.77214  & 0.0000000 & 0.1428571 & 3.285714  & 3.500000 \\\\\n",
       "\\end{tabular}\n"
      ],
      "text/markdown": [
       "\n",
       "| <!--/--> | mpg | cyl | disp | hp | drat | wt | qsec | vs | am | gear | carb | \n",
       "|---|---|---|\n",
       "| 4 | 26.66364  | 4         | 105.1364  |  82.63636 | 4.070909  | 2.285727  | 19.13727  | 0.9090909 | 0.7272727 | 4.090909  | 1.545455  | \n",
       "| 6 | 19.74286  | 6         | 183.3143  | 122.28571 | 3.585714  | 3.117143  | 17.97714  | 0.5714286 | 0.4285714 | 3.857143  | 3.428571  | \n",
       "| 8 | 15.10000  | 8         | 353.1000  | 209.21429 | 3.229286  | 3.999214  | 16.77214  | 0.0000000 | 0.1428571 | 3.285714  | 3.500000  | \n",
       "\n",
       "\n"
      ],
      "text/plain": [
       "  mpg      cyl disp     hp        drat     wt       qsec     vs       \n",
       "4 26.66364 4   105.1364  82.63636 4.070909 2.285727 19.13727 0.9090909\n",
       "6 19.74286 6   183.3143 122.28571 3.585714 3.117143 17.97714 0.5714286\n",
       "8 15.10000 8   353.1000 209.21429 3.229286 3.999214 16.77214 0.0000000\n",
       "  am        gear     carb    \n",
       "4 0.7272727 4.090909 1.545455\n",
       "6 0.4285714 3.857143 3.428571\n",
       "8 0.1428571 3.285714 3.500000"
      ]
     },
     "metadata": {},
     "output_type": "display_data"
    }
   ],
   "source": [
    "# tapply to whole matrix  -- embedded in apply across matrix\n",
    "apply(mtcars, 2, function(x) tapply(x, mtcars$cyl, mean))\n",
    "\n",
    "# here in apply function(x) is used to specify function that follows\n",
    "# in this case the function is to tapply mean of mtcars by cylinder, for each x\n",
    "# then we apply this to each column (2) in mtcars       "
   ]
  },
  {
   "cell_type": "code",
   "execution_count": 107,
   "metadata": {},
   "outputs": [
    {
     "data": {
      "text/html": [
       "<table>\n",
       "<thead><tr><th scope=col>Group.1</th><th scope=col>mpg</th><th scope=col>cyl</th><th scope=col>disp</th><th scope=col>hp</th><th scope=col>drat</th><th scope=col>wt</th><th scope=col>qsec</th><th scope=col>vs</th><th scope=col>am</th><th scope=col>gear</th><th scope=col>carb</th></tr></thead>\n",
       "<tbody>\n",
       "\t<tr><td>4        </td><td>26.66364 </td><td>4        </td><td>105.1364 </td><td> 82.63636</td><td>4.070909 </td><td>2.285727 </td><td>19.13727 </td><td>0.9090909</td><td>0.7272727</td><td>4.090909 </td><td>1.545455 </td></tr>\n",
       "\t<tr><td>6        </td><td>19.74286 </td><td>6        </td><td>183.3143 </td><td>122.28571</td><td>3.585714 </td><td>3.117143 </td><td>17.97714 </td><td>0.5714286</td><td>0.4285714</td><td>3.857143 </td><td>3.428571 </td></tr>\n",
       "\t<tr><td>8        </td><td>15.10000 </td><td>8        </td><td>353.1000 </td><td>209.21429</td><td>3.229286 </td><td>3.999214 </td><td>16.77214 </td><td>0.0000000</td><td>0.1428571</td><td>3.285714 </td><td>3.500000 </td></tr>\n",
       "</tbody>\n",
       "</table>\n"
      ],
      "text/latex": [
       "\\begin{tabular}{r|llllllllllll}\n",
       " Group.1 & mpg & cyl & disp & hp & drat & wt & qsec & vs & am & gear & carb\\\\\n",
       "\\hline\n",
       "\t 4         & 26.66364  & 4         & 105.1364  &  82.63636 & 4.070909  & 2.285727  & 19.13727  & 0.9090909 & 0.7272727 & 4.090909  & 1.545455 \\\\\n",
       "\t 6         & 19.74286  & 6         & 183.3143  & 122.28571 & 3.585714  & 3.117143  & 17.97714  & 0.5714286 & 0.4285714 & 3.857143  & 3.428571 \\\\\n",
       "\t 8         & 15.10000  & 8         & 353.1000  & 209.21429 & 3.229286  & 3.999214  & 16.77214  & 0.0000000 & 0.1428571 & 3.285714  & 3.500000 \\\\\n",
       "\\end{tabular}\n"
      ],
      "text/markdown": [
       "\n",
       "Group.1 | mpg | cyl | disp | hp | drat | wt | qsec | vs | am | gear | carb | \n",
       "|---|---|---|\n",
       "| 4         | 26.66364  | 4         | 105.1364  |  82.63636 | 4.070909  | 2.285727  | 19.13727  | 0.9090909 | 0.7272727 | 4.090909  | 1.545455  | \n",
       "| 6         | 19.74286  | 6         | 183.3143  | 122.28571 | 3.585714  | 3.117143  | 17.97714  | 0.5714286 | 0.4285714 | 3.857143  | 3.428571  | \n",
       "| 8         | 15.10000  | 8         | 353.1000  | 209.21429 | 3.229286  | 3.999214  | 16.77214  | 0.0000000 | 0.1428571 | 3.285714  | 3.500000  | \n",
       "\n",
       "\n"
      ],
      "text/plain": [
       "  Group.1 mpg      cyl disp     hp        drat     wt       qsec     vs       \n",
       "1 4       26.66364 4   105.1364  82.63636 4.070909 2.285727 19.13727 0.9090909\n",
       "2 6       19.74286 6   183.3143 122.28571 3.585714 3.117143 17.97714 0.5714286\n",
       "3 8       15.10000 8   353.1000 209.21429 3.229286 3.999214 16.77214 0.0000000\n",
       "  am        gear     carb    \n",
       "1 0.7272727 4.090909 1.545455\n",
       "2 0.4285714 3.857143 3.428571\n",
       "3 0.1428571 3.285714 3.500000"
      ]
     },
     "metadata": {},
     "output_type": "display_data"
    }
   ],
   "source": [
    "# note the outcome is almost exactly the same as when we used aggregate in part 3\n",
    "cyl_means <-aggregate(mtcars, by=list(mtcars$cyl), FUN=mean)         # use aggregate, with function as mean\n",
    "#colnames(cyl_means)[1] <-\"cylinders\"                                # rename first column\n",
    "cyl_means"
   ]
  },
  {
   "cell_type": "code",
   "execution_count": null,
   "metadata": {
    "collapsed": true
   },
   "outputs": [],
   "source": []
  },
  {
   "cell_type": "markdown",
   "metadata": {},
   "source": [
    "\n",
    "## Keep clean organized code and files, and good luck learning more R! "
   ]
  },
  {
   "cell_type": "code",
   "execution_count": null,
   "metadata": {
    "collapsed": true
   },
   "outputs": [],
   "source": []
  }
 ],
 "metadata": {
  "anaconda-cloud": {},
  "kernelspec": {
   "display_name": "R",
   "language": "R",
   "name": "ir"
  },
  "language_info": {
   "codemirror_mode": "r",
   "file_extension": ".r",
   "mimetype": "text/x-r-source",
   "name": "R",
   "pygments_lexer": "r",
   "version": "3.4.2"
  }
 },
 "nbformat": 4,
 "nbformat_minor": 1
}
